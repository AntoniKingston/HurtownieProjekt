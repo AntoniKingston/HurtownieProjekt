{
 "cells": [
  {
   "cell_type": "code",
   "execution_count": 2,
   "id": "initial_id",
   "metadata": {
    "collapsed": true,
    "ExecuteTime": {
     "end_time": "2025-06-08T06:46:30.377358Z",
     "start_time": "2025-06-08T06:46:27.506698Z"
    }
   },
   "outputs": [],
   "source": [
    "import numpy as np\n",
    "import pandas as pd\n",
    "import matplotlib.pyplot as plt"
   ]
  },
  {
   "cell_type": "markdown",
   "source": [
    "## Dealing with type and nans"
   ],
   "metadata": {
    "collapsed": false
   },
   "id": "6c5c83db1dfd81e6"
  },
  {
   "cell_type": "code",
   "outputs": [
    {
     "data": {
      "text/plain": "        YEAR  QUARTER  MONTH  DAY_OF_MONTH  DAY_OF_WEEK  \\\n0       2025        1      1             1            3   \n1       2025        1      1             1            3   \n2       2025        1      1             1            3   \n3       2025        1      1             1            3   \n4       2025        1      1             1            3   \n...      ...      ...    ...           ...          ...   \n539742  2025        1      1            31            5   \n539743  2025        1      1            31            5   \n539744  2025        1      1            31            5   \n539745  2025        1      1            31            5   \n539746  2025        1      1            31            5   \n\n                      FL_DATE OP_UNIQUE_CARRIER  OP_CARRIER_AIRLINE_ID  \\\n0        1/1/2025 12:00:00 AM                AA                  19805   \n1        1/1/2025 12:00:00 AM                AA                  19805   \n2        1/1/2025 12:00:00 AM                AA                  19805   \n3        1/1/2025 12:00:00 AM                AA                  19805   \n4        1/1/2025 12:00:00 AM                AA                  19805   \n...                       ...               ...                    ...   \n539742  1/31/2025 12:00:00 AM                YX                  20452   \n539743  1/31/2025 12:00:00 AM                YX                  20452   \n539744  1/31/2025 12:00:00 AM                YX                  20452   \n539745  1/31/2025 12:00:00 AM                YX                  20452   \n539746  1/31/2025 12:00:00 AM                YX                  20452   \n\n       OP_CARRIER TAIL_NUM  ...  TAXI_IN  CRS_ARR_TIME  ARR_TIME  ARR_DELAY  \\\n0              AA   N101NN  ...      6.0          1912      1832        -40   \n1              AA   N101NN  ...      6.0           940       925        -15   \n2              AA   N102UW  ...     11.0          1206      1142        -24   \n3              AA   N103NN  ...     12.0            29        27         -2   \n4              AA   N103NN  ...     16.0          1140      1111        -29   \n...           ...      ...  ...      ...           ...       ...        ...   \n539742         YX   N979RP  ...     13.0          1732      1756         24   \n539743         YX   N979RP  ...      7.0          1223      1205        -18   \n539744         YX   N979RP  ...     11.0          1500      1440        -20   \n539745         YX   N979RP  ...     11.0           900       847        -13   \n539746         YX   N979RP  ...     14.0          2233      2316         43   \n\n       ARR_DELAY_NEW ARR_DELAY_GROUP ARR_TIME_BLK CANCELLED  \\\n0                0.0            -2.0    1900-1959         0   \n1                0.0            -1.0    0900-0959         0   \n2                0.0            -2.0    1200-1259         0   \n3                0.0            -1.0    0001-0559         0   \n4                0.0            -2.0    1100-1159         0   \n...              ...             ...          ...       ...   \n539742          24.0             1.0    1700-1759         0   \n539743           0.0            -2.0    1200-1259         0   \n539744           0.0            -2.0    1500-1559         0   \n539745           0.0            -1.0    0900-0959         0   \n539746          43.0             2.0    2200-2259         0   \n\n        CANCELLATION_CODE  DIVERTED  \n0                     NaN         0  \n1                     NaN         0  \n2                     NaN         0  \n3                     NaN         0  \n4                     NaN         0  \n...                   ...       ...  \n539742                NaN         0  \n539743                NaN         0  \n539744                NaN         0  \n539745                NaN         0  \n539746                NaN         0  \n\n[537217 rows x 42 columns]",
      "text/html": "<div>\n<style scoped>\n    .dataframe tbody tr th:only-of-type {\n        vertical-align: middle;\n    }\n\n    .dataframe tbody tr th {\n        vertical-align: top;\n    }\n\n    .dataframe thead th {\n        text-align: right;\n    }\n</style>\n<table border=\"1\" class=\"dataframe\">\n  <thead>\n    <tr style=\"text-align: right;\">\n      <th></th>\n      <th>YEAR</th>\n      <th>QUARTER</th>\n      <th>MONTH</th>\n      <th>DAY_OF_MONTH</th>\n      <th>DAY_OF_WEEK</th>\n      <th>FL_DATE</th>\n      <th>OP_UNIQUE_CARRIER</th>\n      <th>OP_CARRIER_AIRLINE_ID</th>\n      <th>OP_CARRIER</th>\n      <th>TAIL_NUM</th>\n      <th>...</th>\n      <th>TAXI_IN</th>\n      <th>CRS_ARR_TIME</th>\n      <th>ARR_TIME</th>\n      <th>ARR_DELAY</th>\n      <th>ARR_DELAY_NEW</th>\n      <th>ARR_DELAY_GROUP</th>\n      <th>ARR_TIME_BLK</th>\n      <th>CANCELLED</th>\n      <th>CANCELLATION_CODE</th>\n      <th>DIVERTED</th>\n    </tr>\n  </thead>\n  <tbody>\n    <tr>\n      <th>0</th>\n      <td>2025</td>\n      <td>1</td>\n      <td>1</td>\n      <td>1</td>\n      <td>3</td>\n      <td>1/1/2025 12:00:00 AM</td>\n      <td>AA</td>\n      <td>19805</td>\n      <td>AA</td>\n      <td>N101NN</td>\n      <td>...</td>\n      <td>6.0</td>\n      <td>1912</td>\n      <td>1832</td>\n      <td>-40</td>\n      <td>0.0</td>\n      <td>-2.0</td>\n      <td>1900-1959</td>\n      <td>0</td>\n      <td>NaN</td>\n      <td>0</td>\n    </tr>\n    <tr>\n      <th>1</th>\n      <td>2025</td>\n      <td>1</td>\n      <td>1</td>\n      <td>1</td>\n      <td>3</td>\n      <td>1/1/2025 12:00:00 AM</td>\n      <td>AA</td>\n      <td>19805</td>\n      <td>AA</td>\n      <td>N101NN</td>\n      <td>...</td>\n      <td>6.0</td>\n      <td>940</td>\n      <td>925</td>\n      <td>-15</td>\n      <td>0.0</td>\n      <td>-1.0</td>\n      <td>0900-0959</td>\n      <td>0</td>\n      <td>NaN</td>\n      <td>0</td>\n    </tr>\n    <tr>\n      <th>2</th>\n      <td>2025</td>\n      <td>1</td>\n      <td>1</td>\n      <td>1</td>\n      <td>3</td>\n      <td>1/1/2025 12:00:00 AM</td>\n      <td>AA</td>\n      <td>19805</td>\n      <td>AA</td>\n      <td>N102UW</td>\n      <td>...</td>\n      <td>11.0</td>\n      <td>1206</td>\n      <td>1142</td>\n      <td>-24</td>\n      <td>0.0</td>\n      <td>-2.0</td>\n      <td>1200-1259</td>\n      <td>0</td>\n      <td>NaN</td>\n      <td>0</td>\n    </tr>\n    <tr>\n      <th>3</th>\n      <td>2025</td>\n      <td>1</td>\n      <td>1</td>\n      <td>1</td>\n      <td>3</td>\n      <td>1/1/2025 12:00:00 AM</td>\n      <td>AA</td>\n      <td>19805</td>\n      <td>AA</td>\n      <td>N103NN</td>\n      <td>...</td>\n      <td>12.0</td>\n      <td>29</td>\n      <td>27</td>\n      <td>-2</td>\n      <td>0.0</td>\n      <td>-1.0</td>\n      <td>0001-0559</td>\n      <td>0</td>\n      <td>NaN</td>\n      <td>0</td>\n    </tr>\n    <tr>\n      <th>4</th>\n      <td>2025</td>\n      <td>1</td>\n      <td>1</td>\n      <td>1</td>\n      <td>3</td>\n      <td>1/1/2025 12:00:00 AM</td>\n      <td>AA</td>\n      <td>19805</td>\n      <td>AA</td>\n      <td>N103NN</td>\n      <td>...</td>\n      <td>16.0</td>\n      <td>1140</td>\n      <td>1111</td>\n      <td>-29</td>\n      <td>0.0</td>\n      <td>-2.0</td>\n      <td>1100-1159</td>\n      <td>0</td>\n      <td>NaN</td>\n      <td>0</td>\n    </tr>\n    <tr>\n      <th>...</th>\n      <td>...</td>\n      <td>...</td>\n      <td>...</td>\n      <td>...</td>\n      <td>...</td>\n      <td>...</td>\n      <td>...</td>\n      <td>...</td>\n      <td>...</td>\n      <td>...</td>\n      <td>...</td>\n      <td>...</td>\n      <td>...</td>\n      <td>...</td>\n      <td>...</td>\n      <td>...</td>\n      <td>...</td>\n      <td>...</td>\n      <td>...</td>\n      <td>...</td>\n      <td>...</td>\n    </tr>\n    <tr>\n      <th>539742</th>\n      <td>2025</td>\n      <td>1</td>\n      <td>1</td>\n      <td>31</td>\n      <td>5</td>\n      <td>1/31/2025 12:00:00 AM</td>\n      <td>YX</td>\n      <td>20452</td>\n      <td>YX</td>\n      <td>N979RP</td>\n      <td>...</td>\n      <td>13.0</td>\n      <td>1732</td>\n      <td>1756</td>\n      <td>24</td>\n      <td>24.0</td>\n      <td>1.0</td>\n      <td>1700-1759</td>\n      <td>0</td>\n      <td>NaN</td>\n      <td>0</td>\n    </tr>\n    <tr>\n      <th>539743</th>\n      <td>2025</td>\n      <td>1</td>\n      <td>1</td>\n      <td>31</td>\n      <td>5</td>\n      <td>1/31/2025 12:00:00 AM</td>\n      <td>YX</td>\n      <td>20452</td>\n      <td>YX</td>\n      <td>N979RP</td>\n      <td>...</td>\n      <td>7.0</td>\n      <td>1223</td>\n      <td>1205</td>\n      <td>-18</td>\n      <td>0.0</td>\n      <td>-2.0</td>\n      <td>1200-1259</td>\n      <td>0</td>\n      <td>NaN</td>\n      <td>0</td>\n    </tr>\n    <tr>\n      <th>539744</th>\n      <td>2025</td>\n      <td>1</td>\n      <td>1</td>\n      <td>31</td>\n      <td>5</td>\n      <td>1/31/2025 12:00:00 AM</td>\n      <td>YX</td>\n      <td>20452</td>\n      <td>YX</td>\n      <td>N979RP</td>\n      <td>...</td>\n      <td>11.0</td>\n      <td>1500</td>\n      <td>1440</td>\n      <td>-20</td>\n      <td>0.0</td>\n      <td>-2.0</td>\n      <td>1500-1559</td>\n      <td>0</td>\n      <td>NaN</td>\n      <td>0</td>\n    </tr>\n    <tr>\n      <th>539745</th>\n      <td>2025</td>\n      <td>1</td>\n      <td>1</td>\n      <td>31</td>\n      <td>5</td>\n      <td>1/31/2025 12:00:00 AM</td>\n      <td>YX</td>\n      <td>20452</td>\n      <td>YX</td>\n      <td>N979RP</td>\n      <td>...</td>\n      <td>11.0</td>\n      <td>900</td>\n      <td>847</td>\n      <td>-13</td>\n      <td>0.0</td>\n      <td>-1.0</td>\n      <td>0900-0959</td>\n      <td>0</td>\n      <td>NaN</td>\n      <td>0</td>\n    </tr>\n    <tr>\n      <th>539746</th>\n      <td>2025</td>\n      <td>1</td>\n      <td>1</td>\n      <td>31</td>\n      <td>5</td>\n      <td>1/31/2025 12:00:00 AM</td>\n      <td>YX</td>\n      <td>20452</td>\n      <td>YX</td>\n      <td>N979RP</td>\n      <td>...</td>\n      <td>14.0</td>\n      <td>2233</td>\n      <td>2316</td>\n      <td>43</td>\n      <td>43.0</td>\n      <td>2.0</td>\n      <td>2200-2259</td>\n      <td>0</td>\n      <td>NaN</td>\n      <td>0</td>\n    </tr>\n  </tbody>\n</table>\n<p>537217 rows × 42 columns</p>\n</div>"
     },
     "execution_count": 21,
     "metadata": {},
     "output_type": "execute_result"
    }
   ],
   "source": [
    "df"
   ],
   "metadata": {
    "collapsed": false,
    "ExecuteTime": {
     "end_time": "2025-06-08T07:01:17.985790Z",
     "start_time": "2025-06-08T07:01:17.607675Z"
    }
   },
   "id": "c4aea17089fd76ab",
   "execution_count": 21
  },
  {
   "cell_type": "code",
   "outputs": [],
   "source": [
    "df = pd.read_csv(\"C:\\\\Users\\DELL\\Downloads\\T_ONTIME_REPORTING_20250512_025426\\T_ONTIME_REPORTING.csv\")"
   ],
   "metadata": {
    "collapsed": false,
    "ExecuteTime": {
     "end_time": "2025-06-08T06:46:38.518940Z",
     "start_time": "2025-06-08T06:46:32.807611Z"
    }
   },
   "id": "1d5f63ea826cec72",
   "execution_count": 3
  },
  {
   "cell_type": "code",
   "outputs": [
    {
     "name": "stdout",
     "output_type": "stream",
     "text": [
      "Index(['DEP_TIME', 'DEP_DELAY', 'DEP_DELAY_NEW', 'DEP_DELAY_GROUP', 'TAXI_OUT',\n",
      "       'TAXI_IN', 'ARR_TIME', 'ARR_DELAY', 'ARR_DELAY_NEW', 'ARR_DELAY_GROUP',\n",
      "       'CANCELLED', 'DIVERTED'],\n",
      "      dtype='object')\n"
     ]
    }
   ],
   "source": [
    "float_cols = df.select_dtypes(include=['float']).columns\n",
    "print(float_cols)"
   ],
   "metadata": {
    "collapsed": false,
    "ExecuteTime": {
     "end_time": "2025-06-08T06:50:44.748269Z",
     "start_time": "2025-06-08T06:50:44.698872Z"
    }
   },
   "id": "2ac39fa84d10d63a",
   "execution_count": 10
  },
  {
   "cell_type": "code",
   "outputs": [],
   "source": [
    "float_cols_to_change=['DEP_TIME','ARR_TIME','DEP_DELAY','ARR_DELAY','CANCELLED', 'DIVERTED']\n",
    "df[float_cols_to_change] = df[float_cols_to_change].astype(int)\n"
   ],
   "metadata": {
    "collapsed": false,
    "ExecuteTime": {
     "end_time": "2025-06-08T06:58:29.025346Z",
     "start_time": "2025-06-08T06:58:28.908415Z"
    }
   },
   "id": "d9b359328c8e4490",
   "execution_count": 18
  },
  {
   "cell_type": "code",
   "outputs": [],
   "source": [
    "df['DEP_DELAY'] = df['DEP_DELAY'].fillna(0)\n",
    "df['ARR_DELAY'] = df['ARR_DELAY'].fillna(0)\n",
    "df['DEP_TIME'] = df['DEP_TIME'].fillna(df['CRS_DEP_TIME'])\n",
    "df['ARR_TIME'] = df['ARR_TIME'].fillna(df['CRS_ARR_TIME'])\n"
   ],
   "metadata": {
    "collapsed": false,
    "ExecuteTime": {
     "end_time": "2025-06-08T06:55:32.956729Z",
     "start_time": "2025-06-08T06:55:32.848814Z"
    }
   },
   "id": "6fbf828aea4da35d",
   "execution_count": 16
  },
  {
   "cell_type": "code",
   "outputs": [
    {
     "data": {
      "text/plain": "YEAR                          0\nQUARTER                       0\nMONTH                         0\nDAY_OF_MONTH                  0\nDAY_OF_WEEK                   0\nFL_DATE                       0\nOP_UNIQUE_CARRIER             0\nOP_CARRIER_AIRLINE_ID         0\nOP_CARRIER                    0\nTAIL_NUM                   2530\nOP_CARRIER_FL_NUM             0\nORIGIN_AIRPORT_ID             0\nORIGIN_AIRPORT_SEQ_ID         0\nORIGIN_CITY_MARKET_ID         0\nORIGIN                        0\nORIGIN_CITY_NAME              0\nORIGIN_STATE_ABR              0\nORIGIN_STATE_NM               0\nDEST_AIRPORT_ID               0\nDEST_AIRPORT_SEQ_ID           0\nDEST_CITY_MARKET_ID           0\nDEST                          0\nDEST_CITY_NAME                0\nDEST_STATE_ABR                0\nDEST_STATE_NM                 0\nCRS_DEP_TIME                  0\nDEP_TIME                  15886\nDEP_DELAY                 15923\nDEP_DELAY_NEW             15923\nDEP_DELAY_GROUP           15923\nDEP_TIME_BLK                  0\nTAXI_OUT                  16227\nTAXI_IN                   16580\nCRS_ARR_TIME                  0\nARR_TIME                  16580\nARR_DELAY                 17478\nARR_DELAY_NEW             17478\nARR_DELAY_GROUP           17478\nARR_TIME_BLK                  0\nCANCELLED                     0\nCANCELLATION_CODE        523435\nDIVERTED                      0\ndtype: int64"
     },
     "execution_count": 6,
     "metadata": {},
     "output_type": "execute_result"
    }
   ],
   "source": [
    "df.isna().any().any()\n",
    "df.isna().sum()\n"
   ],
   "metadata": {
    "collapsed": false,
    "ExecuteTime": {
     "end_time": "2025-06-08T06:47:46.266800Z",
     "start_time": "2025-06-08T06:47:45.173834Z"
    }
   },
   "id": "b0dfbac760545954",
   "execution_count": 6
  },
  {
   "cell_type": "code",
   "outputs": [],
   "source": [
    "df = df.dropna(subset=['TAIL_NUM'])\n",
    "df.to_csv(\"C:\\\\Users\\DELL\\Downloads\\T_ONTIME_REPORTING_20250512_025426\\T_ONTIME_REPORTING2.csv\")"
   ],
   "metadata": {
    "collapsed": false,
    "ExecuteTime": {
     "end_time": "2025-06-08T07:01:12.430365Z",
     "start_time": "2025-06-08T07:01:11.892893Z"
    }
   },
   "id": "f76d35e0c1b0de84",
   "execution_count": 20
  },
  {
   "cell_type": "markdown",
   "source": [
    "## finished dealing with fact data types and nans"
   ],
   "metadata": {
    "collapsed": false
   },
   "id": "fbd354aaa06b90d8"
  },
  {
   "cell_type": "code",
   "outputs": [
    {
     "name": "stdout",
     "output_type": "stream",
     "text": [
      "[1]\n"
     ]
    }
   ],
   "source": [
    "months=pd.unique(facts['MONTH'])\n",
    "print(months)"
   ],
   "metadata": {
    "collapsed": false,
    "ExecuteTime": {
     "end_time": "2025-06-05T11:43:34.310771Z",
     "start_time": "2025-06-05T11:43:34.296104Z"
    }
   },
   "id": "ec830871099a2a51",
   "execution_count": 25
  },
  {
   "cell_type": "code",
   "outputs": [],
   "source": [],
   "metadata": {
    "collapsed": false
   },
   "id": "efb7349ffddb5a10"
  },
  {
   "cell_type": "code",
   "outputs": [],
   "source": [
    "airports_unique=pd.unique(facts['ORIGIN'])"
   ],
   "metadata": {
    "collapsed": false,
    "ExecuteTime": {
     "end_time": "2025-05-12T07:21:22.615523Z",
     "start_time": "2025-05-12T07:21:22.572499Z"
    }
   },
   "id": "75ac2cd7c954914b",
   "execution_count": 5
  },
  {
   "cell_type": "code",
   "outputs": [],
   "source": [
    "airlines_unique=pd.unique(facts[])\n"
   ],
   "metadata": {
    "collapsed": false
   },
   "id": "28f115179d41e178"
  },
  {
   "cell_type": "code",
   "outputs": [
    {
     "name": "stdout",
     "output_type": "stream",
     "text": [
      "0         -6.0\n",
      "1         -3.0\n",
      "2         -2.0\n",
      "3         -8.0\n",
      "4         -5.0\n",
      "          ... \n",
      "539742    30.0\n",
      "539743    -8.0\n",
      "539744    -9.0\n",
      "539745    -3.0\n",
      "539746    29.0\n",
      "Name: DEP_DELAY, Length: 539747, dtype: float64\n"
     ]
    }
   ],
   "source": [
    "print(facts['DEP_DELAY'])"
   ],
   "metadata": {
    "collapsed": false,
    "ExecuteTime": {
     "end_time": "2025-05-12T07:48:25.537986Z",
     "start_time": "2025-05-12T07:48:25.502465Z"
    }
   },
   "id": "2f2919d6d657ef3c",
   "execution_count": 16
  },
  {
   "cell_type": "code",
   "outputs": [
    {
     "name": "stdout",
     "output_type": "stream",
     "text": [
      "['SFO' 'JFK' 'SAT' 'BOS' 'LAX' 'PHX' 'SMF' 'CMH' 'DFW' 'MEM' 'OKC' 'CLE'\n",
      " 'CLT' 'EWR' 'DSM' 'BNA' 'CHS' 'AUS' 'BHM' 'BWI' 'MCI' 'PHL' 'LGA' 'EUG'\n",
      " 'MDT' 'TPA' 'GRR' 'BOI' 'ORD' 'MSN' 'SRQ' 'IND' 'SAN' 'PBI' 'RSW' 'EYW'\n",
      " 'SDF' 'DEN' 'STT' 'LAS' 'FAT' 'GEG' 'ATL' 'PNS' 'BUF' 'SLC' 'PIT' 'XNA'\n",
      " 'PSP' 'JAX' 'MCO' 'ONT' 'RDU' 'TUS' 'MIA' 'MSY' 'SJU' 'FLL' 'PDX' 'TYS'\n",
      " 'SEA' 'MSP' 'ELP' 'STL' 'VPS' 'BDL' 'STX' 'DCA' 'SNA' 'HDN' 'ORF' 'IAH'\n",
      " 'KOA' 'EGE' 'HNL' 'OGG' 'ANC' 'LIH' 'RIC' 'DTW' 'CID' 'PVD' 'ABQ' 'SAV'\n",
      " 'MKE' 'OMA' 'SYR' 'ALB' 'CVG' 'RNO' 'SBA' 'COS' 'CAE' 'MRY' 'LIT' 'TUL'\n",
      " 'SBP' 'FSD' 'ROC' 'ECP' 'LBB' 'AVP' 'GUC' 'BZN' 'BFL' 'ILM' 'AMA' 'MTJ'\n",
      " 'MFE' 'BUR' 'JAC' 'SJC' 'PWM' 'IAD' 'MSO' 'GSP' 'GSO' 'OAK' 'FAI' 'PAE'\n",
      " 'DAL' 'RDM' 'JNU' 'ADK' 'KTN' 'SIT' 'PSC' 'BQN' 'PQI' 'HPN' 'ISP' 'PSE'\n",
      " 'ORH' 'IDA' 'FCA' 'BIL' 'LGB' 'HRL' 'TVC' 'ROA' 'TLH' 'ICT' 'BTV' 'BIS'\n",
      " 'GRB' 'DAB' 'FAR' 'HSV' 'MDW' 'HOU' 'MYR' 'GPT' 'JAN' 'MLB' 'GNV' 'TTN'\n",
      " 'PGD' 'TOL' 'PBG' 'PIE' 'SGF' 'SFB' 'SPI' 'ABE' 'ATW' 'FNT' 'SBN' 'AVL'\n",
      " 'USA' 'RFD' 'IAG' 'LEX' 'LCK' 'AZA' 'PIA' 'ELM' 'MOT' 'FWA' 'PVU' 'BGR'\n",
      " 'RAP' 'BLV' 'CAK' 'PSM' 'GRI' 'SHV' 'BLI' 'SCK' 'ITO' 'MHK' 'CRP' 'ABI'\n",
      " 'HHH' 'BTR' 'LRD' 'GRK' 'LFT' 'BMI' 'CHA' 'BRO' 'MLI' 'DAY' 'GJT' 'EVV'\n",
      " 'MAF' 'MOB' 'STS' 'SPS' 'MQT' 'COU' 'MLU' 'CMI' 'GCK' 'FSM' 'CLL' 'ACY'\n",
      " 'LBE' 'AGS' 'OAJ' 'CRW' 'FAY' 'MHT' 'TRI' 'ACV' 'ASE' 'SAF' 'MFR' 'RDD'\n",
      " 'MBS' 'OTH' 'CMX' 'MCW' 'FOD' 'SGU' 'PIH' 'HLN' 'SUN' 'LWS' 'GTF' 'TWF'\n",
      " 'DLH' 'RST' 'CYS' 'DDC' 'DIK' 'EAR' 'LNK' 'COD' 'CPR' 'DRO' 'HOB' 'LAR'\n",
      " 'SHR' 'JST' 'MGW' 'PIB' 'VCT' 'DEC' 'EAU' 'SWO' 'SJT' 'LCH' 'TYR' 'ROW'\n",
      " 'CHO' 'BPT' 'GGG' 'MGM' 'BIH' 'EKO' 'CDC' 'TXK' 'BTM' 'RHI' 'BRD' 'INL'\n",
      " 'CIU' 'HIB' 'XWA' 'ESC' 'APN' 'YUM' 'FLG' 'ABR' 'IMT' 'PLN' 'LAW' 'AEX'\n",
      " 'BJI' 'ACT' 'LAN' 'AZO' 'LBL' 'MEI' 'RIW' 'BFF' 'HYS' 'PRC' 'RKS' 'SUX'\n",
      " 'DVL' 'JMS' 'SLN' 'GCC' 'LBF' 'JLN' 'GUM' 'SPN' 'SCC' 'PSG' 'WRG' 'CDV'\n",
      " 'YAK' 'ADQ' 'OTZ' 'BRW' 'BET' 'OME' 'STC' 'GFK' 'SWF' 'HGR' 'HTS' 'SMX'\n",
      " 'CKB' 'PPG' 'SCE' 'ABY' 'LSE']\n",
      "329\n"
     ]
    }
   ],
   "source": [
    "print(airports_unique)\n",
    "print(len(airports_unique))"
   ],
   "metadata": {
    "collapsed": false,
    "ExecuteTime": {
     "end_time": "2025-05-12T07:34:55.561099Z",
     "start_time": "2025-05-12T07:34:55.515565Z"
    }
   },
   "id": "403cb27f9158dac0",
   "execution_count": 12
  },
  {
   "cell_type": "code",
   "outputs": [],
   "source": [
    "carriers=pd.unique(facts['OP_UNIQUE_CARRIER'])"
   ],
   "metadata": {
    "collapsed": false,
    "ExecuteTime": {
     "end_time": "2025-06-05T10:03:43.602188Z",
     "start_time": "2025-06-05T10:03:43.551431Z"
    }
   },
   "id": "2cbb75b7b378820",
   "execution_count": 5
  },
  {
   "cell_type": "code",
   "outputs": [
    {
     "name": "stdout",
     "output_type": "stream",
     "text": [
      "['AA' 'AS' 'B6' 'DL' 'F9' 'G4' 'HA' 'MQ' 'NK' 'OH' 'OO' 'UA' 'WN' 'YX']\n"
     ]
    }
   ],
   "source": [
    "print(carriers)"
   ],
   "metadata": {
    "collapsed": false,
    "ExecuteTime": {
     "end_time": "2025-06-05T10:03:46.962885Z",
     "start_time": "2025-06-05T10:03:46.945618Z"
    }
   },
   "id": "6214425f7aaa139e",
   "execution_count": 6
  },
  {
   "cell_type": "code",
   "outputs": [
    {
     "name": "stdout",
     "output_type": "stream",
     "text": [
      "   YEAR  QUARTER  MONTH  DAY_OF_MONTH  DAY_OF_WEEK               FL_DATE  \\\n",
      "0  2025        1      1             1            3  1/1/2025 12:00:00 AM   \n",
      "1  2025        1      1             1            3  1/1/2025 12:00:00 AM   \n",
      "2  2025        1      1             1            3  1/1/2025 12:00:00 AM   \n",
      "3  2025        1      1             1            3  1/1/2025 12:00:00 AM   \n",
      "4  2025        1      1             1            3  1/1/2025 12:00:00 AM   \n",
      "5  2025        1      1             1            3  1/1/2025 12:00:00 AM   \n",
      "6  2025        1      1             1            3  1/1/2025 12:00:00 AM   \n",
      "7  2025        1      1             1            3  1/1/2025 12:00:00 AM   \n",
      "8  2025        1      1             1            3  1/1/2025 12:00:00 AM   \n",
      "9  2025        1      1             1            3  1/1/2025 12:00:00 AM   \n",
      "\n",
      "  OP_UNIQUE_CARRIER  OP_CARRIER_AIRLINE_ID OP_CARRIER TAIL_NUM  ...  TAXI_IN  \\\n",
      "0                AA                  19805         AA   N101NN  ...      6.0   \n",
      "1                AA                  19805         AA   N101NN  ...      6.0   \n",
      "2                AA                  19805         AA   N102UW  ...     11.0   \n",
      "3                AA                  19805         AA   N103NN  ...     12.0   \n",
      "4                AA                  19805         AA   N103NN  ...     16.0   \n",
      "5                AA                  19805         AA   N103NN  ...      5.0   \n",
      "6                AA                  19805         AA   N103US  ...      4.0   \n",
      "7                AA                  19805         AA   N103US  ...      6.0   \n",
      "8                AA                  19805         AA   N103US  ...      4.0   \n",
      "9                AA                  19805         AA   N103US  ...      5.0   \n",
      "\n",
      "   CRS_ARR_TIME  ARR_TIME  ARR_DELAY ARR_DELAY_NEW ARR_DELAY_GROUP  \\\n",
      "0          1912    1832.0      -40.0           0.0            -2.0   \n",
      "1           940     925.0      -15.0           0.0            -1.0   \n",
      "2          1206    1142.0      -24.0           0.0            -2.0   \n",
      "3            29      27.0       -2.0           0.0            -1.0   \n",
      "4          1140    1111.0      -29.0           0.0            -2.0   \n",
      "5          2001    1956.0       -5.0           0.0            -1.0   \n",
      "6          1212    1245.0       33.0          33.0             2.0   \n",
      "7          1549    1558.0        9.0           9.0             0.0   \n",
      "8          1018    1002.0      -16.0           0.0            -2.0   \n",
      "9             1    2354.0       -7.0           0.0            -1.0   \n",
      "\n",
      "  ARR_TIME_BLK CANCELLED  CANCELLATION_CODE  DIVERTED  \n",
      "0    1900-1959       0.0                NaN       0.0  \n",
      "1    0900-0959       0.0                NaN       0.0  \n",
      "2    1200-1259       0.0                NaN       0.0  \n",
      "3    0001-0559       0.0                NaN       0.0  \n",
      "4    1100-1159       0.0                NaN       0.0  \n",
      "5    2000-2059       0.0                NaN       0.0  \n",
      "6    1200-1259       0.0                NaN       0.0  \n",
      "7    1500-1559       0.0                NaN       0.0  \n",
      "8    1000-1059       0.0                NaN       0.0  \n",
      "9    0001-0559       0.0                NaN       0.0  \n",
      "\n",
      "[10 rows x 42 columns]\n"
     ]
    }
   ],
   "source": [
    "print(facts.head(10))"
   ],
   "metadata": {
    "collapsed": false,
    "ExecuteTime": {
     "end_time": "2025-06-05T10:04:01.631921Z",
     "start_time": "2025-06-05T10:04:01.596002Z"
    }
   },
   "id": "7a8d0835698cea39",
   "execution_count": 7
  },
  {
   "cell_type": "code",
   "outputs": [
    {
     "data": {
      "text/plain": "(array([ 75088.,  18163.,  17918.,  76306.,  15526.,   9345.,   6690.,\n         21890.,  17544.,  21094.,  65036.,  62007., 105307.,  27833.]),\n array([ 0.        ,  0.92857143,  1.85714286,  2.78571429,  3.71428571,\n         4.64285714,  5.57142857,  6.5       ,  7.42857143,  8.35714286,\n         9.28571429, 10.21428571, 11.14285714, 12.07142857, 13.        ]),\n <BarContainer object of 14 artists>)"
     },
     "execution_count": 11,
     "metadata": {},
     "output_type": "execute_result"
    },
    {
     "data": {
      "text/plain": "<Figure size 640x480 with 1 Axes>",
      "image/png": "[encoded data removed]"
     },
     "metadata": {},
     "output_type": "display_data"
    }
   ],
   "source": [
    "plt.hist(facts['OP_UNIQUE_CARRIER'],bins=14)"
   ],
   "metadata": {
    "collapsed": false,
    "ExecuteTime": {
     "end_time": "2025-05-12T07:26:21.723920Z",
     "start_time": "2025-05-12T07:26:21.177899Z"
    }
   },
   "id": "b464f146deeb8d98",
   "execution_count": 11
  },
  {
   "cell_type": "code",
   "outputs": [],
   "source": [
    "decode=pd.read_csv(\"C:\\\\Users\\DELL\\Downloads\\T_CARRIER_DECODE_20250512_031801\\T_CARRIER_DECODE.csv\")"
   ],
   "metadata": {
    "collapsed": false,
    "ExecuteTime": {
     "end_time": "2025-05-12T07:37:28.974618Z",
     "start_time": "2025-05-12T07:37:28.895576Z"
    }
   },
   "id": "d081bc226a8f76f9",
   "execution_count": 13
  },
  {
   "cell_type": "code",
   "outputs": [
    {
     "name": "stdout",
     "output_type": "stream",
     "text": [
      "      AIRLINE_ID CARRIER CARRIER_ENTITY  \\\n",
      "0          19031     MAC          30550   \n",
      "1          19032      XY          04530   \n",
      "2          19033     COC          30337   \n",
      "3          19034     GSA          37760   \n",
      "4          19035     RZZ          30012   \n",
      "...          ...     ...            ...   \n",
      "2832       22139      A7          71303   \n",
      "2833       22140     SNM          71304   \n",
      "2834       22141      DM          71305   \n",
      "2835       22142     JTH          71306   \n",
      "2836       22143      G2          71307   \n",
      "\n",
      "                                      CARRIER_NAME UNIQUE_CARRIER  \\\n",
      "0                        Mackey International Inc.            MAC   \n",
      "1                      Munz Northern Airlines Inc.             XY   \n",
      "2                            Cochise Airlines Inc.            COC   \n",
      "3                        Golden Gate Airlines Inc.            GSA   \n",
      "4                                    Aeromech Inc.            RZZ   \n",
      "...                                            ...            ...   \n",
      "2832  TM Aerolineas S.A. de C.V. dba Awesome Cargo             A7   \n",
      "2833                             Servizi Aerei SpA            SNM   \n",
      "2834                                   Arajet S.A.             DM   \n",
      "2835                                      JetHouse            JTH   \n",
      "2836                               GullivAir, Ltd.             G2   \n",
      "\n",
      "     UNIQUE_CARRIER_ENTITY                           UNIQUE_CARRIER_NAME  WAC  \\\n",
      "0                    30550                     Mackey International Inc.   10   \n",
      "1                    04530                   Munz Northern Airlines Inc.   10   \n",
      "2                    30337                         Cochise Airlines Inc.   10   \n",
      "3                    37760                     Golden Gate Airlines Inc.   10   \n",
      "4                    30012                                 Aeromech Inc.   10   \n",
      "...                    ...                                           ...  ...   \n",
      "2832                 71303  TM Aerolineas S.A. de C.V. dba Awesome Cargo  148   \n",
      "2833                 71304                             Servizi Aerei SpA  450   \n",
      "2834                 71305                                   Arajet S.A.  224   \n",
      "2835                 71306                                      JetHouse  456   \n",
      "2836                 71307                               GullivAir, Ltd.  411   \n",
      "\n",
      "      CARRIER_GROUP  CARRIER_GROUP_NEW         REGION     START_DATE_SOURCE  \\\n",
      "0                 1                  6       Domestic  1/1/1960 12:00:00 AM   \n",
      "1                 1                  1       Domestic  1/1/1960 12:00:00 AM   \n",
      "2                 1                  6       Domestic  1/1/1960 12:00:00 AM   \n",
      "3                 1                  6       Domestic  1/1/1960 12:00:00 AM   \n",
      "4                 1                  6       Domestic  1/1/1960 12:00:00 AM   \n",
      "...             ...                ...            ...                   ...   \n",
      "2832              0                  0  International  8/1/2024 12:00:00 AM   \n",
      "2833              0                  0  International  4/1/2025 12:00:00 AM   \n",
      "2834              0                  0  International  4/1/2025 12:00:00 AM   \n",
      "2835              0                  0  International  5/1/2025 12:00:00 AM   \n",
      "2836              0                  0  International  5/1/2025 12:00:00 AM   \n",
      "\n",
      "            THRU_DATE_SOURCE  \n",
      "0     12/31/1982 12:00:00 AM  \n",
      "1      9/30/1983 12:00:00 AM  \n",
      "2     12/31/1984 12:00:00 AM  \n",
      "3     12/31/1984 12:00:00 AM  \n",
      "4     12/31/1984 12:00:00 AM  \n",
      "...                      ...  \n",
      "2832                     NaN  \n",
      "2833                     NaN  \n",
      "2834                     NaN  \n",
      "2835                     NaN  \n",
      "2836                     NaN  \n",
      "\n",
      "[2837 rows x 13 columns]\n"
     ]
    }
   ],
   "source": [
    "print(decode)"
   ],
   "metadata": {
    "collapsed": false,
    "ExecuteTime": {
     "end_time": "2025-05-12T07:37:34.834343Z",
     "start_time": "2025-05-12T07:37:34.805665Z"
    }
   },
   "id": "5a5381fbdf62e249",
   "execution_count": 14
  },
  {
   "cell_type": "code",
   "outputs": [
    {
     "name": "stdout",
     "output_type": "stream",
     "text": [
      "AIRLINE_ID                                19393\n",
      "CARRIER                                      WN\n",
      "CARRIER_ENTITY                            06725\n",
      "CARRIER_NAME             Southwest Airlines Co.\n",
      "UNIQUE_CARRIER                               WN\n",
      "UNIQUE_CARRIER_ENTITY                     06725\n",
      "UNIQUE_CARRIER_NAME      Southwest Airlines Co.\n",
      "WAC                                          10\n",
      "CARRIER_GROUP                                 3\n",
      "CARRIER_GROUP_NEW                             3\n",
      "REGION                                 Domestic\n",
      "START_DATE_SOURCE          1/1/1979 12:00:00 AM\n",
      "THRU_DATE_SOURCE                            NaN\n",
      "Name: 369, dtype: object\n",
      "AIRLINE_ID                                19393\n",
      "CARRIER                                      WN\n",
      "CARRIER_ENTITY                            11033\n",
      "CARRIER_NAME             Southwest Airlines Co.\n",
      "UNIQUE_CARRIER                               WN\n",
      "UNIQUE_CARRIER_ENTITY                     11033\n",
      "UNIQUE_CARRIER_NAME      Southwest Airlines Co.\n",
      "WAC                                          10\n",
      "CARRIER_GROUP                                 3\n",
      "CARRIER_GROUP_NEW                             3\n",
      "REGION                            Latin America\n",
      "START_DATE_SOURCE          4/1/2012 12:00:00 AM\n",
      "THRU_DATE_SOURCE                            NaN\n",
      "Name: 370, dtype: object\n",
      "AIRLINE_ID                                19690\n",
      "CARRIER                                      HA\n",
      "CARRIER_ENTITY                            05375\n",
      "CARRIER_NAME             Hawaiian Airlines Inc.\n",
      "UNIQUE_CARRIER                               HA\n",
      "UNIQUE_CARRIER_ENTITY                     05375\n",
      "UNIQUE_CARRIER_NAME      Hawaiian Airlines Inc.\n",
      "WAC                                          10\n",
      "CARRIER_GROUP                                 2\n",
      "CARRIER_GROUP_NEW                             2\n",
      "REGION                                 Domestic\n",
      "START_DATE_SOURCE          1/1/1960 12:00:00 AM\n",
      "THRU_DATE_SOURCE         12/31/2008 12:00:00 AM\n",
      "Name: 713, dtype: object\n",
      "AIRLINE_ID                                19690\n",
      "CARRIER                                      HA\n",
      "CARRIER_ENTITY                            05375\n",
      "CARRIER_NAME             Hawaiian Airlines Inc.\n",
      "UNIQUE_CARRIER                               HA\n",
      "UNIQUE_CARRIER_ENTITY                     05375\n",
      "UNIQUE_CARRIER_NAME      Hawaiian Airlines Inc.\n",
      "WAC                                          10\n",
      "CARRIER_GROUP                                 3\n",
      "CARRIER_GROUP_NEW                             3\n",
      "REGION                                 Domestic\n",
      "START_DATE_SOURCE          1/1/2009 12:00:00 AM\n",
      "THRU_DATE_SOURCE                            NaN\n",
      "Name: 714, dtype: object\n",
      "AIRLINE_ID                                19690\n",
      "CARRIER                                      HA\n",
      "CARRIER_ENTITY                            15375\n",
      "CARRIER_NAME             Hawaiian Airlines Inc.\n",
      "UNIQUE_CARRIER                               HA\n",
      "UNIQUE_CARRIER_ENTITY                     15375\n",
      "UNIQUE_CARRIER_NAME      Hawaiian Airlines Inc.\n",
      "WAC                                          10\n",
      "CARRIER_GROUP                                 2\n",
      "CARRIER_GROUP_NEW                             2\n",
      "REGION                                  Pacific\n",
      "START_DATE_SOURCE         10/1/1984 12:00:00 AM\n",
      "THRU_DATE_SOURCE         12/31/2008 12:00:00 AM\n",
      "Name: 715, dtype: object\n",
      "AIRLINE_ID                                19690\n",
      "CARRIER                                      HA\n",
      "CARRIER_ENTITY                            15375\n",
      "CARRIER_NAME             Hawaiian Airlines Inc.\n",
      "UNIQUE_CARRIER                               HA\n",
      "UNIQUE_CARRIER_ENTITY                     15375\n",
      "UNIQUE_CARRIER_NAME      Hawaiian Airlines Inc.\n",
      "WAC                                          10\n",
      "CARRIER_GROUP                                 3\n",
      "CARRIER_GROUP_NEW                             3\n",
      "REGION                                  Pacific\n",
      "START_DATE_SOURCE          1/1/2009 12:00:00 AM\n",
      "THRU_DATE_SOURCE                            NaN\n",
      "Name: 716, dtype: object\n",
      "AIRLINE_ID                              19790\n",
      "CARRIER                                    DL\n",
      "CARRIER_ENTITY                          01260\n",
      "CARRIER_NAME             Delta Air Lines Inc.\n",
      "UNIQUE_CARRIER                             DL\n",
      "UNIQUE_CARRIER_ENTITY                   01260\n",
      "UNIQUE_CARRIER_NAME      Delta Air Lines Inc.\n",
      "WAC                                        10\n",
      "CARRIER_GROUP                               3\n",
      "CARRIER_GROUP_NEW                           3\n",
      "REGION                               Domestic\n",
      "START_DATE_SOURCE        1/1/1960 12:00:00 AM\n",
      "THRU_DATE_SOURCE                          NaN\n",
      "Name: 840, dtype: object\n",
      "AIRLINE_ID                              19790\n",
      "CARRIER                                    DL\n",
      "CARRIER_ENTITY                          10260\n",
      "CARRIER_NAME             Delta Air Lines Inc.\n",
      "UNIQUE_CARRIER                             DL\n",
      "UNIQUE_CARRIER_ENTITY                   10260\n",
      "UNIQUE_CARRIER_NAME      Delta Air Lines Inc.\n",
      "WAC                                        10\n",
      "CARRIER_GROUP                               3\n",
      "CARRIER_GROUP_NEW                           3\n",
      "REGION                          Latin America\n",
      "START_DATE_SOURCE        1/1/1960 12:00:00 AM\n",
      "THRU_DATE_SOURCE                          NaN\n",
      "Name: 841, dtype: object\n",
      "AIRLINE_ID                              19790\n",
      "CARRIER                                    DL\n",
      "CARRIER_ENTITY                          10261\n",
      "CARRIER_NAME             Delta Air Lines Inc.\n",
      "UNIQUE_CARRIER                             DL\n",
      "UNIQUE_CARRIER_ENTITY                   10261\n",
      "UNIQUE_CARRIER_NAME      Delta Air Lines Inc.\n",
      "WAC                                        10\n",
      "CARRIER_GROUP                               3\n",
      "CARRIER_GROUP_NEW                           3\n",
      "REGION                               Atlantic\n",
      "START_DATE_SOURCE        1/1/1960 12:00:00 AM\n",
      "THRU_DATE_SOURCE                          NaN\n",
      "Name: 842, dtype: object\n",
      "AIRLINE_ID                               19790\n",
      "CARRIER                                     DL\n",
      "CARRIER_ENTITY                           10262\n",
      "CARRIER_NAME              Delta Air Lines Inc.\n",
      "UNIQUE_CARRIER                              DL\n",
      "UNIQUE_CARRIER_ENTITY                    10262\n",
      "UNIQUE_CARRIER_NAME       Delta Air Lines Inc.\n",
      "WAC                                         10\n",
      "CARRIER_GROUP                                3\n",
      "CARRIER_GROUP_NEW                            3\n",
      "REGION                                 Pacific\n",
      "START_DATE_SOURCE        10/1/1986 12:00:00 AM\n",
      "THRU_DATE_SOURCE                           NaN\n",
      "Name: 843, dtype: object\n",
      "AIRLINE_ID                                19805\n",
      "CARRIER                                      AA\n",
      "CARRIER_ENTITY                            0A050\n",
      "CARRIER_NAME             American Airlines Inc.\n",
      "UNIQUE_CARRIER                               AA\n",
      "UNIQUE_CARRIER_ENTITY                     0A050\n",
      "UNIQUE_CARRIER_NAME      American Airlines Inc.\n",
      "WAC                                          10\n",
      "CARRIER_GROUP                                 3\n",
      "CARRIER_GROUP_NEW                             3\n",
      "REGION                                 Domestic\n",
      "START_DATE_SOURCE          1/1/1960 12:00:00 AM\n",
      "THRU_DATE_SOURCE                            NaN\n",
      "Name: 863, dtype: object\n",
      "AIRLINE_ID                                19805\n",
      "CARRIER                                      AA\n",
      "CARRIER_ENTITY                            10049\n",
      "CARRIER_NAME             American Airlines Inc.\n",
      "UNIQUE_CARRIER                               AA\n",
      "UNIQUE_CARRIER_ENTITY                     10049\n",
      "UNIQUE_CARRIER_NAME      American Airlines Inc.\n",
      "WAC                                          10\n",
      "CARRIER_GROUP                                 3\n",
      "CARRIER_GROUP_NEW                             3\n",
      "REGION                                 Atlantic\n",
      "START_DATE_SOURCE          4/1/1982 12:00:00 AM\n",
      "THRU_DATE_SOURCE                            NaN\n",
      "Name: 864, dtype: object\n",
      "AIRLINE_ID                                19805\n",
      "CARRIER                                      AA\n",
      "CARRIER_ENTITY                            10050\n",
      "CARRIER_NAME             American Airlines Inc.\n",
      "UNIQUE_CARRIER                               AA\n",
      "UNIQUE_CARRIER_ENTITY                     10050\n",
      "UNIQUE_CARRIER_NAME      American Airlines Inc.\n",
      "WAC                                          10\n",
      "CARRIER_GROUP                                 3\n",
      "CARRIER_GROUP_NEW                             3\n",
      "REGION                            Latin America\n",
      "START_DATE_SOURCE          1/1/1960 12:00:00 AM\n",
      "THRU_DATE_SOURCE                            NaN\n",
      "Name: 865, dtype: object\n",
      "AIRLINE_ID                                19805\n",
      "CARRIER                                      AA\n",
      "CARRIER_ENTITY                            10052\n",
      "CARRIER_NAME             American Airlines Inc.\n",
      "UNIQUE_CARRIER                               AA\n",
      "UNIQUE_CARRIER_ENTITY                     10052\n",
      "UNIQUE_CARRIER_NAME      American Airlines Inc.\n",
      "WAC                                          10\n",
      "CARRIER_GROUP                                 3\n",
      "CARRIER_GROUP_NEW                             3\n",
      "REGION                                  Pacific\n",
      "START_DATE_SOURCE          5/1/1987 12:00:00 AM\n",
      "THRU_DATE_SOURCE                            NaN\n",
      "Name: 866, dtype: object\n",
      "AIRLINE_ID                              19930\n",
      "CARRIER                                    AS\n",
      "CARRIER_ENTITY                          06031\n",
      "CARRIER_NAME             Alaska Airlines Inc.\n",
      "UNIQUE_CARRIER                             AS\n",
      "UNIQUE_CARRIER_ENTITY                   06031\n",
      "UNIQUE_CARRIER_NAME      Alaska Airlines Inc.\n",
      "WAC                                        10\n",
      "CARRIER_GROUP                               3\n",
      "CARRIER_GROUP_NEW                           3\n",
      "REGION                               Domestic\n",
      "START_DATE_SOURCE        1/1/1960 12:00:00 AM\n",
      "THRU_DATE_SOURCE                          NaN\n",
      "Name: 1018, dtype: object\n",
      "AIRLINE_ID                               19930\n",
      "CARRIER                                     AS\n",
      "CARRIER_ENTITY                           16031\n",
      "CARRIER_NAME              Alaska Airlines Inc.\n",
      "UNIQUE_CARRIER                              AS\n",
      "UNIQUE_CARRIER_ENTITY                    16031\n",
      "UNIQUE_CARRIER_NAME       Alaska Airlines Inc.\n",
      "WAC                                         10\n",
      "CARRIER_GROUP                                3\n",
      "CARRIER_GROUP_NEW                            3\n",
      "REGION                           Latin America\n",
      "START_DATE_SOURCE        10/1/1990 12:00:00 AM\n",
      "THRU_DATE_SOURCE                           NaN\n",
      "Name: 1019, dtype: object\n",
      "AIRLINE_ID                               19977\n",
      "CARRIER                                     UA\n",
      "CARRIER_ENTITY                           0A875\n",
      "CARRIER_NAME             United Air Lines Inc.\n",
      "UNIQUE_CARRIER                              UA\n",
      "UNIQUE_CARRIER_ENTITY                    0A875\n",
      "UNIQUE_CARRIER_NAME      United Air Lines Inc.\n",
      "WAC                                         10\n",
      "CARRIER_GROUP                                3\n",
      "CARRIER_GROUP_NEW                            3\n",
      "REGION                                Domestic\n",
      "START_DATE_SOURCE         1/1/1960 12:00:00 AM\n",
      "THRU_DATE_SOURCE                           NaN\n",
      "Name: 1089, dtype: object\n",
      "AIRLINE_ID                               19977\n",
      "CARRIER                                     UA\n",
      "CARRIER_ENTITY                           10874\n",
      "CARRIER_NAME             United Air Lines Inc.\n",
      "UNIQUE_CARRIER                              UA\n",
      "UNIQUE_CARRIER_ENTITY                    10874\n",
      "UNIQUE_CARRIER_NAME      United Air Lines Inc.\n",
      "WAC                                         10\n",
      "CARRIER_GROUP                                3\n",
      "CARRIER_GROUP_NEW                            3\n",
      "REGION                                Atlantic\n",
      "START_DATE_SOURCE         5/1/1990 12:00:00 AM\n",
      "THRU_DATE_SOURCE                           NaN\n",
      "Name: 1090, dtype: object\n",
      "AIRLINE_ID                               19977\n",
      "CARRIER                                     UA\n",
      "CARRIER_ENTITY                           10876\n",
      "CARRIER_NAME             United Air Lines Inc.\n",
      "UNIQUE_CARRIER                              UA\n",
      "UNIQUE_CARRIER_ENTITY                    10876\n",
      "UNIQUE_CARRIER_NAME      United Air Lines Inc.\n",
      "WAC                                         10\n",
      "CARRIER_GROUP                                3\n",
      "CARRIER_GROUP_NEW                            3\n",
      "REGION                           Latin America\n",
      "START_DATE_SOURCE         1/1/1992 12:00:00 AM\n",
      "THRU_DATE_SOURCE                           NaN\n",
      "Name: 1091, dtype: object\n",
      "AIRLINE_ID                               19977\n",
      "CARRIER                                     UA\n",
      "CARRIER_ENTITY                           10877\n",
      "CARRIER_NAME             United Air Lines Inc.\n",
      "UNIQUE_CARRIER                              UA\n",
      "UNIQUE_CARRIER_ENTITY                    10877\n",
      "UNIQUE_CARRIER_NAME      United Air Lines Inc.\n",
      "WAC                                         10\n",
      "CARRIER_GROUP                                3\n",
      "CARRIER_GROUP_NEW                            3\n",
      "REGION                                 Pacific\n",
      "START_DATE_SOURCE         3/1/1983 12:00:00 AM\n",
      "THRU_DATE_SOURCE                           NaN\n",
      "Name: 1092, dtype: object\n",
      "AIRLINE_ID                                20304\n",
      "CARRIER                                      OO\n",
      "CARRIER_ENTITY                            06700\n",
      "CARRIER_NAME              SkyWest Airlines Inc.\n",
      "UNIQUE_CARRIER                               OO\n",
      "UNIQUE_CARRIER_ENTITY                     06700\n",
      "UNIQUE_CARRIER_NAME       SkyWest Airlines Inc.\n",
      "WAC                                          10\n",
      "CARRIER_GROUP                                 2\n",
      "CARRIER_GROUP_NEW                             2\n",
      "REGION                                 Domestic\n",
      "START_DATE_SOURCE          1/1/2003 12:00:00 AM\n",
      "THRU_DATE_SOURCE         12/31/2005 12:00:00 AM\n",
      "Name: 1777, dtype: object\n",
      "AIRLINE_ID                               20304\n",
      "CARRIER                                     OO\n",
      "CARRIER_ENTITY                           06700\n",
      "CARRIER_NAME             SkyWest Airlines Inc.\n",
      "UNIQUE_CARRIER                              OO\n",
      "UNIQUE_CARRIER_ENTITY                    06700\n",
      "UNIQUE_CARRIER_NAME      SkyWest Airlines Inc.\n",
      "WAC                                         10\n",
      "CARRIER_GROUP                                3\n",
      "CARRIER_GROUP_NEW                            3\n",
      "REGION                                Domestic\n",
      "START_DATE_SOURCE         1/1/2006 12:00:00 AM\n",
      "THRU_DATE_SOURCE                           NaN\n",
      "Name: 1778, dtype: object\n",
      "AIRLINE_ID                               20304\n",
      "CARRIER                                     OO\n",
      "CARRIER_ENTITY                           11025\n",
      "CARRIER_NAME             SkyWest Airlines Inc.\n",
      "UNIQUE_CARRIER                              OO\n",
      "UNIQUE_CARRIER_ENTITY                    11025\n",
      "UNIQUE_CARRIER_NAME      SkyWest Airlines Inc.\n",
      "WAC                                         10\n",
      "CARRIER_GROUP                                3\n",
      "CARRIER_GROUP_NEW                            3\n",
      "REGION                           Latin America\n",
      "START_DATE_SOURCE         7/1/2011 12:00:00 AM\n",
      "THRU_DATE_SOURCE                           NaN\n",
      "Name: 1779, dtype: object\n",
      "AIRLINE_ID                               20314\n",
      "CARRIER                                     YX\n",
      "CARRIER_ENTITY                           06706\n",
      "CARRIER_NAME             Midwest Airline, Inc.\n",
      "UNIQUE_CARRIER                          YX (1)\n",
      "UNIQUE_CARRIER_ENTITY                    06706\n",
      "UNIQUE_CARRIER_NAME      Midwest Airline, Inc.\n",
      "WAC                                         10\n",
      "CARRIER_GROUP                                2\n",
      "CARRIER_GROUP_NEW                            2\n",
      "REGION                                Domestic\n",
      "START_DATE_SOURCE         3/1/2003 12:00:00 AM\n",
      "THRU_DATE_SOURCE         9/30/2009 12:00:00 AM\n",
      "Name: 1827, dtype: object\n",
      "AIRLINE_ID                                  20314\n",
      "CARRIER                                        YX\n",
      "CARRIER_ENTITY                              06706\n",
      "CARRIER_NAME             Midwest Express Airlines\n",
      "UNIQUE_CARRIER                             YX (1)\n",
      "UNIQUE_CARRIER_ENTITY                       06706\n",
      "UNIQUE_CARRIER_NAME         Midwest Airline, Inc.\n",
      "WAC                                            10\n",
      "CARRIER_GROUP                                   1\n",
      "CARRIER_GROUP_NEW                               1\n",
      "REGION                                   Domestic\n",
      "START_DATE_SOURCE            6/1/1984 12:00:00 AM\n",
      "THRU_DATE_SOURCE           12/31/1990 12:00:00 AM\n",
      "Name: 1828, dtype: object\n",
      "AIRLINE_ID                                  20314\n",
      "CARRIER                                        YX\n",
      "CARRIER_ENTITY                              06706\n",
      "CARRIER_NAME             Midwest Express Airlines\n",
      "UNIQUE_CARRIER                             YX (1)\n",
      "UNIQUE_CARRIER_ENTITY                       06706\n",
      "UNIQUE_CARRIER_NAME         Midwest Airline, Inc.\n",
      "WAC                                            10\n",
      "CARRIER_GROUP                                   2\n",
      "CARRIER_GROUP_NEW                               2\n",
      "REGION                                   Domestic\n",
      "START_DATE_SOURCE            1/1/1991 12:00:00 AM\n",
      "THRU_DATE_SOURCE            2/28/2003 12:00:00 AM\n",
      "Name: 1829, dtype: object\n",
      "AIRLINE_ID                                20368\n",
      "CARRIER                                      G4\n",
      "CARRIER_ENTITY                            06035\n",
      "CARRIER_NAME                      Allegiant Air\n",
      "UNIQUE_CARRIER                               G4\n",
      "UNIQUE_CARRIER_ENTITY                     06035\n",
      "UNIQUE_CARRIER_NAME               Allegiant Air\n",
      "WAC                                          10\n",
      "CARRIER_GROUP                                 1\n",
      "CARRIER_GROUP_NEW                             1\n",
      "REGION                                 Domestic\n",
      "START_DATE_SOURCE          1/1/2004 12:00:00 AM\n",
      "THRU_DATE_SOURCE         12/31/2005 12:00:00 AM\n",
      "Name: 2025, dtype: object\n",
      "AIRLINE_ID                                20368\n",
      "CARRIER                                      G4\n",
      "CARRIER_ENTITY                            06035\n",
      "CARRIER_NAME                      Allegiant Air\n",
      "UNIQUE_CARRIER                               G4\n",
      "UNIQUE_CARRIER_ENTITY                     06035\n",
      "UNIQUE_CARRIER_NAME               Allegiant Air\n",
      "WAC                                          10\n",
      "CARRIER_GROUP                                 1\n",
      "CARRIER_GROUP_NEW                             4\n",
      "REGION                                 Domestic\n",
      "START_DATE_SOURCE          4/1/2000 12:00:00 AM\n",
      "THRU_DATE_SOURCE         12/31/2003 12:00:00 AM\n",
      "Name: 2026, dtype: object\n",
      "AIRLINE_ID                                20368\n",
      "CARRIER                                      G4\n",
      "CARRIER_ENTITY                            06035\n",
      "CARRIER_NAME                      Allegiant Air\n",
      "UNIQUE_CARRIER                               G4\n",
      "UNIQUE_CARRIER_ENTITY                     06035\n",
      "UNIQUE_CARRIER_NAME               Allegiant Air\n",
      "WAC                                          10\n",
      "CARRIER_GROUP                                 2\n",
      "CARRIER_GROUP_NEW                             2\n",
      "REGION                                 Domestic\n",
      "START_DATE_SOURCE          1/1/2006 12:00:00 AM\n",
      "THRU_DATE_SOURCE         12/31/2015 12:00:00 AM\n",
      "Name: 2027, dtype: object\n",
      "AIRLINE_ID                              20368\n",
      "CARRIER                                    G4\n",
      "CARRIER_ENTITY                          06035\n",
      "CARRIER_NAME                    Allegiant Air\n",
      "UNIQUE_CARRIER                             G4\n",
      "UNIQUE_CARRIER_ENTITY                   06035\n",
      "UNIQUE_CARRIER_NAME             Allegiant Air\n",
      "WAC                                        10\n",
      "CARRIER_GROUP                               3\n",
      "CARRIER_GROUP_NEW                           3\n",
      "REGION                               Domestic\n",
      "START_DATE_SOURCE        1/1/2016 12:00:00 AM\n",
      "THRU_DATE_SOURCE                          NaN\n",
      "Name: 2028, dtype: object\n",
      "AIRLINE_ID                                20368\n",
      "CARRIER                                      G4\n",
      "CARRIER_ENTITY                            11024\n",
      "CARRIER_NAME                      Allegiant Air\n",
      "UNIQUE_CARRIER                               G4\n",
      "UNIQUE_CARRIER_ENTITY                     11024\n",
      "UNIQUE_CARRIER_NAME               Allegiant Air\n",
      "WAC                                          10\n",
      "CARRIER_GROUP                                 2\n",
      "CARRIER_GROUP_NEW                             2\n",
      "REGION                            Latin America\n",
      "START_DATE_SOURCE          7/1/2011 12:00:00 AM\n",
      "THRU_DATE_SOURCE         12/31/2015 12:00:00 AM\n",
      "Name: 2029, dtype: object\n",
      "AIRLINE_ID                              20368\n",
      "CARRIER                                    G4\n",
      "CARRIER_ENTITY                          11024\n",
      "CARRIER_NAME                    Allegiant Air\n",
      "UNIQUE_CARRIER                             G4\n",
      "UNIQUE_CARRIER_ENTITY                   11024\n",
      "UNIQUE_CARRIER_NAME             Allegiant Air\n",
      "WAC                                        10\n",
      "CARRIER_GROUP                               3\n",
      "CARRIER_GROUP_NEW                           3\n",
      "REGION                          Latin America\n",
      "START_DATE_SOURCE        1/1/2016 12:00:00 AM\n",
      "THRU_DATE_SOURCE                          NaN\n",
      "Name: 2030, dtype: object\n",
      "AIRLINE_ID                              20397\n",
      "CARRIER                                    OH\n",
      "CARRIER_ENTITY                          07028\n",
      "CARRIER_NAME                PSA Airlines Inc.\n",
      "UNIQUE_CARRIER                             OH\n",
      "UNIQUE_CARRIER_ENTITY                   07028\n",
      "UNIQUE_CARRIER_NAME         PSA Airlines Inc.\n",
      "WAC                                        10\n",
      "CARRIER_GROUP                               2\n",
      "CARRIER_GROUP_NEW                           2\n",
      "REGION                               Domestic\n",
      "START_DATE_SOURCE        7/1/2015 12:00:00 AM\n",
      "THRU_DATE_SOURCE                          NaN\n",
      "Name: 2127, dtype: object\n",
      "AIRLINE_ID                              20397\n",
      "CARRIER                                    OH\n",
      "CARRIER_ENTITY                          11030\n",
      "CARRIER_NAME                PSA Airlines Inc.\n",
      "UNIQUE_CARRIER                             OH\n",
      "UNIQUE_CARRIER_ENTITY                   11030\n",
      "UNIQUE_CARRIER_NAME         PSA Airlines Inc.\n",
      "WAC                                        10\n",
      "CARRIER_GROUP                               2\n",
      "CARRIER_GROUP_NEW                           2\n",
      "REGION                          Latin America\n",
      "START_DATE_SOURCE        7/1/2015 12:00:00 AM\n",
      "THRU_DATE_SOURCE                          NaN\n",
      "Name: 2128, dtype: object\n",
      "AIRLINE_ID                                      20398\n",
      "CARRIER                                            MQ\n",
      "CARRIER_ENTITY                                  06820\n",
      "CARRIER_NAME             American Eagle Airlines Inc.\n",
      "UNIQUE_CARRIER                                     MQ\n",
      "UNIQUE_CARRIER_ENTITY                           06820\n",
      "UNIQUE_CARRIER_NAME                         Envoy Air\n",
      "WAC                                                10\n",
      "CARRIER_GROUP                                       2\n",
      "CARRIER_GROUP_NEW                                   2\n",
      "REGION                                       Domestic\n",
      "START_DATE_SOURCE                4/1/1998 12:00:00 AM\n",
      "THRU_DATE_SOURCE               12/31/1999 12:00:00 AM\n",
      "Name: 2131, dtype: object\n",
      "AIRLINE_ID                                      20398\n",
      "CARRIER                                            MQ\n",
      "CARRIER_ENTITY                                  06820\n",
      "CARRIER_NAME             American Eagle Airlines Inc.\n",
      "UNIQUE_CARRIER                                     MQ\n",
      "UNIQUE_CARRIER_ENTITY                           06820\n",
      "UNIQUE_CARRIER_NAME                         Envoy Air\n",
      "WAC                                                10\n",
      "CARRIER_GROUP                                       3\n",
      "CARRIER_GROUP_NEW                                   3\n",
      "REGION                                       Domestic\n",
      "START_DATE_SOURCE                1/1/2000 12:00:00 AM\n",
      "THRU_DATE_SOURCE                3/31/2014 12:00:00 AM\n",
      "Name: 2132, dtype: object\n",
      "AIRLINE_ID                              20398\n",
      "CARRIER                                    MQ\n",
      "CARRIER_ENTITY                          06820\n",
      "CARRIER_NAME                        Envoy Air\n",
      "UNIQUE_CARRIER                             MQ\n",
      "UNIQUE_CARRIER_ENTITY                   06820\n",
      "UNIQUE_CARRIER_NAME                 Envoy Air\n",
      "WAC                                        10\n",
      "CARRIER_GROUP                               3\n",
      "CARRIER_GROUP_NEW                           3\n",
      "REGION                               Domestic\n",
      "START_DATE_SOURCE        4/1/2014 12:00:00 AM\n",
      "THRU_DATE_SOURCE                          NaN\n",
      "Name: 2133, dtype: object\n",
      "AIRLINE_ID                               20398\n",
      "CARRIER                                     MQ\n",
      "CARRIER_ENTITY                           06820\n",
      "CARRIER_NAME                  Simmons Airlines\n",
      "UNIQUE_CARRIER                              MQ\n",
      "UNIQUE_CARRIER_ENTITY                    06820\n",
      "UNIQUE_CARRIER_NAME                  Envoy Air\n",
      "WAC                                         10\n",
      "CARRIER_GROUP                                2\n",
      "CARRIER_GROUP_NEW                            2\n",
      "REGION                                Domestic\n",
      "START_DATE_SOURCE        10/1/1991 12:00:00 AM\n",
      "THRU_DATE_SOURCE         3/31/1998 12:00:00 AM\n",
      "Name: 2134, dtype: object\n",
      "AIRLINE_ID                                      20398\n",
      "CARRIER                                            MQ\n",
      "CARRIER_ENTITY                                  16820\n",
      "CARRIER_NAME             American Eagle Airlines Inc.\n",
      "UNIQUE_CARRIER                                     MQ\n",
      "UNIQUE_CARRIER_ENTITY                           16820\n",
      "UNIQUE_CARRIER_NAME                         Envoy Air\n",
      "WAC                                                10\n",
      "CARRIER_GROUP                                       3\n",
      "CARRIER_GROUP_NEW                                   3\n",
      "REGION                                  Latin America\n",
      "START_DATE_SOURCE                7/1/2004 12:00:00 AM\n",
      "THRU_DATE_SOURCE                3/31/2014 12:00:00 AM\n",
      "Name: 2135, dtype: object\n",
      "AIRLINE_ID                              20398\n",
      "CARRIER                                    MQ\n",
      "CARRIER_ENTITY                          16820\n",
      "CARRIER_NAME                        Envoy Air\n",
      "UNIQUE_CARRIER                             MQ\n",
      "UNIQUE_CARRIER_ENTITY                   16820\n",
      "UNIQUE_CARRIER_NAME                 Envoy Air\n",
      "WAC                                        10\n",
      "CARRIER_GROUP                               3\n",
      "CARRIER_GROUP_NEW                           3\n",
      "REGION                          Latin America\n",
      "START_DATE_SOURCE        4/1/2014 12:00:00 AM\n",
      "THRU_DATE_SOURCE                          NaN\n",
      "Name: 2136, dtype: object\n",
      "AIRLINE_ID                                20409\n",
      "CARRIER                                      B6\n",
      "CARRIER_ENTITY                            06673\n",
      "CARRIER_NAME                    JetBlue Airways\n",
      "UNIQUE_CARRIER                               B6\n",
      "UNIQUE_CARRIER_ENTITY                     06673\n",
      "UNIQUE_CARRIER_NAME             JetBlue Airways\n",
      "WAC                                          10\n",
      "CARRIER_GROUP                                 2\n",
      "CARRIER_GROUP_NEW                             2\n",
      "REGION                                 Domestic\n",
      "START_DATE_SOURCE          2/1/2000 12:00:00 AM\n",
      "THRU_DATE_SOURCE         12/31/2004 12:00:00 AM\n",
      "Name: 2194, dtype: object\n",
      "AIRLINE_ID                              20409\n",
      "CARRIER                                    B6\n",
      "CARRIER_ENTITY                          06673\n",
      "CARRIER_NAME                  JetBlue Airways\n",
      "UNIQUE_CARRIER                             B6\n",
      "UNIQUE_CARRIER_ENTITY                   06673\n",
      "UNIQUE_CARRIER_NAME           JetBlue Airways\n",
      "WAC                                        10\n",
      "CARRIER_GROUP                               3\n",
      "CARRIER_GROUP_NEW                           3\n",
      "REGION                               Domestic\n",
      "START_DATE_SOURCE        1/1/2005 12:00:00 AM\n",
      "THRU_DATE_SOURCE                          NaN\n",
      "Name: 2195, dtype: object\n",
      "AIRLINE_ID                              20409\n",
      "CARRIER                                    B6\n",
      "CARRIER_ENTITY                          10875\n",
      "CARRIER_NAME                  JetBlue Airways\n",
      "UNIQUE_CARRIER                             B6\n",
      "UNIQUE_CARRIER_ENTITY                   10875\n",
      "UNIQUE_CARRIER_NAME           JetBlue Airways\n",
      "WAC                                        10\n",
      "CARRIER_GROUP                               3\n",
      "CARRIER_GROUP_NEW                           3\n",
      "REGION                               Atlantic\n",
      "START_DATE_SOURCE        7/1/2021 12:00:00 AM\n",
      "THRU_DATE_SOURCE                          NaN\n",
      "Name: 2196, dtype: object\n",
      "AIRLINE_ID                                20409\n",
      "CARRIER                                      B6\n",
      "CARRIER_ENTITY                            16673\n",
      "CARRIER_NAME                    JetBlue Airways\n",
      "UNIQUE_CARRIER                               B6\n",
      "UNIQUE_CARRIER_ENTITY                     16673\n",
      "UNIQUE_CARRIER_NAME             JetBlue Airways\n",
      "WAC                                          10\n",
      "CARRIER_GROUP                                 2\n",
      "CARRIER_GROUP_NEW                             2\n",
      "REGION                            Latin America\n",
      "START_DATE_SOURCE          4/1/2004 12:00:00 AM\n",
      "THRU_DATE_SOURCE         12/31/2004 12:00:00 AM\n",
      "Name: 2197, dtype: object\n",
      "AIRLINE_ID                              20409\n",
      "CARRIER                                    B6\n",
      "CARRIER_ENTITY                          16673\n",
      "CARRIER_NAME                  JetBlue Airways\n",
      "UNIQUE_CARRIER                             B6\n",
      "UNIQUE_CARRIER_ENTITY                   16673\n",
      "UNIQUE_CARRIER_NAME           JetBlue Airways\n",
      "WAC                                        10\n",
      "CARRIER_GROUP                               3\n",
      "CARRIER_GROUP_NEW                           3\n",
      "REGION                          Latin America\n",
      "START_DATE_SOURCE        1/1/2005 12:00:00 AM\n",
      "THRU_DATE_SOURCE                          NaN\n",
      "Name: 2198, dtype: object\n",
      "AIRLINE_ID                                20416\n",
      "CARRIER                                      NK\n",
      "CARRIER_ENTITY                            06830\n",
      "CARRIER_NAME                   Spirit Air Lines\n",
      "UNIQUE_CARRIER                               NK\n",
      "UNIQUE_CARRIER_ENTITY                     06830\n",
      "UNIQUE_CARRIER_NAME            Spirit Air Lines\n",
      "WAC                                          10\n",
      "CARRIER_GROUP                                 1\n",
      "CARRIER_GROUP_NEW                             1\n",
      "REGION                                 Domestic\n",
      "START_DATE_SOURCE          7/1/1992 12:00:00 AM\n",
      "THRU_DATE_SOURCE         12/31/1998 12:00:00 AM\n",
      "Name: 2218, dtype: object\n",
      "AIRLINE_ID                                20416\n",
      "CARRIER                                      NK\n",
      "CARRIER_ENTITY                            06830\n",
      "CARRIER_NAME                   Spirit Air Lines\n",
      "UNIQUE_CARRIER                               NK\n",
      "UNIQUE_CARRIER_ENTITY                     06830\n",
      "UNIQUE_CARRIER_NAME            Spirit Air Lines\n",
      "WAC                                          10\n",
      "CARRIER_GROUP                                 2\n",
      "CARRIER_GROUP_NEW                             2\n",
      "REGION                                 Domestic\n",
      "START_DATE_SOURCE          1/1/1999 12:00:00 AM\n",
      "THRU_DATE_SOURCE         12/31/2012 12:00:00 AM\n",
      "Name: 2219, dtype: object\n",
      "AIRLINE_ID                              20416\n",
      "CARRIER                                    NK\n",
      "CARRIER_ENTITY                          06830\n",
      "CARRIER_NAME                 Spirit Air Lines\n",
      "UNIQUE_CARRIER                             NK\n",
      "UNIQUE_CARRIER_ENTITY                   06830\n",
      "UNIQUE_CARRIER_NAME          Spirit Air Lines\n",
      "WAC                                        10\n",
      "CARRIER_GROUP                               3\n",
      "CARRIER_GROUP_NEW                           3\n",
      "REGION                               Domestic\n",
      "START_DATE_SOURCE        1/1/2013 12:00:00 AM\n",
      "THRU_DATE_SOURCE                          NaN\n",
      "Name: 2220, dtype: object\n",
      "AIRLINE_ID                                20416\n",
      "CARRIER                                      NK\n",
      "CARRIER_ENTITY                            16831\n",
      "CARRIER_NAME                   Spirit Air Lines\n",
      "UNIQUE_CARRIER                               NK\n",
      "UNIQUE_CARRIER_ENTITY                     16831\n",
      "UNIQUE_CARRIER_NAME            Spirit Air Lines\n",
      "WAC                                          10\n",
      "CARRIER_GROUP                                 2\n",
      "CARRIER_GROUP_NEW                             2\n",
      "REGION                            Latin America\n",
      "START_DATE_SOURCE          1/1/2005 12:00:00 AM\n",
      "THRU_DATE_SOURCE         12/31/2012 12:00:00 AM\n",
      "Name: 2221, dtype: object\n",
      "AIRLINE_ID                              20416\n",
      "CARRIER                                    NK\n",
      "CARRIER_ENTITY                          16831\n",
      "CARRIER_NAME                 Spirit Air Lines\n",
      "UNIQUE_CARRIER                             NK\n",
      "UNIQUE_CARRIER_ENTITY                   16831\n",
      "UNIQUE_CARRIER_NAME          Spirit Air Lines\n",
      "WAC                                        10\n",
      "CARRIER_GROUP                               3\n",
      "CARRIER_GROUP_NEW                           3\n",
      "REGION                          Latin America\n",
      "START_DATE_SOURCE        1/1/2013 12:00:00 AM\n",
      "THRU_DATE_SOURCE                          NaN\n",
      "Name: 2222, dtype: object\n",
      "AIRLINE_ID                                20417\n",
      "CARRIER                                      OH\n",
      "CARRIER_ENTITY                            06186\n",
      "CARRIER_NAME                        Comair Inc.\n",
      "UNIQUE_CARRIER                           OH (1)\n",
      "UNIQUE_CARRIER_ENTITY                     06186\n",
      "UNIQUE_CARRIER_NAME                 Comair Inc.\n",
      "WAC                                          10\n",
      "CARRIER_GROUP                                 2\n",
      "CARRIER_GROUP_NEW                             2\n",
      "REGION                                 Domestic\n",
      "START_DATE_SOURCE          5/1/2000 12:00:00 AM\n",
      "THRU_DATE_SOURCE         12/31/2004 12:00:00 AM\n",
      "Name: 2224, dtype: object\n",
      "AIRLINE_ID                               20417\n",
      "CARRIER                                     OH\n",
      "CARRIER_ENTITY                           06186\n",
      "CARRIER_NAME                       Comair Inc.\n",
      "UNIQUE_CARRIER                          OH (1)\n",
      "UNIQUE_CARRIER_ENTITY                    06186\n",
      "UNIQUE_CARRIER_NAME                Comair Inc.\n",
      "WAC                                         10\n",
      "CARRIER_GROUP                                2\n",
      "CARRIER_GROUP_NEW                            2\n",
      "REGION                                Domestic\n",
      "START_DATE_SOURCE         1/1/2011 12:00:00 AM\n",
      "THRU_DATE_SOURCE         9/30/2012 12:00:00 AM\n",
      "Name: 2225, dtype: object\n",
      "AIRLINE_ID                                20417\n",
      "CARRIER                                      OH\n",
      "CARRIER_ENTITY                            06186\n",
      "CARRIER_NAME                        Comair Inc.\n",
      "UNIQUE_CARRIER                           OH (1)\n",
      "UNIQUE_CARRIER_ENTITY                     06186\n",
      "UNIQUE_CARRIER_NAME                 Comair Inc.\n",
      "WAC                                          10\n",
      "CARRIER_GROUP                                 3\n",
      "CARRIER_GROUP_NEW                             3\n",
      "REGION                                 Domestic\n",
      "START_DATE_SOURCE          1/1/2005 12:00:00 AM\n",
      "THRU_DATE_SOURCE         12/31/2010 12:00:00 AM\n",
      "Name: 2226, dtype: object\n",
      "AIRLINE_ID                               20417\n",
      "CARRIER                                     OH\n",
      "CARRIER_ENTITY                           11026\n",
      "CARRIER_NAME                       Comair Inc.\n",
      "UNIQUE_CARRIER                          OH (1)\n",
      "UNIQUE_CARRIER_ENTITY                    11026\n",
      "UNIQUE_CARRIER_NAME                Comair Inc.\n",
      "WAC                                         10\n",
      "CARRIER_GROUP                                2\n",
      "CARRIER_GROUP_NEW                            2\n",
      "REGION                           Latin America\n",
      "START_DATE_SOURCE         7/1/2011 12:00:00 AM\n",
      "THRU_DATE_SOURCE         9/30/2012 12:00:00 AM\n",
      "Name: 2227, dtype: object\n",
      "AIRLINE_ID                                20436\n",
      "CARRIER                                      F9\n",
      "CARRIER_ENTITY                            06460\n",
      "CARRIER_NAME             Frontier Airlines Inc.\n",
      "UNIQUE_CARRIER                               F9\n",
      "UNIQUE_CARRIER_ENTITY                     06460\n",
      "UNIQUE_CARRIER_NAME      Frontier Airlines Inc.\n",
      "WAC                                          10\n",
      "CARRIER_GROUP                                 1\n",
      "CARRIER_GROUP_NEW                             1\n",
      "REGION                                 Domestic\n",
      "START_DATE_SOURCE          7/1/1994 12:00:00 AM\n",
      "THRU_DATE_SOURCE         12/31/1997 12:00:00 AM\n",
      "Name: 2293, dtype: object\n",
      "AIRLINE_ID                                20436\n",
      "CARRIER                                      F9\n",
      "CARRIER_ENTITY                            06460\n",
      "CARRIER_NAME             Frontier Airlines Inc.\n",
      "UNIQUE_CARRIER                               F9\n",
      "UNIQUE_CARRIER_ENTITY                     06460\n",
      "UNIQUE_CARRIER_NAME      Frontier Airlines Inc.\n",
      "WAC                                          10\n",
      "CARRIER_GROUP                                 2\n",
      "CARRIER_GROUP_NEW                             2\n",
      "REGION                                 Domestic\n",
      "START_DATE_SOURCE          1/1/1998 12:00:00 AM\n",
      "THRU_DATE_SOURCE         12/31/2006 12:00:00 AM\n",
      "Name: 2294, dtype: object\n",
      "AIRLINE_ID                                20436\n",
      "CARRIER                                      F9\n",
      "CARRIER_ENTITY                            06460\n",
      "CARRIER_NAME             Frontier Airlines Inc.\n",
      "UNIQUE_CARRIER                               F9\n",
      "UNIQUE_CARRIER_ENTITY                     06460\n",
      "UNIQUE_CARRIER_NAME      Frontier Airlines Inc.\n",
      "WAC                                          10\n",
      "CARRIER_GROUP                                 3\n",
      "CARRIER_GROUP_NEW                             3\n",
      "REGION                                 Domestic\n",
      "START_DATE_SOURCE          1/1/2007 12:00:00 AM\n",
      "THRU_DATE_SOURCE                            NaN\n",
      "Name: 2295, dtype: object\n",
      "AIRLINE_ID                                20436\n",
      "CARRIER                                      F9\n",
      "CARRIER_ENTITY                            16460\n",
      "CARRIER_NAME             Frontier Airlines Inc.\n",
      "UNIQUE_CARRIER                               F9\n",
      "UNIQUE_CARRIER_ENTITY                     16460\n",
      "UNIQUE_CARRIER_NAME      Frontier Airlines Inc.\n",
      "WAC                                          10\n",
      "CARRIER_GROUP                                 2\n",
      "CARRIER_GROUP_NEW                             2\n",
      "REGION                            International\n",
      "START_DATE_SOURCE         12/1/2002 12:00:00 AM\n",
      "THRU_DATE_SOURCE         12/31/2004 12:00:00 AM\n",
      "Name: 2296, dtype: object\n",
      "AIRLINE_ID                                20436\n",
      "CARRIER                                      F9\n",
      "CARRIER_ENTITY                            16461\n",
      "CARRIER_NAME             Frontier Airlines Inc.\n",
      "UNIQUE_CARRIER                               F9\n",
      "UNIQUE_CARRIER_ENTITY                     16461\n",
      "UNIQUE_CARRIER_NAME      Frontier Airlines Inc.\n",
      "WAC                                          10\n",
      "CARRIER_GROUP                                 2\n",
      "CARRIER_GROUP_NEW                             2\n",
      "REGION                            Latin America\n",
      "START_DATE_SOURCE          1/1/2005 12:00:00 AM\n",
      "THRU_DATE_SOURCE         12/31/2006 12:00:00 AM\n",
      "Name: 2297, dtype: object\n",
      "AIRLINE_ID                                20436\n",
      "CARRIER                                      F9\n",
      "CARRIER_ENTITY                            16461\n",
      "CARRIER_NAME             Frontier Airlines Inc.\n",
      "UNIQUE_CARRIER                               F9\n",
      "UNIQUE_CARRIER_ENTITY                     16461\n",
      "UNIQUE_CARRIER_NAME      Frontier Airlines Inc.\n",
      "WAC                                          10\n",
      "CARRIER_GROUP                                 3\n",
      "CARRIER_GROUP_NEW                             3\n",
      "REGION                            Latin America\n",
      "START_DATE_SOURCE          1/1/2007 12:00:00 AM\n",
      "THRU_DATE_SOURCE                            NaN\n",
      "Name: 2298, dtype: object\n",
      "AIRLINE_ID                                20452\n",
      "CARRIER                                      YX\n",
      "CARRIER_ENTITY                            06003\n",
      "CARRIER_NAME                   Republic Airline\n",
      "UNIQUE_CARRIER                               YX\n",
      "UNIQUE_CARRIER_ENTITY                     06003\n",
      "UNIQUE_CARRIER_NAME            Republic Airline\n",
      "WAC                                          10\n",
      "CARRIER_GROUP                                 2\n",
      "CARRIER_GROUP_NEW                             2\n",
      "REGION                                 Domestic\n",
      "START_DATE_SOURCE          1/1/2017 12:00:00 AM\n",
      "THRU_DATE_SOURCE         12/31/2018 12:00:00 AM\n",
      "Name: 2357, dtype: object\n",
      "AIRLINE_ID                              20452\n",
      "CARRIER                                    YX\n",
      "CARRIER_ENTITY                          06003\n",
      "CARRIER_NAME                 Republic Airline\n",
      "UNIQUE_CARRIER                             YX\n",
      "UNIQUE_CARRIER_ENTITY                   06003\n",
      "UNIQUE_CARRIER_NAME          Republic Airline\n",
      "WAC                                        10\n",
      "CARRIER_GROUP                               3\n",
      "CARRIER_GROUP_NEW                           3\n",
      "REGION                               Domestic\n",
      "START_DATE_SOURCE        1/1/2019 12:00:00 AM\n",
      "THRU_DATE_SOURCE                          NaN\n",
      "Name: 2358, dtype: object\n",
      "AIRLINE_ID                                20452\n",
      "CARRIER                                      YX\n",
      "CARRIER_ENTITY                            06003\n",
      "CARRIER_NAME                  Republic Airlines\n",
      "UNIQUE_CARRIER                               YX\n",
      "UNIQUE_CARRIER_ENTITY                     06003\n",
      "UNIQUE_CARRIER_NAME            Republic Airline\n",
      "WAC                                          10\n",
      "CARRIER_GROUP                                 2\n",
      "CARRIER_GROUP_NEW                             2\n",
      "REGION                                 Domestic\n",
      "START_DATE_SOURCE         10/1/2009 12:00:00 AM\n",
      "THRU_DATE_SOURCE         12/31/2016 12:00:00 AM\n",
      "Name: 2359, dtype: object\n",
      "AIRLINE_ID                                20452\n",
      "CARRIER                                      YX\n",
      "CARRIER_ENTITY                            11029\n",
      "CARRIER_NAME                   Republic Airline\n",
      "UNIQUE_CARRIER                               YX\n",
      "UNIQUE_CARRIER_ENTITY                     11029\n",
      "UNIQUE_CARRIER_NAME            Republic Airline\n",
      "WAC                                          10\n",
      "CARRIER_GROUP                                 2\n",
      "CARRIER_GROUP_NEW                             2\n",
      "REGION                            Latin America\n",
      "START_DATE_SOURCE          1/1/2017 12:00:00 AM\n",
      "THRU_DATE_SOURCE         12/31/2018 12:00:00 AM\n",
      "Name: 2360, dtype: object\n",
      "AIRLINE_ID                              20452\n",
      "CARRIER                                    YX\n",
      "CARRIER_ENTITY                          11029\n",
      "CARRIER_NAME                 Republic Airline\n",
      "UNIQUE_CARRIER                             YX\n",
      "UNIQUE_CARRIER_ENTITY                   11029\n",
      "UNIQUE_CARRIER_NAME          Republic Airline\n",
      "WAC                                        10\n",
      "CARRIER_GROUP                               3\n",
      "CARRIER_GROUP_NEW                           3\n",
      "REGION                          Latin America\n",
      "START_DATE_SOURCE        1/1/2019 12:00:00 AM\n",
      "THRU_DATE_SOURCE                          NaN\n",
      "Name: 2361, dtype: object\n",
      "AIRLINE_ID                                20452\n",
      "CARRIER                                      YX\n",
      "CARRIER_ENTITY                            11029\n",
      "CARRIER_NAME                  Republic Airlines\n",
      "UNIQUE_CARRIER                               YX\n",
      "UNIQUE_CARRIER_ENTITY                     11029\n",
      "UNIQUE_CARRIER_NAME            Republic Airline\n",
      "WAC                                          10\n",
      "CARRIER_GROUP                                 2\n",
      "CARRIER_GROUP_NEW                             2\n",
      "REGION                            Latin America\n",
      "START_DATE_SOURCE          7/1/2011 12:00:00 AM\n",
      "THRU_DATE_SOURCE         12/31/2016 12:00:00 AM\n",
      "Name: 2362, dtype: object\n",
      "AIRLINE_ID                                20452\n",
      "CARRIER                                      YX\n",
      "CARRIER_ENTITY                            11038\n",
      "CARRIER_NAME                   Republic Airline\n",
      "UNIQUE_CARRIER                               YX\n",
      "UNIQUE_CARRIER_ENTITY                     11038\n",
      "UNIQUE_CARRIER_NAME            Republic Airline\n",
      "WAC                                          10\n",
      "CARRIER_GROUP                                 2\n",
      "CARRIER_GROUP_NEW                             2\n",
      "REGION                                 Atlantic\n",
      "START_DATE_SOURCE          1/1/2017 12:00:00 AM\n",
      "THRU_DATE_SOURCE         12/31/2018 12:00:00 AM\n",
      "Name: 2363, dtype: object\n",
      "AIRLINE_ID                              20452\n",
      "CARRIER                                    YX\n",
      "CARRIER_ENTITY                          11038\n",
      "CARRIER_NAME                 Republic Airline\n",
      "UNIQUE_CARRIER                             YX\n",
      "UNIQUE_CARRIER_ENTITY                   11038\n",
      "UNIQUE_CARRIER_NAME          Republic Airline\n",
      "WAC                                        10\n",
      "CARRIER_GROUP                               3\n",
      "CARRIER_GROUP_NEW                           3\n",
      "REGION                               Atlantic\n",
      "START_DATE_SOURCE        1/1/2019 12:00:00 AM\n",
      "THRU_DATE_SOURCE                          NaN\n",
      "Name: 2364, dtype: object\n",
      "AIRLINE_ID                                20452\n",
      "CARRIER                                      YX\n",
      "CARRIER_ENTITY                            11038\n",
      "CARRIER_NAME                  Republic Airlines\n",
      "UNIQUE_CARRIER                               YX\n",
      "UNIQUE_CARRIER_ENTITY                     11038\n",
      "UNIQUE_CARRIER_NAME            Republic Airline\n",
      "WAC                                          10\n",
      "CARRIER_GROUP                                 2\n",
      "CARRIER_GROUP_NEW                             2\n",
      "REGION                                 Atlantic\n",
      "START_DATE_SOURCE          7/1/2011 12:00:00 AM\n",
      "THRU_DATE_SOURCE         12/31/2016 12:00:00 AM\n",
      "Name: 2365, dtype: object\n"
     ]
    }
   ],
   "source": [
    "for i in range(0,len(decode)):\n",
    "    if decode.iloc[i,1] in carriers:\n",
    "        print(decode.iloc[i,:])\n"
   ],
   "metadata": {
    "collapsed": false,
    "ExecuteTime": {
     "end_time": "2025-05-12T07:42:37.807139Z",
     "start_time": "2025-05-12T07:42:37.505252Z"
    }
   },
   "id": "d7c9de9169f4ff25",
   "execution_count": 15
  },
  {
   "cell_type": "code",
   "outputs": [
    {
     "name": "stdout",
     "output_type": "stream",
     "text": [
      "     YEAR  QUARTER  MONTH  DAY_OF_MONTH  DAY_OF_WEEK               FL_DATE  \\\n",
      "133  2025        1      1             1            3  1/1/2025 12:00:00 AM   \n",
      "134  2025        1      1             1            3  1/1/2025 12:00:00 AM   \n",
      "\n",
      "    OP_UNIQUE_CARRIER  OP_CARRIER_AIRLINE_ID OP_CARRIER TAIL_NUM  ...  \\\n",
      "133                AA                  19805         AA   N127AA  ...   \n",
      "134                AA                  19805         AA   N127AA  ...   \n",
      "\n",
      "     TAXI_IN  CRS_ARR_TIME  ARR_TIME  ARR_DELAY ARR_DELAY_NEW ARR_DELAY_GROUP  \\\n",
      "133     30.0          1959    2009.0       10.0          10.0             0.0   \n",
      "134      5.0          2207    2211.0        4.0           4.0             0.0   \n",
      "\n",
      "    ARR_TIME_BLK CANCELLED  CANCELLATION_CODE  DIVERTED  \n",
      "133    1900-1959       0.0                NaN       0.0  \n",
      "134    2200-2259       0.0                NaN       0.0  \n",
      "\n",
      "[2 rows x 42 columns]\n"
     ]
    }
   ],
   "source": [
    "print(facts.iloc[133:135,:])"
   ],
   "metadata": {
    "collapsed": false,
    "ExecuteTime": {
     "end_time": "2025-05-12T07:55:14.800463Z",
     "start_time": "2025-05-12T07:55:14.757287Z"
    }
   },
   "id": "9c6e3b155bbea5c9",
   "execution_count": 18
  },
  {
   "cell_type": "code",
   "outputs": [],
   "source": [
    "weather=pd.read_csv(\"C:\\\\Users\\DELL\\Desktop\\StormEvents_details-ftp_v1.0_d2024_c20250401.csv\")"
   ],
   "metadata": {
    "collapsed": false,
    "ExecuteTime": {
     "end_time": "2025-05-12T11:40:59.235284Z",
     "start_time": "2025-05-12T11:40:57.674868Z"
    }
   },
   "id": "6aec38725d4a3846",
   "execution_count": 27
  },
  {
   "cell_type": "code",
   "outputs": [
    {
     "data": {
      "text/plain": "70196"
     },
     "execution_count": 31,
     "metadata": {},
     "output_type": "execute_result"
    }
   ],
   "source": [
    "len(weather)"
   ],
   "metadata": {
    "collapsed": false,
    "ExecuteTime": {
     "end_time": "2025-05-12T11:46:19.311568Z",
     "start_time": "2025-05-12T11:46:19.181563Z"
    }
   },
   "id": "18d2c6e71d5aebb0",
   "execution_count": 31
  },
  {
   "cell_type": "code",
   "outputs": [
    {
     "name": "stdout",
     "output_type": "stream",
     "text": [
      "Index(['BEGIN_YEARMONTH', 'BEGIN_DAY', 'BEGIN_TIME', 'END_YEARMONTH',\n",
      "       'END_DAY', 'END_TIME', 'EPISODE_ID', 'EVENT_ID', 'STATE', 'STATE_FIPS',\n",
      "       'YEAR', 'MONTH_NAME', 'EVENT_TYPE', 'CZ_TYPE', 'CZ_FIPS', 'CZ_NAME',\n",
      "       'WFO', 'BEGIN_DATE_TIME', 'CZ_TIMEZONE', 'END_DATE_TIME',\n",
      "       'INJURIES_DIRECT', 'INJURIES_INDIRECT', 'DEATHS_DIRECT',\n",
      "       'DEATHS_INDIRECT', 'DAMAGE_PROPERTY', 'DAMAGE_CROPS', 'SOURCE',\n",
      "       'MAGNITUDE', 'MAGNITUDE_TYPE', 'FLOOD_CAUSE', 'CATEGORY', 'TOR_F_SCALE',\n",
      "       'TOR_LENGTH', 'TOR_WIDTH', 'TOR_OTHER_WFO', 'TOR_OTHER_CZ_STATE',\n",
      "       'TOR_OTHER_CZ_FIPS', 'TOR_OTHER_CZ_NAME', 'BEGIN_RANGE',\n",
      "       'BEGIN_AZIMUTH', 'BEGIN_LOCATION', 'END_RANGE', 'END_AZIMUTH',\n",
      "       'END_LOCATION', 'BEGIN_LAT', 'BEGIN_LON', 'END_LAT', 'END_LON',\n",
      "       'EPISODE_NARRATIVE', 'EVENT_NARRATIVE', 'DATA_SOURCE'],\n",
      "      dtype='object')\n"
     ]
    }
   ],
   "source": [
    "print(weather.columns)"
   ],
   "metadata": {
    "collapsed": false,
    "ExecuteTime": {
     "end_time": "2025-05-12T11:41:01.345733Z",
     "start_time": "2025-05-12T11:41:01.322279Z"
    }
   },
   "id": "47a6974a8d758efc",
   "execution_count": 28
  },
  {
   "cell_type": "code",
   "outputs": [
    {
     "name": "stdout",
     "output_type": "stream",
     "text": [
      "['Hail' 'Heavy Snow' 'Tornado' 'Thunderstorm Wind' 'High Wind'\n",
      " 'Funnel Cloud' 'Heavy Rain' 'Drought' 'Flash Flood' 'Winter Weather'\n",
      " 'Marine Thunderstorm Wind' 'Winter Storm' 'Flood' 'Avalanche'\n",
      " 'Astronomical Low Tide' 'Strong Wind' 'Waterspout' 'Lightning'\n",
      " 'Coastal Flood' 'Blizzard' 'Extreme Cold/Wind Chill' 'Wildfire' 'Heat'\n",
      " 'Debris Flow' 'Lake-Effect Snow' 'Dust Storm' 'Rip Current' 'Dense Fog'\n",
      " 'High Surf' 'Marine High Wind' 'Cold/Wind Chill' 'Ice Storm'\n",
      " 'Frost/Freeze' 'Sneakerwave' 'Freezing Fog' 'Excessive Heat' 'Sleet'\n",
      " 'Marine Hail' 'Dust Devil' 'Marine Dense Fog' 'Tropical Storm'\n",
      " 'Storm Surge/Tide' 'Marine Tropical Storm' 'Hurricane'\n",
      " 'Marine Hurricane/Typhoon' 'Marine Strong Wind' 'Tropical Depression'\n",
      " 'Seiche' 'Marine Tropical Depression' 'Lakeshore Flood']\n"
     ]
    }
   ],
   "source": [
    "print(pd.unique(weather['EVENT_TYPE']))"
   ],
   "metadata": {
    "collapsed": false,
    "ExecuteTime": {
     "end_time": "2025-05-12T11:41:02.540499Z",
     "start_time": "2025-05-12T11:41:02.510207Z"
    }
   },
   "id": "177dba05cbf42650",
   "execution_count": 29
  },
  {
   "cell_type": "code",
   "outputs": [
    {
     "data": {
      "text/plain": "       BEGIN_YEARMONTH  BEGIN_DAY  BEGIN_TIME  END_YEARMONTH  END_DAY  \\\n4               199505          9        1005         199505        9   \n13              199505         10          40         199505       10   \n45              199507          4        2012         199507        4   \n54              199504         11        1015         199504       11   \n55              199503          7        1710         199503        7   \n...                ...        ...         ...            ...      ...   \n20459           199505         18         625         199505       18   \n20460           199505         18         619         199505       18   \n20461           199505         18         625         199505       18   \n20462           199505         18         629         199505       18   \n20463           199505         18         644         199505       18   \n\n       END_TIME  EPISODE_ID   EVENT_ID     STATE  STATE_FIPS  ...  END_RANGE  \\\n4          1008         NaN   10313846   ALABAMA           1  ...          0   \n13           40         NaN   10313847   ALABAMA           1  ...          0   \n45         2012         NaN   10314250   ALABAMA           1  ...          0   \n54         1015         NaN   10314454   ALABAMA           1  ...          0   \n55         1710         NaN   10314063   ALABAMA           1  ...          0   \n...         ...         ...        ...       ...         ...  ...        ...   \n20459       628         NaN  990000010  KENTUCKY          21  ...          6   \n20460       625         NaN   10324805  KENTUCKY          21  ...          6   \n20461       629         NaN  990000011  KENTUCKY          21  ...         13   \n20462       644         NaN  990000012  KENTUCKY          21  ...          6   \n20463       646         NaN  990000013  KENTUCKY          21  ...          8   \n\n      END_AZIMUTH   END_LOCATION  BEGIN_LAT  BEGIN_LON    END_LAT    END_LON  \\\n4             NaN            NaN        NaN        NaN        NaN        NaN   \n13            NaN            NaN  30.500000 -88.350000        NaN        NaN   \n45            NaN            NaN  34.030000 -88.170000        NaN        NaN   \n54            NaN            NaN  32.520000 -86.370000  32.530000 -86.300000   \n55            NaN            NaN  34.530000 -86.600000        NaN        NaN   \n...           ...            ...        ...        ...        ...        ...   \n20459          NW        Wilmore  37.900090 -84.802287  37.907270 -84.756500   \n20460          SE        Salvisa  37.854430 -84.867670  37.862820 -84.773060   \n20461         SSE     Versailles  37.862820 -84.773060  37.872220 -84.706256   \n20462          NE  Nicholasville  37.872220 -84.706256  37.929175 -84.473024   \n20463         SSE      Lexington  37.929175 -84.473024  37.931690 -84.441540   \n\n                                       EPISODE_NARRATIVE  \\\n4                                                    NaN   \n13                                                   NaN   \n45                                                   NaN   \n54                                                   NaN   \n55                                                   NaN   \n...                                                  ...   \n20459  The F2 tornado began in Mayo in Central Mercer...   \n20460  The tornado began as an F1 with wind speeds of...   \n20461  The tornado began as an F1 with wind speeds of...   \n20462  The tornado began as an F1 with wind speeds of...   \n20463  The tornado began as an F1 with wind speeds of...   \n\n                                         EVENT_NARRATIVE DATA_SOURCE  \n4      A tornado was observed to touch down near the ...         CSV  \n13     A tornado was reported near the eleven mile ma...         CSV  \n45     A tornado was reported at Henson Springs in no...         CSV  \n54     What appeared to be a small tornado damaged a ...         CSV  \n55     Thunderstorm winds blew the roof off one house...         CSV  \n...                                                  ...         ...  \n20459                                                NaN         NaN  \n20460                                                NaN         NaN  \n20461                                                NaN         NaN  \n20462                                                NaN         NaN  \n20463                                                NaN         NaN  \n\n[1221 rows x 51 columns]",
      "text/html": "<div>\n<style scoped>\n    .dataframe tbody tr th:only-of-type {\n        vertical-align: middle;\n    }\n\n    .dataframe tbody tr th {\n        vertical-align: top;\n    }\n\n    .dataframe thead th {\n        text-align: right;\n    }\n</style>\n<table border=\"1\" class=\"dataframe\">\n  <thead>\n    <tr style=\"text-align: right;\">\n      <th></th>\n      <th>BEGIN_YEARMONTH</th>\n      <th>BEGIN_DAY</th>\n      <th>BEGIN_TIME</th>\n      <th>END_YEARMONTH</th>\n      <th>END_DAY</th>\n      <th>END_TIME</th>\n      <th>EPISODE_ID</th>\n      <th>EVENT_ID</th>\n      <th>STATE</th>\n      <th>STATE_FIPS</th>\n      <th>...</th>\n      <th>END_RANGE</th>\n      <th>END_AZIMUTH</th>\n      <th>END_LOCATION</th>\n      <th>BEGIN_LAT</th>\n      <th>BEGIN_LON</th>\n      <th>END_LAT</th>\n      <th>END_LON</th>\n      <th>EPISODE_NARRATIVE</th>\n      <th>EVENT_NARRATIVE</th>\n      <th>DATA_SOURCE</th>\n    </tr>\n  </thead>\n  <tbody>\n    <tr>\n      <th>4</th>\n      <td>199505</td>\n      <td>9</td>\n      <td>1005</td>\n      <td>199505</td>\n      <td>9</td>\n      <td>1008</td>\n      <td>NaN</td>\n      <td>10313846</td>\n      <td>ALABAMA</td>\n      <td>1</td>\n      <td>...</td>\n      <td>0</td>\n      <td>NaN</td>\n      <td>NaN</td>\n      <td>NaN</td>\n      <td>NaN</td>\n      <td>NaN</td>\n      <td>NaN</td>\n      <td>NaN</td>\n      <td>A tornado was observed to touch down near the ...</td>\n      <td>CSV</td>\n    </tr>\n    <tr>\n      <th>13</th>\n      <td>199505</td>\n      <td>10</td>\n      <td>40</td>\n      <td>199505</td>\n      <td>10</td>\n      <td>40</td>\n      <td>NaN</td>\n      <td>10313847</td>\n      <td>ALABAMA</td>\n      <td>1</td>\n      <td>...</td>\n      <td>0</td>\n      <td>NaN</td>\n      <td>NaN</td>\n      <td>30.500000</td>\n      <td>-88.350000</td>\n      <td>NaN</td>\n      <td>NaN</td>\n      <td>NaN</td>\n      <td>A tornado was reported near the eleven mile ma...</td>\n      <td>CSV</td>\n    </tr>\n    <tr>\n      <th>45</th>\n      <td>199507</td>\n      <td>4</td>\n      <td>2012</td>\n      <td>199507</td>\n      <td>4</td>\n      <td>2012</td>\n      <td>NaN</td>\n      <td>10314250</td>\n      <td>ALABAMA</td>\n      <td>1</td>\n      <td>...</td>\n      <td>0</td>\n      <td>NaN</td>\n      <td>NaN</td>\n      <td>34.030000</td>\n      <td>-88.170000</td>\n      <td>NaN</td>\n      <td>NaN</td>\n      <td>NaN</td>\n      <td>A tornado was reported at Henson Springs in no...</td>\n      <td>CSV</td>\n    </tr>\n    <tr>\n      <th>54</th>\n      <td>199504</td>\n      <td>11</td>\n      <td>1015</td>\n      <td>199504</td>\n      <td>11</td>\n      <td>1015</td>\n      <td>NaN</td>\n      <td>10314454</td>\n      <td>ALABAMA</td>\n      <td>1</td>\n      <td>...</td>\n      <td>0</td>\n      <td>NaN</td>\n      <td>NaN</td>\n      <td>32.520000</td>\n      <td>-86.370000</td>\n      <td>32.530000</td>\n      <td>-86.300000</td>\n      <td>NaN</td>\n      <td>What appeared to be a small tornado damaged a ...</td>\n      <td>CSV</td>\n    </tr>\n    <tr>\n      <th>55</th>\n      <td>199503</td>\n      <td>7</td>\n      <td>1710</td>\n      <td>199503</td>\n      <td>7</td>\n      <td>1710</td>\n      <td>NaN</td>\n      <td>10314063</td>\n      <td>ALABAMA</td>\n      <td>1</td>\n      <td>...</td>\n      <td>0</td>\n      <td>NaN</td>\n      <td>NaN</td>\n      <td>34.530000</td>\n      <td>-86.600000</td>\n      <td>NaN</td>\n      <td>NaN</td>\n      <td>NaN</td>\n      <td>Thunderstorm winds blew the roof off one house...</td>\n      <td>CSV</td>\n    </tr>\n    <tr>\n      <th>...</th>\n      <td>...</td>\n      <td>...</td>\n      <td>...</td>\n      <td>...</td>\n      <td>...</td>\n      <td>...</td>\n      <td>...</td>\n      <td>...</td>\n      <td>...</td>\n      <td>...</td>\n      <td>...</td>\n      <td>...</td>\n      <td>...</td>\n      <td>...</td>\n      <td>...</td>\n      <td>...</td>\n      <td>...</td>\n      <td>...</td>\n      <td>...</td>\n      <td>...</td>\n      <td>...</td>\n    </tr>\n    <tr>\n      <th>20459</th>\n      <td>199505</td>\n      <td>18</td>\n      <td>625</td>\n      <td>199505</td>\n      <td>18</td>\n      <td>628</td>\n      <td>NaN</td>\n      <td>990000010</td>\n      <td>KENTUCKY</td>\n      <td>21</td>\n      <td>...</td>\n      <td>6</td>\n      <td>NW</td>\n      <td>Wilmore</td>\n      <td>37.900090</td>\n      <td>-84.802287</td>\n      <td>37.907270</td>\n      <td>-84.756500</td>\n      <td>The F2 tornado began in Mayo in Central Mercer...</td>\n      <td>NaN</td>\n      <td>NaN</td>\n    </tr>\n    <tr>\n      <th>20460</th>\n      <td>199505</td>\n      <td>18</td>\n      <td>619</td>\n      <td>199505</td>\n      <td>18</td>\n      <td>625</td>\n      <td>NaN</td>\n      <td>10324805</td>\n      <td>KENTUCKY</td>\n      <td>21</td>\n      <td>...</td>\n      <td>6</td>\n      <td>SE</td>\n      <td>Salvisa</td>\n      <td>37.854430</td>\n      <td>-84.867670</td>\n      <td>37.862820</td>\n      <td>-84.773060</td>\n      <td>The tornado began as an F1 with wind speeds of...</td>\n      <td>NaN</td>\n      <td>NaN</td>\n    </tr>\n    <tr>\n      <th>20461</th>\n      <td>199505</td>\n      <td>18</td>\n      <td>625</td>\n      <td>199505</td>\n      <td>18</td>\n      <td>629</td>\n      <td>NaN</td>\n      <td>990000011</td>\n      <td>KENTUCKY</td>\n      <td>21</td>\n      <td>...</td>\n      <td>13</td>\n      <td>SSE</td>\n      <td>Versailles</td>\n      <td>37.862820</td>\n      <td>-84.773060</td>\n      <td>37.872220</td>\n      <td>-84.706256</td>\n      <td>The tornado began as an F1 with wind speeds of...</td>\n      <td>NaN</td>\n      <td>NaN</td>\n    </tr>\n    <tr>\n      <th>20462</th>\n      <td>199505</td>\n      <td>18</td>\n      <td>629</td>\n      <td>199505</td>\n      <td>18</td>\n      <td>644</td>\n      <td>NaN</td>\n      <td>990000012</td>\n      <td>KENTUCKY</td>\n      <td>21</td>\n      <td>...</td>\n      <td>6</td>\n      <td>NE</td>\n      <td>Nicholasville</td>\n      <td>37.872220</td>\n      <td>-84.706256</td>\n      <td>37.929175</td>\n      <td>-84.473024</td>\n      <td>The tornado began as an F1 with wind speeds of...</td>\n      <td>NaN</td>\n      <td>NaN</td>\n    </tr>\n    <tr>\n      <th>20463</th>\n      <td>199505</td>\n      <td>18</td>\n      <td>644</td>\n      <td>199505</td>\n      <td>18</td>\n      <td>646</td>\n      <td>NaN</td>\n      <td>990000013</td>\n      <td>KENTUCKY</td>\n      <td>21</td>\n      <td>...</td>\n      <td>8</td>\n      <td>SSE</td>\n      <td>Lexington</td>\n      <td>37.929175</td>\n      <td>-84.473024</td>\n      <td>37.931690</td>\n      <td>-84.441540</td>\n      <td>The tornado began as an F1 with wind speeds of...</td>\n      <td>NaN</td>\n      <td>NaN</td>\n    </tr>\n  </tbody>\n</table>\n<p>1221 rows × 51 columns</p>\n</div>"
     },
     "execution_count": 24,
     "metadata": {},
     "output_type": "execute_result"
    }
   ],
   "source": [
    "weather[weather['EVENT_TYPE']=='Tornado']"
   ],
   "metadata": {
    "collapsed": false,
    "ExecuteTime": {
     "end_time": "2025-05-12T11:29:20.906925Z",
     "start_time": "2025-05-12T11:29:20.782491Z"
    }
   },
   "id": "f7eb697dd77108a2",
   "execution_count": 24
  },
  {
   "cell_type": "code",
   "outputs": [
    {
     "data": {
      "text/plain": "       BEGIN_YEARMONTH  BEGIN_DAY  BEGIN_TIME  END_YEARMONTH  END_DAY  \\\n1               202411         16         230         202411       18   \n9               202411         17        1100         202411       18   \n11              202411         17        1100         202411       18   \n12              202411         17        1000         202411       18   \n13              202411         17        1000         202411       18   \n...                ...        ...         ...            ...      ...   \n70150           202407         16           0         202407       30   \n70151           202407         16           0         202407       23   \n70153           202407         24        1300         202407       26   \n70177           202407         16           0         202407       23   \n70180           202407          1           0         202407        4   \n\n       END_TIME  EPISODE_ID  EVENT_ID       STATE  STATE_FIPS  ...  END_RANGE  \\\n1          1421      197838   1223377      OREGON          41  ...        NaN   \n9          2100      197535   1221931      OREGON          41  ...        NaN   \n11         2100      197535   1221930      OREGON          41  ...        NaN   \n12         2100      197535   1221932      OREGON          41  ...        NaN   \n13         2100      197536   1221933  WASHINGTON          53  ...        NaN   \n...         ...         ...       ...         ...         ...  ...        ...   \n70150         0      195621   1209116     ALABAMA           1  ...        NaN   \n70151         0      195621   1209118     ALABAMA           1  ...        NaN   \n70153         0      195257   1206980  CALIFORNIA           6  ...        NaN   \n70177         0      195621   1209119     ALABAMA           1  ...        NaN   \n70180       400      194192   1199942        IOWA          19  ...        1.0   \n\n      END_AZIMUTH END_LOCATION BEGIN_LAT  BEGIN_LON  END_LAT  END_LON  \\\n1             NaN          NaN       NaN        NaN      NaN      NaN   \n9             NaN          NaN       NaN        NaN      NaN      NaN   \n11            NaN          NaN       NaN        NaN      NaN      NaN   \n12            NaN          NaN       NaN        NaN      NaN      NaN   \n13            NaN          NaN       NaN        NaN      NaN      NaN   \n...           ...          ...       ...        ...      ...      ...   \n70150         NaN          NaN       NaN        NaN      NaN      NaN   \n70151         NaN          NaN       NaN        NaN      NaN      NaN   \n70153         NaN          NaN       NaN        NaN      NaN      NaN   \n70177         NaN          NaN       NaN        NaN      NaN      NaN   \n70180          NW      GRANITE      43.5   -96.5986  43.4825 -96.5849   \n\n                                       EPISODE_NARRATIVE  \\\n1      A series of cold fronts the weekend of Nov. 16...   \n9      A cold frontal boundary arriving on Nov 17th f...   \n11     A cold frontal boundary arriving on Nov 17th f...   \n12     A cold frontal boundary arriving on Nov 17th f...   \n13     A cold frontal boundary arriving on Nov 17th f...   \n...                                                  ...   \n70150  Thanks to some late-month rainfall for the are...   \n70151  Thanks to some late-month rainfall for the are...   \n70153  Several wildfires erupted in July, mainly late...   \n70177  Thanks to some late-month rainfall for the are...   \n70180  River levels from the historic June flooding r...   \n\n                                         EVENT_NARRATIVE DATA_SOURCE  \n1      The Hog Pass SNOTEL reported an estimated 12 i...         CSV  \n9      Bear Grass SNOTEL at 4720 ft recorded 20 inche...         CSV  \n11     The Red Hill SNOTEL at 4410ft recorded 19 inch...         CSV  \n12     McKenzie SNOTEL at 4770 ft recorded 16 inches ...         CSV  \n13     June Lake SNOTEL at 3440 ft recorded 18 inches...         CSV  \n...                                                  ...         ...  \n70150  D3 Conditions were removed thanks to recent ra...         CSV  \n70151  D3 Conditions were removed thanks to recent ra...         CSV  \n70153  Grove wildfire started around 1 pm PDT on July...         CSV  \n70177  D3 Conditions were removed thanks to recent ra...         CSV  \n70180  Flooding continued from June on the Big Sioux ...         CSV  \n\n[15685 rows x 51 columns]",
      "text/html": "<div>\n<style scoped>\n    .dataframe tbody tr th:only-of-type {\n        vertical-align: middle;\n    }\n\n    .dataframe tbody tr th {\n        vertical-align: top;\n    }\n\n    .dataframe thead th {\n        text-align: right;\n    }\n</style>\n<table border=\"1\" class=\"dataframe\">\n  <thead>\n    <tr style=\"text-align: right;\">\n      <th></th>\n      <th>BEGIN_YEARMONTH</th>\n      <th>BEGIN_DAY</th>\n      <th>BEGIN_TIME</th>\n      <th>END_YEARMONTH</th>\n      <th>END_DAY</th>\n      <th>END_TIME</th>\n      <th>EPISODE_ID</th>\n      <th>EVENT_ID</th>\n      <th>STATE</th>\n      <th>STATE_FIPS</th>\n      <th>...</th>\n      <th>END_RANGE</th>\n      <th>END_AZIMUTH</th>\n      <th>END_LOCATION</th>\n      <th>BEGIN_LAT</th>\n      <th>BEGIN_LON</th>\n      <th>END_LAT</th>\n      <th>END_LON</th>\n      <th>EPISODE_NARRATIVE</th>\n      <th>EVENT_NARRATIVE</th>\n      <th>DATA_SOURCE</th>\n    </tr>\n  </thead>\n  <tbody>\n    <tr>\n      <th>1</th>\n      <td>202411</td>\n      <td>16</td>\n      <td>230</td>\n      <td>202411</td>\n      <td>18</td>\n      <td>1421</td>\n      <td>197838</td>\n      <td>1223377</td>\n      <td>OREGON</td>\n      <td>41</td>\n      <td>...</td>\n      <td>NaN</td>\n      <td>NaN</td>\n      <td>NaN</td>\n      <td>NaN</td>\n      <td>NaN</td>\n      <td>NaN</td>\n      <td>NaN</td>\n      <td>A series of cold fronts the weekend of Nov. 16...</td>\n      <td>The Hog Pass SNOTEL reported an estimated 12 i...</td>\n      <td>CSV</td>\n    </tr>\n    <tr>\n      <th>9</th>\n      <td>202411</td>\n      <td>17</td>\n      <td>1100</td>\n      <td>202411</td>\n      <td>18</td>\n      <td>2100</td>\n      <td>197535</td>\n      <td>1221931</td>\n      <td>OREGON</td>\n      <td>41</td>\n      <td>...</td>\n      <td>NaN</td>\n      <td>NaN</td>\n      <td>NaN</td>\n      <td>NaN</td>\n      <td>NaN</td>\n      <td>NaN</td>\n      <td>NaN</td>\n      <td>A cold frontal boundary arriving on Nov 17th f...</td>\n      <td>Bear Grass SNOTEL at 4720 ft recorded 20 inche...</td>\n      <td>CSV</td>\n    </tr>\n    <tr>\n      <th>11</th>\n      <td>202411</td>\n      <td>17</td>\n      <td>1100</td>\n      <td>202411</td>\n      <td>18</td>\n      <td>2100</td>\n      <td>197535</td>\n      <td>1221930</td>\n      <td>OREGON</td>\n      <td>41</td>\n      <td>...</td>\n      <td>NaN</td>\n      <td>NaN</td>\n      <td>NaN</td>\n      <td>NaN</td>\n      <td>NaN</td>\n      <td>NaN</td>\n      <td>NaN</td>\n      <td>A cold frontal boundary arriving on Nov 17th f...</td>\n      <td>The Red Hill SNOTEL at 4410ft recorded 19 inch...</td>\n      <td>CSV</td>\n    </tr>\n    <tr>\n      <th>12</th>\n      <td>202411</td>\n      <td>17</td>\n      <td>1000</td>\n      <td>202411</td>\n      <td>18</td>\n      <td>2100</td>\n      <td>197535</td>\n      <td>1221932</td>\n      <td>OREGON</td>\n      <td>41</td>\n      <td>...</td>\n      <td>NaN</td>\n      <td>NaN</td>\n      <td>NaN</td>\n      <td>NaN</td>\n      <td>NaN</td>\n      <td>NaN</td>\n      <td>NaN</td>\n      <td>A cold frontal boundary arriving on Nov 17th f...</td>\n      <td>McKenzie SNOTEL at 4770 ft recorded 16 inches ...</td>\n      <td>CSV</td>\n    </tr>\n    <tr>\n      <th>13</th>\n      <td>202411</td>\n      <td>17</td>\n      <td>1000</td>\n      <td>202411</td>\n      <td>18</td>\n      <td>2100</td>\n      <td>197536</td>\n      <td>1221933</td>\n      <td>WASHINGTON</td>\n      <td>53</td>\n      <td>...</td>\n      <td>NaN</td>\n      <td>NaN</td>\n      <td>NaN</td>\n      <td>NaN</td>\n      <td>NaN</td>\n      <td>NaN</td>\n      <td>NaN</td>\n      <td>A cold frontal boundary arriving on Nov 17th f...</td>\n      <td>June Lake SNOTEL at 3440 ft recorded 18 inches...</td>\n      <td>CSV</td>\n    </tr>\n    <tr>\n      <th>...</th>\n      <td>...</td>\n      <td>...</td>\n      <td>...</td>\n      <td>...</td>\n      <td>...</td>\n      <td>...</td>\n      <td>...</td>\n      <td>...</td>\n      <td>...</td>\n      <td>...</td>\n      <td>...</td>\n      <td>...</td>\n      <td>...</td>\n      <td>...</td>\n      <td>...</td>\n      <td>...</td>\n      <td>...</td>\n      <td>...</td>\n      <td>...</td>\n      <td>...</td>\n      <td>...</td>\n    </tr>\n    <tr>\n      <th>70150</th>\n      <td>202407</td>\n      <td>16</td>\n      <td>0</td>\n      <td>202407</td>\n      <td>30</td>\n      <td>0</td>\n      <td>195621</td>\n      <td>1209116</td>\n      <td>ALABAMA</td>\n      <td>1</td>\n      <td>...</td>\n      <td>NaN</td>\n      <td>NaN</td>\n      <td>NaN</td>\n      <td>NaN</td>\n      <td>NaN</td>\n      <td>NaN</td>\n      <td>NaN</td>\n      <td>Thanks to some late-month rainfall for the are...</td>\n      <td>D3 Conditions were removed thanks to recent ra...</td>\n      <td>CSV</td>\n    </tr>\n    <tr>\n      <th>70151</th>\n      <td>202407</td>\n      <td>16</td>\n      <td>0</td>\n      <td>202407</td>\n      <td>23</td>\n      <td>0</td>\n      <td>195621</td>\n      <td>1209118</td>\n      <td>ALABAMA</td>\n      <td>1</td>\n      <td>...</td>\n      <td>NaN</td>\n      <td>NaN</td>\n      <td>NaN</td>\n      <td>NaN</td>\n      <td>NaN</td>\n      <td>NaN</td>\n      <td>NaN</td>\n      <td>Thanks to some late-month rainfall for the are...</td>\n      <td>D3 Conditions were removed thanks to recent ra...</td>\n      <td>CSV</td>\n    </tr>\n    <tr>\n      <th>70153</th>\n      <td>202407</td>\n      <td>24</td>\n      <td>1300</td>\n      <td>202407</td>\n      <td>26</td>\n      <td>0</td>\n      <td>195257</td>\n      <td>1206980</td>\n      <td>CALIFORNIA</td>\n      <td>6</td>\n      <td>...</td>\n      <td>NaN</td>\n      <td>NaN</td>\n      <td>NaN</td>\n      <td>NaN</td>\n      <td>NaN</td>\n      <td>NaN</td>\n      <td>NaN</td>\n      <td>Several wildfires erupted in July, mainly late...</td>\n      <td>Grove wildfire started around 1 pm PDT on July...</td>\n      <td>CSV</td>\n    </tr>\n    <tr>\n      <th>70177</th>\n      <td>202407</td>\n      <td>16</td>\n      <td>0</td>\n      <td>202407</td>\n      <td>23</td>\n      <td>0</td>\n      <td>195621</td>\n      <td>1209119</td>\n      <td>ALABAMA</td>\n      <td>1</td>\n      <td>...</td>\n      <td>NaN</td>\n      <td>NaN</td>\n      <td>NaN</td>\n      <td>NaN</td>\n      <td>NaN</td>\n      <td>NaN</td>\n      <td>NaN</td>\n      <td>Thanks to some late-month rainfall for the are...</td>\n      <td>D3 Conditions were removed thanks to recent ra...</td>\n      <td>CSV</td>\n    </tr>\n    <tr>\n      <th>70180</th>\n      <td>202407</td>\n      <td>1</td>\n      <td>0</td>\n      <td>202407</td>\n      <td>4</td>\n      <td>400</td>\n      <td>194192</td>\n      <td>1199942</td>\n      <td>IOWA</td>\n      <td>19</td>\n      <td>...</td>\n      <td>1.0</td>\n      <td>NW</td>\n      <td>GRANITE</td>\n      <td>43.5</td>\n      <td>-96.5986</td>\n      <td>43.4825</td>\n      <td>-96.5849</td>\n      <td>River levels from the historic June flooding r...</td>\n      <td>Flooding continued from June on the Big Sioux ...</td>\n      <td>CSV</td>\n    </tr>\n  </tbody>\n</table>\n<p>15685 rows × 51 columns</p>\n</div>"
     },
     "execution_count": 30,
     "metadata": {},
     "output_type": "execute_result"
    }
   ],
   "source": [
    "weather[weather['BEGIN_DAY']!=weather['END_DAY']]"
   ],
   "metadata": {
    "collapsed": false,
    "ExecuteTime": {
     "end_time": "2025-05-12T11:41:16.906882Z",
     "start_time": "2025-05-12T11:41:16.779809Z"
    }
   },
   "id": "f21c1e48189f446c",
   "execution_count": 30
  },
  {
   "cell_type": "code",
   "outputs": [],
   "source": [
    "planes=pd.read_csv(\"C:\\\\Users\\DELL\\Downloads\\plane-data.csv\")"
   ],
   "metadata": {
    "collapsed": false,
    "ExecuteTime": {
     "end_time": "2025-06-05T10:41:39.222190Z",
     "start_time": "2025-06-05T10:41:39.031791Z"
    }
   },
   "id": "f3b1cf4ce9d644dc",
   "execution_count": 8
  },
  {
   "cell_type": "markdown",
   "source": [
    "## Planes joined flights"
   ],
   "metadata": {
    "collapsed": false
   },
   "id": "91750de3a8d57804"
  },
  {
   "cell_type": "code",
   "outputs": [],
   "source": [
    "planes_for_join=planes.iloc[:,[0,8]]"
   ],
   "metadata": {
    "collapsed": false,
    "ExecuteTime": {
     "end_time": "2025-06-05T10:59:09.133261Z",
     "start_time": "2025-06-05T10:59:09.116197Z"
    }
   },
   "id": "53f462bd5116de1b",
   "execution_count": 10
  },
  {
   "cell_type": "code",
   "outputs": [
    {
     "name": "stderr",
     "output_type": "stream",
     "text": [
      "C:\\Users\\DELL\\AppData\\Local\\Temp\\ipykernel_13972\\1022968873.py:1: SettingWithCopyWarning: \n",
      "A value is trying to be set on a copy of a slice from a DataFrame\n",
      "\n",
      "See the caveats in the documentation: https://pandas.pydata.org/pandas-docs/stable/user_guide/indexing.html#returning-a-view-versus-a-copy\n",
      "  planes_for_join.dropna(inplace=True)\n"
     ]
    }
   ],
   "source": [
    "planes_for_join.dropna(inplace=True)"
   ],
   "metadata": {
    "collapsed": false,
    "ExecuteTime": {
     "end_time": "2025-06-05T10:59:31.692919Z",
     "start_time": "2025-06-05T10:59:31.658978Z"
    }
   },
   "id": "a1e5b833ac641702",
   "execution_count": 11
  },
  {
   "cell_type": "code",
   "outputs": [
    {
     "data": {
      "text/plain": "     tailnum    year\n34    N10156  2004.0\n35    N102UW  1998.0\n36    N10323  1986.0\n37    N103US  1999.0\n38    N104UA  1998.0\n...      ...     ...\n5024  N997DL  1992.0\n5025  N998AT  2002.0\n5026  N998DL  1992.0\n5027  N999CA  1998.0\n5028  N999DN  1992.0\n\n[4335 rows x 2 columns]",
      "text/html": "<div>\n<style scoped>\n    .dataframe tbody tr th:only-of-type {\n        vertical-align: middle;\n    }\n\n    .dataframe tbody tr th {\n        vertical-align: top;\n    }\n\n    .dataframe thead th {\n        text-align: right;\n    }\n</style>\n<table border=\"1\" class=\"dataframe\">\n  <thead>\n    <tr style=\"text-align: right;\">\n      <th></th>\n      <th>tailnum</th>\n      <th>year</th>\n    </tr>\n  </thead>\n  <tbody>\n    <tr>\n      <th>34</th>\n      <td>N10156</td>\n      <td>2004.0</td>\n    </tr>\n    <tr>\n      <th>35</th>\n      <td>N102UW</td>\n      <td>1998.0</td>\n    </tr>\n    <tr>\n      <th>36</th>\n      <td>N10323</td>\n      <td>1986.0</td>\n    </tr>\n    <tr>\n      <th>37</th>\n      <td>N103US</td>\n      <td>1999.0</td>\n    </tr>\n    <tr>\n      <th>38</th>\n      <td>N104UA</td>\n      <td>1998.0</td>\n    </tr>\n    <tr>\n      <th>...</th>\n      <td>...</td>\n      <td>...</td>\n    </tr>\n    <tr>\n      <th>5024</th>\n      <td>N997DL</td>\n      <td>1992.0</td>\n    </tr>\n    <tr>\n      <th>5025</th>\n      <td>N998AT</td>\n      <td>2002.0</td>\n    </tr>\n    <tr>\n      <th>5026</th>\n      <td>N998DL</td>\n      <td>1992.0</td>\n    </tr>\n    <tr>\n      <th>5027</th>\n      <td>N999CA</td>\n      <td>1998.0</td>\n    </tr>\n    <tr>\n      <th>5028</th>\n      <td>N999DN</td>\n      <td>1992.0</td>\n    </tr>\n  </tbody>\n</table>\n<p>4335 rows × 2 columns</p>\n</div>"
     },
     "execution_count": 12,
     "metadata": {},
     "output_type": "execute_result"
    }
   ],
   "source": [
    "planes_for_join"
   ],
   "metadata": {
    "collapsed": false,
    "ExecuteTime": {
     "end_time": "2025-06-05T11:00:06.986456Z",
     "start_time": "2025-06-05T11:00:06.926753Z"
    }
   },
   "id": "6eace0063606d0f7",
   "execution_count": 12
  },
  {
   "cell_type": "code",
   "outputs": [],
   "source": [
    "facts_for_join=facts.iloc[:,[0,1,2,3,6,9]]"
   ],
   "metadata": {
    "collapsed": false,
    "ExecuteTime": {
     "end_time": "2025-06-05T11:03:45.264945Z",
     "start_time": "2025-06-05T11:03:45.220114Z"
    }
   },
   "id": "39875b3602d059aa",
   "execution_count": 15
  },
  {
   "cell_type": "code",
   "outputs": [
    {
     "data": {
      "text/plain": "        YEAR  QUARTER  MONTH  DAY_OF_MONTH OP_UNIQUE_CARRIER TAIL_NUM\n0       2025        1      1             1                AA   N101NN\n1       2025        1      1             1                AA   N101NN\n2       2025        1      1             1                AA   N102UW\n3       2025        1      1             1                AA   N103NN\n4       2025        1      1             1                AA   N103NN\n...      ...      ...    ...           ...               ...      ...\n539742  2025        1      1            31                YX   N979RP\n539743  2025        1      1            31                YX   N979RP\n539744  2025        1      1            31                YX   N979RP\n539745  2025        1      1            31                YX   N979RP\n539746  2025        1      1            31                YX   N979RP\n\n[539747 rows x 6 columns]",
      "text/html": "<div>\n<style scoped>\n    .dataframe tbody tr th:only-of-type {\n        vertical-align: middle;\n    }\n\n    .dataframe tbody tr th {\n        vertical-align: top;\n    }\n\n    .dataframe thead th {\n        text-align: right;\n    }\n</style>\n<table border=\"1\" class=\"dataframe\">\n  <thead>\n    <tr style=\"text-align: right;\">\n      <th></th>\n      <th>YEAR</th>\n      <th>QUARTER</th>\n      <th>MONTH</th>\n      <th>DAY_OF_MONTH</th>\n      <th>OP_UNIQUE_CARRIER</th>\n      <th>TAIL_NUM</th>\n    </tr>\n  </thead>\n  <tbody>\n    <tr>\n      <th>0</th>\n      <td>2025</td>\n      <td>1</td>\n      <td>1</td>\n      <td>1</td>\n      <td>AA</td>\n      <td>N101NN</td>\n    </tr>\n    <tr>\n      <th>1</th>\n      <td>2025</td>\n      <td>1</td>\n      <td>1</td>\n      <td>1</td>\n      <td>AA</td>\n      <td>N101NN</td>\n    </tr>\n    <tr>\n      <th>2</th>\n      <td>2025</td>\n      <td>1</td>\n      <td>1</td>\n      <td>1</td>\n      <td>AA</td>\n      <td>N102UW</td>\n    </tr>\n    <tr>\n      <th>3</th>\n      <td>2025</td>\n      <td>1</td>\n      <td>1</td>\n      <td>1</td>\n      <td>AA</td>\n      <td>N103NN</td>\n    </tr>\n    <tr>\n      <th>4</th>\n      <td>2025</td>\n      <td>1</td>\n      <td>1</td>\n      <td>1</td>\n      <td>AA</td>\n      <td>N103NN</td>\n    </tr>\n    <tr>\n      <th>...</th>\n      <td>...</td>\n      <td>...</td>\n      <td>...</td>\n      <td>...</td>\n      <td>...</td>\n      <td>...</td>\n    </tr>\n    <tr>\n      <th>539742</th>\n      <td>2025</td>\n      <td>1</td>\n      <td>1</td>\n      <td>31</td>\n      <td>YX</td>\n      <td>N979RP</td>\n    </tr>\n    <tr>\n      <th>539743</th>\n      <td>2025</td>\n      <td>1</td>\n      <td>1</td>\n      <td>31</td>\n      <td>YX</td>\n      <td>N979RP</td>\n    </tr>\n    <tr>\n      <th>539744</th>\n      <td>2025</td>\n      <td>1</td>\n      <td>1</td>\n      <td>31</td>\n      <td>YX</td>\n      <td>N979RP</td>\n    </tr>\n    <tr>\n      <th>539745</th>\n      <td>2025</td>\n      <td>1</td>\n      <td>1</td>\n      <td>31</td>\n      <td>YX</td>\n      <td>N979RP</td>\n    </tr>\n    <tr>\n      <th>539746</th>\n      <td>2025</td>\n      <td>1</td>\n      <td>1</td>\n      <td>31</td>\n      <td>YX</td>\n      <td>N979RP</td>\n    </tr>\n  </tbody>\n</table>\n<p>539747 rows × 6 columns</p>\n</div>"
     },
     "execution_count": 16,
     "metadata": {},
     "output_type": "execute_result"
    }
   ],
   "source": [
    "facts_for_join"
   ],
   "metadata": {
    "collapsed": false,
    "ExecuteTime": {
     "end_time": "2025-06-05T11:03:46.054366Z",
     "start_time": "2025-06-05T11:03:46.034409Z"
    }
   },
   "id": "d9e2498d4256d9f0",
   "execution_count": 16
  },
  {
   "cell_type": "code",
   "outputs": [],
   "source": [
    "unique_pairs = filtered_df[['TAIL_NUM', 'OP_UNIQUE_CARRIER']].drop_duplicates()\n"
   ],
   "metadata": {
    "collapsed": false,
    "ExecuteTime": {
     "end_time": "2025-06-05T11:41:51.898402Z",
     "start_time": "2025-06-05T11:41:51.607601Z"
    }
   },
   "id": "605e09d786f498a0",
   "execution_count": 22
  },
  {
   "cell_type": "code",
   "outputs": [
    {
     "data": {
      "text/plain": "       TAIL_NUM OP_UNIQUE_CARRIER\n0        N101NN                AA\n2        N102UW                AA\n3        N103NN                AA\n6        N103US                AA\n10       N104NN                AA\n...         ...               ...\n528835    276NV                G4\n532996   N778SK                OO\n535219   N77587                UA\n535899   N276WN                WN\n537235   N8606C                WN\n\n[5612 rows x 2 columns]",
      "text/html": "<div>\n<style scoped>\n    .dataframe tbody tr th:only-of-type {\n        vertical-align: middle;\n    }\n\n    .dataframe tbody tr th {\n        vertical-align: top;\n    }\n\n    .dataframe thead th {\n        text-align: right;\n    }\n</style>\n<table border=\"1\" class=\"dataframe\">\n  <thead>\n    <tr style=\"text-align: right;\">\n      <th></th>\n      <th>TAIL_NUM</th>\n      <th>OP_UNIQUE_CARRIER</th>\n    </tr>\n  </thead>\n  <tbody>\n    <tr>\n      <th>0</th>\n      <td>N101NN</td>\n      <td>AA</td>\n    </tr>\n    <tr>\n      <th>2</th>\n      <td>N102UW</td>\n      <td>AA</td>\n    </tr>\n    <tr>\n      <th>3</th>\n      <td>N103NN</td>\n      <td>AA</td>\n    </tr>\n    <tr>\n      <th>6</th>\n      <td>N103US</td>\n      <td>AA</td>\n    </tr>\n    <tr>\n      <th>10</th>\n      <td>N104NN</td>\n      <td>AA</td>\n    </tr>\n    <tr>\n      <th>...</th>\n      <td>...</td>\n      <td>...</td>\n    </tr>\n    <tr>\n      <th>528835</th>\n      <td>276NV</td>\n      <td>G4</td>\n    </tr>\n    <tr>\n      <th>532996</th>\n      <td>N778SK</td>\n      <td>OO</td>\n    </tr>\n    <tr>\n      <th>535219</th>\n      <td>N77587</td>\n      <td>UA</td>\n    </tr>\n    <tr>\n      <th>535899</th>\n      <td>N276WN</td>\n      <td>WN</td>\n    </tr>\n    <tr>\n      <th>537235</th>\n      <td>N8606C</td>\n      <td>WN</td>\n    </tr>\n  </tbody>\n</table>\n<p>5612 rows × 2 columns</p>\n</div>"
     },
     "execution_count": 23,
     "metadata": {},
     "output_type": "execute_result"
    }
   ],
   "source": [
    "unique_pairs"
   ],
   "metadata": {
    "collapsed": false,
    "ExecuteTime": {
     "end_time": "2025-06-05T11:42:01.244209Z",
     "start_time": "2025-06-05T11:42:01.211415Z"
    }
   },
   "id": "ce6555dd9fee71ed",
   "execution_count": 23
  },
  {
   "cell_type": "code",
   "outputs": [],
   "source": [
    "filtered_df = facts_for_join[facts_for_join['TAIL_NUM'].notna() & (facts_for_join['TAIL_NUM'].str.len() > 0)]"
   ],
   "metadata": {
    "collapsed": false,
    "ExecuteTime": {
     "end_time": "2025-06-05T11:06:53.290170Z",
     "start_time": "2025-06-05T11:06:53.055934Z"
    }
   },
   "id": "5211bac7bb18ca1e",
   "execution_count": 20
  },
  {
   "cell_type": "code",
   "outputs": [
    {
     "data": {
      "text/plain": "        YEAR  QUARTER  MONTH  DAY_OF_MONTH OP_UNIQUE_CARRIER TAIL_NUM\n0       2025        1      1             1                AA   N101NN\n1       2025        1      1             1                AA   N101NN\n2       2025        1      1             1                AA   N102UW\n3       2025        1      1             1                AA   N103NN\n4       2025        1      1             1                AA   N103NN\n...      ...      ...    ...           ...               ...      ...\n539742  2025        1      1            31                YX   N979RP\n539743  2025        1      1            31                YX   N979RP\n539744  2025        1      1            31                YX   N979RP\n539745  2025        1      1            31                YX   N979RP\n539746  2025        1      1            31                YX   N979RP\n\n[537217 rows x 6 columns]",
      "text/html": "<div>\n<style scoped>\n    .dataframe tbody tr th:only-of-type {\n        vertical-align: middle;\n    }\n\n    .dataframe tbody tr th {\n        vertical-align: top;\n    }\n\n    .dataframe thead th {\n        text-align: right;\n    }\n</style>\n<table border=\"1\" class=\"dataframe\">\n  <thead>\n    <tr style=\"text-align: right;\">\n      <th></th>\n      <th>YEAR</th>\n      <th>QUARTER</th>\n      <th>MONTH</th>\n      <th>DAY_OF_MONTH</th>\n      <th>OP_UNIQUE_CARRIER</th>\n      <th>TAIL_NUM</th>\n    </tr>\n  </thead>\n  <tbody>\n    <tr>\n      <th>0</th>\n      <td>2025</td>\n      <td>1</td>\n      <td>1</td>\n      <td>1</td>\n      <td>AA</td>\n      <td>N101NN</td>\n    </tr>\n    <tr>\n      <th>1</th>\n      <td>2025</td>\n      <td>1</td>\n      <td>1</td>\n      <td>1</td>\n      <td>AA</td>\n      <td>N101NN</td>\n    </tr>\n    <tr>\n      <th>2</th>\n      <td>2025</td>\n      <td>1</td>\n      <td>1</td>\n      <td>1</td>\n      <td>AA</td>\n      <td>N102UW</td>\n    </tr>\n    <tr>\n      <th>3</th>\n      <td>2025</td>\n      <td>1</td>\n      <td>1</td>\n      <td>1</td>\n      <td>AA</td>\n      <td>N103NN</td>\n    </tr>\n    <tr>\n      <th>4</th>\n      <td>2025</td>\n      <td>1</td>\n      <td>1</td>\n      <td>1</td>\n      <td>AA</td>\n      <td>N103NN</td>\n    </tr>\n    <tr>\n      <th>...</th>\n      <td>...</td>\n      <td>...</td>\n      <td>...</td>\n      <td>...</td>\n      <td>...</td>\n      <td>...</td>\n    </tr>\n    <tr>\n      <th>539742</th>\n      <td>2025</td>\n      <td>1</td>\n      <td>1</td>\n      <td>31</td>\n      <td>YX</td>\n      <td>N979RP</td>\n    </tr>\n    <tr>\n      <th>539743</th>\n      <td>2025</td>\n      <td>1</td>\n      <td>1</td>\n      <td>31</td>\n      <td>YX</td>\n      <td>N979RP</td>\n    </tr>\n    <tr>\n      <th>539744</th>\n      <td>2025</td>\n      <td>1</td>\n      <td>1</td>\n      <td>31</td>\n      <td>YX</td>\n      <td>N979RP</td>\n    </tr>\n    <tr>\n      <th>539745</th>\n      <td>2025</td>\n      <td>1</td>\n      <td>1</td>\n      <td>31</td>\n      <td>YX</td>\n      <td>N979RP</td>\n    </tr>\n    <tr>\n      <th>539746</th>\n      <td>2025</td>\n      <td>1</td>\n      <td>1</td>\n      <td>31</td>\n      <td>YX</td>\n      <td>N979RP</td>\n    </tr>\n  </tbody>\n</table>\n<p>537217 rows × 6 columns</p>\n</div>"
     },
     "execution_count": 21,
     "metadata": {},
     "output_type": "execute_result"
    }
   ],
   "source": [
    "filtered_df"
   ],
   "metadata": {
    "collapsed": false,
    "ExecuteTime": {
     "end_time": "2025-06-05T11:07:03.097742Z",
     "start_time": "2025-06-05T11:07:03.081090Z"
    }
   },
   "id": "27ebcc338875bbe3",
   "execution_count": 21
  },
  {
   "cell_type": "code",
   "outputs": [
    {
     "data": {
      "text/plain": "array([nan, 'Corporation', 'Co-Owner', 'Individual', 'Partnership',\n       'Foreign Corporation'], dtype=object)"
     },
     "execution_count": 5,
     "metadata": {},
     "output_type": "execute_result"
    }
   ],
   "source": [
    "pd.unique(planes['type'])"
   ],
   "metadata": {
    "collapsed": false,
    "ExecuteTime": {
     "end_time": "2025-05-14T11:10:07.996148Z",
     "start_time": "2025-05-14T11:10:07.968769Z"
    }
   },
   "id": "5c4038dac570de39",
   "execution_count": 5
  },
  {
   "cell_type": "code",
   "outputs": [],
   "source": [
    "planes_cleaned=planes.dropna() "
   ],
   "metadata": {
    "collapsed": false,
    "ExecuteTime": {
     "end_time": "2025-06-02T10:18:25.572293Z",
     "start_time": "2025-06-02T10:18:25.536520Z"
    }
   },
   "id": "b5ce07db529f1c7e",
   "execution_count": 7
  },
  {
   "cell_type": "code",
   "outputs": [
    {
     "name": "stderr",
     "output_type": "stream",
     "text": [
      "C:\\Users\\DELL\\AppData\\Local\\Temp\\ipykernel_16536\\465180287.py:1: SettingWithCopyWarning: \n",
      "A value is trying to be set on a copy of a slice from a DataFrame.\n",
      "Try using .loc[row_indexer,col_indexer] = value instead\n",
      "\n",
      "See the caveats in the documentation: https://pandas.pydata.org/pandas-docs/stable/user_guide/indexing.html#returning-a-view-versus-a-copy\n",
      "  planes_cleaned['year'] = planes_cleaned['year'].astype(int)\n"
     ]
    }
   ],
   "source": [
    "planes_cleaned.loc['year'] = planes_cleaned['year'].astype(int)"
   ],
   "metadata": {
    "collapsed": false,
    "ExecuteTime": {
     "end_time": "2025-06-02T10:19:33.348800Z",
     "start_time": "2025-06-02T10:19:33.322810Z"
    }
   },
   "id": "276d4a2d0d11d3f4",
   "execution_count": 11
  },
  {
   "cell_type": "code",
   "outputs": [],
   "source": [
    "planes_cleaned.loc[:,'year'] = planes_cleaned.loc[:,'year'].astype(int)\n"
   ],
   "metadata": {
    "collapsed": false,
    "ExecuteTime": {
     "end_time": "2025-06-02T10:21:02.769500Z",
     "start_time": "2025-06-02T10:21:02.758996Z"
    }
   },
   "id": "47429d2d5d5d34ed",
   "execution_count": 13
  },
  {
   "cell_type": "code",
   "outputs": [
    {
     "data": {
      "text/plain": "     tailnum                 type                   manufacturer  issue_date  \\\n34    N10156          Corporation                        EMBRAER  02/13/2004   \n35    N102UW          Corporation               AIRBUS INDUSTRIE  05/26/1999   \n36    N10323          Corporation                         BOEING  07/01/1997   \n37    N103US          Corporation               AIRBUS INDUSTRIE  06/18/1999   \n38    N104UA          Corporation                         BOEING  01/26/1998   \n...      ...                  ...                            ...         ...   \n5024  N997DL          Corporation  MCDONNELL DOUGLAS AIRCRAFT CO  03/11/1992   \n5025  N998AT          Corporation                         BOEING  01/23/2003   \n5026  N998DL          Corporation  MCDONNELL DOUGLAS CORPORATION  04/02/1992   \n5027  N999CA  Foreign Corporation                       CANADAIR  07/09/2008   \n5028  N999DN          Corporation  MCDONNELL DOUGLAS CORPORATION  04/02/1992   \n\n            model status            aircraft_type engine_type  year  \n34      EMB-145XR  Valid  Fixed Wing Multi-Engine   Turbo-Fan  2004  \n35       A320-214  Valid  Fixed Wing Multi-Engine   Turbo-Fan  1998  \n36        737-3TO  Valid  Fixed Wing Multi-Engine   Turbo-Jet  1986  \n37       A320-214  Valid  Fixed Wing Multi-Engine   Turbo-Fan  1999  \n38        747-422  Valid  Fixed Wing Multi-Engine   Turbo-Fan  1998  \n...           ...    ...                      ...         ...   ...  \n5024        MD-88  Valid  Fixed Wing Multi-Engine   Turbo-Fan  1992  \n5025      717-200  Valid  Fixed Wing Multi-Engine   Turbo-Fan  2002  \n5026        MD-88  Valid  Fixed Wing Multi-Engine   Turbo-Jet  1992  \n5027  CL-600-2B19  Valid  Fixed Wing Multi-Engine   Turbo-Jet  1998  \n5028        MD-88  Valid  Fixed Wing Multi-Engine   Turbo-Jet  1992  \n\n[4332 rows x 9 columns]",
      "text/html": "<div>\n<style scoped>\n    .dataframe tbody tr th:only-of-type {\n        vertical-align: middle;\n    }\n\n    .dataframe tbody tr th {\n        vertical-align: top;\n    }\n\n    .dataframe thead th {\n        text-align: right;\n    }\n</style>\n<table border=\"1\" class=\"dataframe\">\n  <thead>\n    <tr style=\"text-align: right;\">\n      <th></th>\n      <th>tailnum</th>\n      <th>type</th>\n      <th>manufacturer</th>\n      <th>issue_date</th>\n      <th>model</th>\n      <th>status</th>\n      <th>aircraft_type</th>\n      <th>engine_type</th>\n      <th>year</th>\n    </tr>\n  </thead>\n  <tbody>\n    <tr>\n      <th>34</th>\n      <td>N10156</td>\n      <td>Corporation</td>\n      <td>EMBRAER</td>\n      <td>02/13/2004</td>\n      <td>EMB-145XR</td>\n      <td>Valid</td>\n      <td>Fixed Wing Multi-Engine</td>\n      <td>Turbo-Fan</td>\n      <td>2004</td>\n    </tr>\n    <tr>\n      <th>35</th>\n      <td>N102UW</td>\n      <td>Corporation</td>\n      <td>AIRBUS INDUSTRIE</td>\n      <td>05/26/1999</td>\n      <td>A320-214</td>\n      <td>Valid</td>\n      <td>Fixed Wing Multi-Engine</td>\n      <td>Turbo-Fan</td>\n      <td>1998</td>\n    </tr>\n    <tr>\n      <th>36</th>\n      <td>N10323</td>\n      <td>Corporation</td>\n      <td>BOEING</td>\n      <td>07/01/1997</td>\n      <td>737-3TO</td>\n      <td>Valid</td>\n      <td>Fixed Wing Multi-Engine</td>\n      <td>Turbo-Jet</td>\n      <td>1986</td>\n    </tr>\n    <tr>\n      <th>37</th>\n      <td>N103US</td>\n      <td>Corporation</td>\n      <td>AIRBUS INDUSTRIE</td>\n      <td>06/18/1999</td>\n      <td>A320-214</td>\n      <td>Valid</td>\n      <td>Fixed Wing Multi-Engine</td>\n      <td>Turbo-Fan</td>\n      <td>1999</td>\n    </tr>\n    <tr>\n      <th>38</th>\n      <td>N104UA</td>\n      <td>Corporation</td>\n      <td>BOEING</td>\n      <td>01/26/1998</td>\n      <td>747-422</td>\n      <td>Valid</td>\n      <td>Fixed Wing Multi-Engine</td>\n      <td>Turbo-Fan</td>\n      <td>1998</td>\n    </tr>\n    <tr>\n      <th>...</th>\n      <td>...</td>\n      <td>...</td>\n      <td>...</td>\n      <td>...</td>\n      <td>...</td>\n      <td>...</td>\n      <td>...</td>\n      <td>...</td>\n      <td>...</td>\n    </tr>\n    <tr>\n      <th>5024</th>\n      <td>N997DL</td>\n      <td>Corporation</td>\n      <td>MCDONNELL DOUGLAS AIRCRAFT CO</td>\n      <td>03/11/1992</td>\n      <td>MD-88</td>\n      <td>Valid</td>\n      <td>Fixed Wing Multi-Engine</td>\n      <td>Turbo-Fan</td>\n      <td>1992</td>\n    </tr>\n    <tr>\n      <th>5025</th>\n      <td>N998AT</td>\n      <td>Corporation</td>\n      <td>BOEING</td>\n      <td>01/23/2003</td>\n      <td>717-200</td>\n      <td>Valid</td>\n      <td>Fixed Wing Multi-Engine</td>\n      <td>Turbo-Fan</td>\n      <td>2002</td>\n    </tr>\n    <tr>\n      <th>5026</th>\n      <td>N998DL</td>\n      <td>Corporation</td>\n      <td>MCDONNELL DOUGLAS CORPORATION</td>\n      <td>04/02/1992</td>\n      <td>MD-88</td>\n      <td>Valid</td>\n      <td>Fixed Wing Multi-Engine</td>\n      <td>Turbo-Jet</td>\n      <td>1992</td>\n    </tr>\n    <tr>\n      <th>5027</th>\n      <td>N999CA</td>\n      <td>Foreign Corporation</td>\n      <td>CANADAIR</td>\n      <td>07/09/2008</td>\n      <td>CL-600-2B19</td>\n      <td>Valid</td>\n      <td>Fixed Wing Multi-Engine</td>\n      <td>Turbo-Jet</td>\n      <td>1998</td>\n    </tr>\n    <tr>\n      <th>5028</th>\n      <td>N999DN</td>\n      <td>Corporation</td>\n      <td>MCDONNELL DOUGLAS CORPORATION</td>\n      <td>04/02/1992</td>\n      <td>MD-88</td>\n      <td>Valid</td>\n      <td>Fixed Wing Multi-Engine</td>\n      <td>Turbo-Jet</td>\n      <td>1992</td>\n    </tr>\n  </tbody>\n</table>\n<p>4332 rows × 9 columns</p>\n</div>"
     },
     "execution_count": 14,
     "metadata": {},
     "output_type": "execute_result"
    }
   ],
   "source": [
    "planes_cleaned"
   ],
   "metadata": {
    "collapsed": false,
    "ExecuteTime": {
     "end_time": "2025-06-02T10:21:05.151358Z",
     "start_time": "2025-06-02T10:21:05.116903Z"
    }
   },
   "id": "403aea66a0053a9",
   "execution_count": 14
  },
  {
   "cell_type": "code",
   "outputs": [],
   "source": [
    "planes_cleaned_reset = planes_cleaned.reset_index()\n",
    "planes_cleaned_reset.rename(columns={'index': 'id'}, inplace=True)\n",
    "planes_cleaned_reset.to_csv('C:\\\\Users\\DELL\\Downloads\\planes.csv', index=False)\n",
    "\n"
   ],
   "metadata": {
    "collapsed": false,
    "ExecuteTime": {
     "end_time": "2025-06-02T10:21:12.232140Z",
     "start_time": "2025-06-02T10:21:12.173989Z"
    }
   },
   "id": "fc5a478137f28181",
   "execution_count": 15
  },
  {
   "cell_type": "markdown",
   "source": [
    "#PI"
   ],
   "metadata": {
    "collapsed": false
   },
   "id": "c947b87bd222eae"
  },
  {
   "cell_type": "code",
   "outputs": [
    {
     "name": "stdout",
     "output_type": "stream",
     "text": [
      "\n",
      "Processing C:\\Users\\DELL\\Downloads\\Set_res\\arrhythmia.csv:\n",
      "\n",
      "Average metrics by (type, strategy) in C:\\Users\\DELL\\Downloads\\Set_res\\arrhythmia.csv:\n",
      "------------------------------------------------------------\n",
      "\n",
      "Type: augmentation | Strategy: ADASYN\n",
      "  accuracy: 0.9510\n",
      "  auc: 0.9606\n",
      "  f1-score: 0.5785\n",
      "  g-mean: 0.2315\n",
      "  precision: 0.7056\n",
      "  recall: 0.5587\n",
      "\n",
      "Type: augmentation | Strategy: BorderlineSMOTE\n",
      "  accuracy: 0.9508\n",
      "  auc: 0.9580\n",
      "  f1-score: 0.5728\n",
      "  g-mean: 0.2179\n",
      "  precision: 0.6979\n",
      "  recall: 0.5539\n",
      "\n",
      "Type: augmentation | Strategy: SMOTE\n",
      "  accuracy: 0.9516\n",
      "  auc: 0.9653\n",
      "  f1-score: 0.5844\n",
      "  g-mean: 0.2466\n",
      "  precision: 0.7307\n",
      "  recall: 0.5609\n",
      "\n",
      "Type: augmentation | Strategy: random\n",
      "  accuracy: 0.9474\n",
      "  auc: 0.9594\n",
      "  f1-score: 0.5231\n",
      "  g-mean: 0.0984\n",
      "  precision: 0.5837\n",
      "  recall: 0.5219\n",
      "\n",
      "Type: bagging | Strategy: ADASYN\n",
      "  accuracy: 0.9463\n",
      "  auc: 0.9669\n",
      "  f1-score: 0.5045\n",
      "  g-mean: 0.0492\n",
      "  precision: 0.5281\n",
      "  recall: 0.5110\n",
      "\n",
      "Type: bagging | Strategy: BorderlineSMOTE\n",
      "  accuracy: 0.9457\n",
      "  auc: 0.9604\n",
      "  f1-score: 0.4960\n",
      "  g-mean: 0.0268\n",
      "  precision: 0.5028\n",
      "  recall: 0.5060\n",
      "\n",
      "Type: bagging | Strategy: SMOTE\n",
      "  accuracy: 0.9454\n",
      "  auc: 0.9618\n",
      "  f1-score: 0.4910\n",
      "  g-mean: 0.0134\n",
      "  precision: 0.4877\n",
      "  recall: 0.5030\n",
      "\n",
      "Type: bagging | Strategy: random\n",
      "  accuracy: 0.9452\n",
      "  auc: 0.9599\n",
      "  f1-score: 0.4876\n",
      "  g-mean: 0.0045\n",
      "  precision: 0.4776\n",
      "  recall: 0.5010\n",
      "\n",
      "Type: baseline | Strategy: -\n",
      "  accuracy: 0.9451\n",
      "  auc: 0.9512\n",
      "  f1-score: 0.4859\n",
      "  g-mean: 0.0000\n",
      "  precision: 0.4725\n",
      "  recall: 0.5000\n",
      "\n",
      "Processing C:\\Users\\DELL\\Downloads\\Set_res\\car_eval_34.csv:\n",
      "\n",
      "Average metrics by (type, strategy) in C:\\Users\\DELL\\Downloads\\Set_res\\car_eval_34.csv:\n",
      "------------------------------------------------------------\n",
      "\n",
      "Type: augmentation | Strategy: ADASYN\n",
      "  accuracy: 0.9869\n",
      "  auc: 0.9980\n",
      "  f1-score: 0.9543\n",
      "  g-mean: 0.9546\n",
      "  precision: 0.9546\n",
      "  recall: 0.9559\n",
      "\n",
      "Type: augmentation | Strategy: BorderlineSMOTE\n",
      "  accuracy: 0.9869\n",
      "  auc: 0.9981\n",
      "  f1-score: 0.9548\n",
      "  g-mean: 0.9580\n",
      "  precision: 0.9525\n",
      "  recall: 0.9592\n",
      "\n",
      "Type: augmentation | Strategy: SMOTE\n",
      "  accuracy: 0.9868\n",
      "  auc: 0.9981\n",
      "  f1-score: 0.9545\n",
      "  g-mean: 0.9572\n",
      "  precision: 0.9524\n",
      "  recall: 0.9583\n",
      "\n",
      "Type: augmentation | Strategy: random\n",
      "  accuracy: 0.9891\n",
      "  auc: 0.9982\n",
      "  f1-score: 0.9635\n",
      "  g-mean: 0.9791\n",
      "  precision: 0.9498\n",
      "  recall: 0.9793\n",
      "\n",
      "Type: bagging | Strategy: ADASYN\n",
      "  accuracy: 0.9840\n",
      "  auc: 0.9981\n",
      "  f1-score: 0.9421\n",
      "  g-mean: 0.9269\n",
      "  precision: 0.9578\n",
      "  recall: 0.9301\n",
      "\n",
      "Type: bagging | Strategy: BorderlineSMOTE\n",
      "  accuracy: 0.9841\n",
      "  auc: 0.9979\n",
      "  f1-score: 0.9424\n",
      "  g-mean: 0.9274\n",
      "  precision: 0.9579\n",
      "  recall: 0.9305\n",
      "\n",
      "Type: bagging | Strategy: SMOTE\n",
      "  accuracy: 0.9834\n",
      "  auc: 0.9978\n",
      "  f1-score: 0.9398\n",
      "  g-mean: 0.9223\n",
      "  precision: 0.9582\n",
      "  recall: 0.9257\n",
      "\n",
      "Type: bagging | Strategy: random\n",
      "  accuracy: 0.9847\n",
      "  auc: 0.9981\n",
      "  f1-score: 0.9445\n",
      "  g-mean: 0.9293\n",
      "  precision: 0.9602\n",
      "  recall: 0.9324\n",
      "\n",
      "Type: baseline | Strategy: -\n",
      "  accuracy: 0.9837\n",
      "  auc: 0.9979\n",
      "  f1-score: 0.9413\n",
      "  g-mean: 0.9258\n",
      "  precision: 0.9567\n",
      "  recall: 0.9288\n",
      "\n",
      "Processing C:\\Users\\DELL\\Downloads\\Set_res\\car_eval_4.csv:\n",
      "\n",
      "Average metrics by (type, strategy) in C:\\Users\\DELL\\Downloads\\Set_res\\car_eval_4.csv:\n",
      "------------------------------------------------------------\n",
      "\n",
      "Type: augmentation | Strategy: ADASYN\n",
      "  accuracy: 0.9952\n",
      "  auc: 0.9996\n",
      "  f1-score: 0.9664\n",
      "  g-mean: 0.9615\n",
      "  precision: 0.9730\n",
      "  recall: 0.9631\n",
      "\n",
      "Type: augmentation | Strategy: BorderlineSMOTE\n",
      "  accuracy: 0.9955\n",
      "  auc: 0.9996\n",
      "  f1-score: 0.9687\n",
      "  g-mean: 0.9652\n",
      "  precision: 0.9742\n",
      "  recall: 0.9666\n",
      "\n",
      "Type: augmentation | Strategy: SMOTE\n",
      "  accuracy: 0.9955\n",
      "  auc: 0.9996\n",
      "  f1-score: 0.9683\n",
      "  g-mean: 0.9636\n",
      "  precision: 0.9744\n",
      "  recall: 0.9651\n",
      "\n",
      "Type: augmentation | Strategy: random\n",
      "  accuracy: 0.9966\n",
      "  auc: 0.9998\n",
      "  f1-score: 0.9778\n",
      "  g-mean: 0.9891\n",
      "  precision: 0.9687\n",
      "  recall: 0.9894\n",
      "\n",
      "Type: bagging | Strategy: ADASYN\n",
      "  accuracy: 0.9941\n",
      "  auc: 0.9996\n",
      "  f1-score: 0.9562\n",
      "  g-mean: 0.9329\n",
      "  precision: 0.9830\n",
      "  recall: 0.9367\n",
      "\n",
      "Type: bagging | Strategy: BorderlineSMOTE\n",
      "  accuracy: 0.9932\n",
      "  auc: 0.9996\n",
      "  f1-score: 0.9463\n",
      "  g-mean: 0.9078\n",
      "  precision: 0.9909\n",
      "  recall: 0.9148\n",
      "\n",
      "Type: bagging | Strategy: SMOTE\n",
      "  accuracy: 0.9930\n",
      "  auc: 0.9996\n",
      "  f1-score: 0.9457\n",
      "  g-mean: 0.9076\n",
      "  precision: 0.9898\n",
      "  recall: 0.9140\n",
      "\n",
      "Type: bagging | Strategy: random\n",
      "  accuracy: 0.9943\n",
      "  auc: 0.9997\n",
      "  f1-score: 0.9568\n",
      "  g-mean: 0.9292\n",
      "  precision: 0.9881\n",
      "  recall: 0.9335\n",
      "\n",
      "Type: baseline | Strategy: -\n",
      "  accuracy: 0.9934\n",
      "  auc: 0.9995\n",
      "  f1-score: 0.9489\n",
      "  g-mean: 0.9160\n",
      "  precision: 0.9860\n",
      "  recall: 0.9215\n",
      "\n",
      "Processing C:\\Users\\DELL\\Downloads\\Set_res\\ecoli.csv:\n",
      "\n",
      "Average metrics by (type, strategy) in C:\\Users\\DELL\\Downloads\\Set_res\\ecoli.csv:\n",
      "------------------------------------------------------------\n",
      "\n",
      "Type: augmentation | Strategy: ADASYN\n",
      "  accuracy: 0.9184\n",
      "  auc: 0.9360\n",
      "  f1-score: 0.7964\n",
      "  g-mean: 0.8092\n",
      "  precision: 0.7832\n",
      "  recall: 0.8243\n",
      "\n",
      "Type: augmentation | Strategy: BorderlineSMOTE\n",
      "  accuracy: 0.9156\n",
      "  auc: 0.9317\n",
      "  f1-score: 0.7726\n",
      "  g-mean: 0.7534\n",
      "  precision: 0.7773\n",
      "  recall: 0.7848\n",
      "\n",
      "Type: augmentation | Strategy: SMOTE\n",
      "  accuracy: 0.9228\n",
      "  auc: 0.9356\n",
      "  f1-score: 0.7982\n",
      "  g-mean: 0.7886\n",
      "  precision: 0.8043\n",
      "  recall: 0.8077\n",
      "\n",
      "Type: augmentation | Strategy: random\n",
      "  accuracy: 0.9178\n",
      "  auc: 0.9242\n",
      "  f1-score: 0.7724\n",
      "  g-mean: 0.7391\n",
      "  precision: 0.7923\n",
      "  recall: 0.7708\n",
      "\n",
      "Type: bagging | Strategy: ADASYN\n",
      "  accuracy: 0.9251\n",
      "  auc: 0.9439\n",
      "  f1-score: 0.7938\n",
      "  g-mean: 0.7687\n",
      "  precision: 0.8076\n",
      "  recall: 0.7945\n",
      "\n",
      "Type: bagging | Strategy: BorderlineSMOTE\n",
      "  accuracy: 0.9221\n",
      "  auc: 0.9363\n",
      "  f1-score: 0.7735\n",
      "  g-mean: 0.7272\n",
      "  precision: 0.8018\n",
      "  recall: 0.7656\n",
      "\n",
      "Type: bagging | Strategy: SMOTE\n",
      "  accuracy: 0.9282\n",
      "  auc: 0.9443\n",
      "  f1-score: 0.8040\n",
      "  g-mean: 0.7822\n",
      "  precision: 0.8189\n",
      "  recall: 0.8044\n",
      "\n",
      "Type: bagging | Strategy: random\n",
      "  accuracy: 0.9219\n",
      "  auc: 0.9341\n",
      "  f1-score: 0.7506\n",
      "  g-mean: 0.6661\n",
      "  precision: 0.8249\n",
      "  recall: 0.7238\n",
      "\n",
      "Type: baseline | Strategy: -\n",
      "  accuracy: 0.9303\n",
      "  auc: 0.9299\n",
      "  f1-score: 0.7753\n",
      "  g-mean: 0.6919\n",
      "  precision: 0.8480\n",
      "  recall: 0.7443\n",
      "\n",
      "Processing C:\\Users\\DELL\\Downloads\\Set_res\\oil.csv:\n",
      "\n",
      "Average metrics by (type, strategy) in C:\\Users\\DELL\\Downloads\\Set_res\\oil.csv:\n",
      "------------------------------------------------------------\n",
      "\n",
      "Type: augmentation | Strategy: ADASYN\n",
      "  accuracy: 0.9707\n",
      "  auc: 0.9476\n",
      "  f1-score: 0.7843\n",
      "  g-mean: 0.6964\n",
      "  precision: 0.8614\n",
      "  recall: 0.7476\n",
      "\n",
      "Type: augmentation | Strategy: BorderlineSMOTE\n",
      "  accuracy: 0.9686\n",
      "  auc: 0.9455\n",
      "  f1-score: 0.7676\n",
      "  g-mean: 0.6749\n",
      "  precision: 0.8426\n",
      "  recall: 0.7328\n",
      "\n",
      "Type: augmentation | Strategy: SMOTE\n",
      "  accuracy: 0.9698\n",
      "  auc: 0.9534\n",
      "  f1-score: 0.7742\n",
      "  g-mean: 0.6776\n",
      "  precision: 0.8587\n",
      "  recall: 0.7388\n",
      "\n",
      "Type: augmentation | Strategy: random\n",
      "  accuracy: 0.9646\n",
      "  auc: 0.9415\n",
      "  f1-score: 0.7003\n",
      "  g-mean: 0.5337\n",
      "  precision: 0.8395\n",
      "  recall: 0.6548\n",
      "\n",
      "Type: bagging | Strategy: ADASYN\n",
      "  accuracy: 0.9684\n",
      "  auc: 0.9552\n",
      "  f1-score: 0.7397\n",
      "  g-mean: 0.5959\n",
      "  precision: 0.8614\n",
      "  recall: 0.6896\n",
      "\n",
      "Type: bagging | Strategy: BorderlineSMOTE\n",
      "  accuracy: 0.9678\n",
      "  auc: 0.9436\n",
      "  f1-score: 0.7228\n",
      "  g-mean: 0.5699\n",
      "  precision: 0.8806\n",
      "  recall: 0.6702\n",
      "\n",
      "Type: bagging | Strategy: SMOTE\n",
      "  accuracy: 0.9671\n",
      "  auc: 0.9520\n",
      "  f1-score: 0.7275\n",
      "  g-mean: 0.5884\n",
      "  precision: 0.8620\n",
      "  recall: 0.6812\n",
      "\n",
      "Type: bagging | Strategy: random\n",
      "  accuracy: 0.9620\n",
      "  auc: 0.9387\n",
      "  f1-score: 0.6168\n",
      "  g-mean: 0.3554\n",
      "  precision: 0.8083\n",
      "  recall: 0.5812\n",
      "\n",
      "Type: baseline | Strategy: -\n",
      "  accuracy: 0.9646\n",
      "  auc: 0.9255\n",
      "  f1-score: 0.6752\n",
      "  g-mean: 0.4757\n",
      "  precision: 0.8563\n",
      "  recall: 0.6286\n",
      "\n",
      "Processing C:\\Users\\DELL\\Downloads\\Set_res\\optical_digits.csv:\n",
      "\n",
      "Average metrics by (type, strategy) in C:\\Users\\DELL\\Downloads\\Set_res\\optical_digits.csv:\n",
      "------------------------------------------------------------\n",
      "\n",
      "Type: augmentation | Strategy: ADASYN\n",
      "  accuracy: 0.9849\n",
      "  auc: 0.9991\n",
      "  f1-score: 0.9545\n",
      "  g-mean: 0.9228\n",
      "  precision: 0.9889\n",
      "  recall: 0.9259\n",
      "\n",
      "Type: augmentation | Strategy: BorderlineSMOTE\n",
      "  accuracy: 0.9819\n",
      "  auc: 0.9990\n",
      "  f1-score: 0.9445\n",
      "  g-mean: 0.9051\n",
      "  precision: 0.9883\n",
      "  recall: 0.9098\n",
      "\n",
      "Type: augmentation | Strategy: SMOTE\n",
      "  accuracy: 0.9857\n",
      "  auc: 0.9992\n",
      "  f1-score: 0.9572\n",
      "  g-mean: 0.9273\n",
      "  precision: 0.9895\n",
      "  recall: 0.9301\n",
      "\n",
      "Type: augmentation | Strategy: random\n",
      "  accuracy: 0.9857\n",
      "  auc: 0.9992\n",
      "  f1-score: 0.9569\n",
      "  g-mean: 0.9262\n",
      "  precision: 0.9903\n",
      "  recall: 0.9290\n",
      "\n",
      "Type: bagging | Strategy: ADASYN\n",
      "  accuracy: 0.9822\n",
      "  auc: 0.9991\n",
      "  f1-score: 0.9455\n",
      "  g-mean: 0.9062\n",
      "  precision: 0.9892\n",
      "  recall: 0.9108\n",
      "\n",
      "Type: bagging | Strategy: BorderlineSMOTE\n",
      "  accuracy: 0.9807\n",
      "  auc: 0.9992\n",
      "  f1-score: 0.9402\n",
      "  g-mean: 0.8968\n",
      "  precision: 0.9891\n",
      "  recall: 0.9024\n",
      "\n",
      "Type: bagging | Strategy: SMOTE\n",
      "  accuracy: 0.9830\n",
      "  auc: 0.9990\n",
      "  f1-score: 0.9483\n",
      "  g-mean: 0.9111\n",
      "  precision: 0.9894\n",
      "  recall: 0.9152\n",
      "\n",
      "Type: bagging | Strategy: random\n",
      "  accuracy: 0.9793\n",
      "  auc: 0.9991\n",
      "  f1-score: 0.9358\n",
      "  g-mean: 0.8897\n",
      "  precision: 0.9879\n",
      "  recall: 0.8960\n",
      "\n",
      "Type: baseline | Strategy: -\n",
      "  accuracy: 0.9793\n",
      "  auc: 0.9990\n",
      "  f1-score: 0.9354\n",
      "  g-mean: 0.8887\n",
      "  precision: 0.9887\n",
      "  recall: 0.8951\n",
      "\n",
      "Processing C:\\Users\\DELL\\Downloads\\Set_res\\thyroid_sick.csv:\n",
      "\n",
      "Average metrics by (type, strategy) in C:\\Users\\DELL\\Downloads\\Set_res\\thyroid_sick.csv:\n",
      "------------------------------------------------------------\n",
      "\n",
      "Type: augmentation | Strategy: ADASYN\n",
      "  accuracy: 0.9836\n",
      "  auc: 0.9951\n",
      "  f1-score: 0.9260\n",
      "  g-mean: 0.9091\n",
      "  precision: 0.9414\n",
      "  recall: 0.9132\n",
      "\n",
      "Type: augmentation | Strategy: BorderlineSMOTE\n",
      "  accuracy: 0.9848\n",
      "  auc: 0.9956\n",
      "  f1-score: 0.9311\n",
      "  g-mean: 0.9143\n",
      "  precision: 0.9465\n",
      "  recall: 0.9180\n",
      "\n",
      "Type: augmentation | Strategy: SMOTE\n",
      "  accuracy: 0.9848\n",
      "  auc: 0.9958\n",
      "  f1-score: 0.9305\n",
      "  g-mean: 0.9114\n",
      "  precision: 0.9485\n",
      "  recall: 0.9154\n",
      "\n",
      "Type: augmentation | Strategy: random\n",
      "  accuracy: 0.9848\n",
      "  auc: 0.9961\n",
      "  f1-score: 0.9316\n",
      "  g-mean: 0.9154\n",
      "  precision: 0.9463\n",
      "  recall: 0.9188\n",
      "\n",
      "Type: bagging | Strategy: ADASYN\n",
      "  accuracy: 0.9823\n",
      "  auc: 0.9955\n",
      "  f1-score: 0.9178\n",
      "  g-mean: 0.8894\n",
      "  precision: 0.9451\n",
      "  recall: 0.8955\n",
      "\n",
      "Type: bagging | Strategy: BorderlineSMOTE\n",
      "  accuracy: 0.9829\n",
      "  auc: 0.9950\n",
      "  f1-score: 0.9197\n",
      "  g-mean: 0.8874\n",
      "  precision: 0.9517\n",
      "  recall: 0.8939\n",
      "\n",
      "Type: bagging | Strategy: SMOTE\n",
      "  accuracy: 0.9830\n",
      "  auc: 0.9953\n",
      "  f1-score: 0.9212\n",
      "  g-mean: 0.8933\n",
      "  precision: 0.9485\n",
      "  recall: 0.8990\n",
      "\n",
      "Type: bagging | Strategy: random\n",
      "  accuracy: 0.9823\n",
      "  auc: 0.9953\n",
      "  f1-score: 0.9152\n",
      "  g-mean: 0.8737\n",
      "  precision: 0.9581\n",
      "  recall: 0.8818\n",
      "\n",
      "Type: baseline | Strategy: -\n",
      "  accuracy: 0.9828\n",
      "  auc: 0.9949\n",
      "  f1-score: 0.9183\n",
      "  g-mean: 0.8809\n",
      "  precision: 0.9562\n",
      "  recall: 0.8881\n",
      "\n",
      "Processing C:\\Users\\DELL\\Downloads\\Set_res\\us_crime.csv:\n",
      "\n",
      "Average metrics by (type, strategy) in C:\\Users\\DELL\\Downloads\\Set_res\\us_crime.csv:\n",
      "------------------------------------------------------------\n",
      "\n",
      "Type: augmentation | Strategy: ADASYN\n",
      "  accuracy: 0.9250\n",
      "  auc: 0.9123\n",
      "  f1-score: 0.7320\n",
      "  g-mean: 0.6970\n",
      "  precision: 0.7336\n",
      "  recall: 0.7347\n",
      "\n",
      "Type: augmentation | Strategy: BorderlineSMOTE\n",
      "  accuracy: 0.9281\n",
      "  auc: 0.9154\n",
      "  f1-score: 0.7279\n",
      "  g-mean: 0.6711\n",
      "  precision: 0.7439\n",
      "  recall: 0.7178\n",
      "\n",
      "Type: augmentation | Strategy: SMOTE\n",
      "  accuracy: 0.9267\n",
      "  auc: 0.9155\n",
      "  f1-score: 0.7318\n",
      "  g-mean: 0.6876\n",
      "  precision: 0.7395\n",
      "  recall: 0.7287\n",
      "\n",
      "Type: augmentation | Strategy: random\n",
      "  accuracy: 0.9352\n",
      "  auc: 0.9164\n",
      "  f1-score: 0.7239\n",
      "  g-mean: 0.6263\n",
      "  precision: 0.7813\n",
      "  recall: 0.6915\n",
      "\n",
      "Type: bagging | Strategy: ADASYN\n",
      "  accuracy: 0.9354\n",
      "  auc: 0.9195\n",
      "  f1-score: 0.7403\n",
      "  g-mean: 0.6658\n",
      "  precision: 0.7766\n",
      "  recall: 0.7164\n",
      "\n",
      "Type: bagging | Strategy: BorderlineSMOTE\n",
      "  accuracy: 0.9374\n",
      "  auc: 0.9148\n",
      "  f1-score: 0.7397\n",
      "  g-mean: 0.6543\n",
      "  precision: 0.7886\n",
      "  recall: 0.7101\n",
      "\n",
      "Type: bagging | Strategy: SMOTE\n",
      "  accuracy: 0.9360\n",
      "  auc: 0.9171\n",
      "  f1-score: 0.7401\n",
      "  g-mean: 0.6641\n",
      "  precision: 0.7781\n",
      "  recall: 0.7163\n",
      "\n",
      "Type: bagging | Strategy: random\n",
      "  accuracy: 0.9378\n",
      "  auc: 0.9176\n",
      "  f1-score: 0.6908\n",
      "  g-mean: 0.5383\n",
      "  precision: 0.8282\n",
      "  recall: 0.6436\n",
      "\n",
      "Type: baseline | Strategy: -\n",
      "  accuracy: 0.9402\n",
      "  auc: 0.9133\n",
      "  f1-score: 0.7136\n",
      "  g-mean: 0.5778\n",
      "  precision: 0.8363\n",
      "  recall: 0.6659\n",
      "\n",
      "Processing C:\\Users\\DELL\\Downloads\\Set_res\\wine_quality.csv:\n",
      "\n",
      "Average metrics by (type, strategy) in C:\\Users\\DELL\\Downloads\\Set_res\\wine_quality.csv:\n",
      "------------------------------------------------------------\n",
      "\n",
      "Type: augmentation | Strategy: ADASYN\n",
      "  accuracy: 0.9577\n",
      "  auc: 0.8904\n",
      "  f1-score: 0.6917\n",
      "  g-mean: 0.6107\n",
      "  precision: 0.7050\n",
      "  recall: 0.6824\n",
      "\n",
      "Type: augmentation | Strategy: BorderlineSMOTE\n",
      "  accuracy: 0.9615\n",
      "  auc: 0.8902\n",
      "  f1-score: 0.6933\n",
      "  g-mean: 0.5854\n",
      "  precision: 0.7345\n",
      "  recall: 0.6684\n",
      "\n",
      "Type: augmentation | Strategy: SMOTE\n",
      "  accuracy: 0.9585\n",
      "  auc: 0.8892\n",
      "  f1-score: 0.6875\n",
      "  g-mean: 0.5935\n",
      "  precision: 0.7100\n",
      "  recall: 0.6721\n",
      "\n",
      "Type: augmentation | Strategy: random\n",
      "  accuracy: 0.9666\n",
      "  auc: 0.8872\n",
      "  f1-score: 0.6582\n",
      "  g-mean: 0.4678\n",
      "  precision: 0.8234\n",
      "  recall: 0.6104\n",
      "\n",
      "Type: bagging | Strategy: ADASYN\n",
      "  accuracy: 0.9635\n",
      "  auc: 0.8927\n",
      "  f1-score: 0.6858\n",
      "  g-mean: 0.5516\n",
      "  precision: 0.7551\n",
      "  recall: 0.6506\n",
      "\n",
      "Type: bagging | Strategy: BorderlineSMOTE\n",
      "  accuracy: 0.9653\n",
      "  auc: 0.8936\n",
      "  f1-score: 0.6749\n",
      "  g-mean: 0.5137\n",
      "  precision: 0.7858\n",
      "  recall: 0.6312\n",
      "\n",
      "Type: bagging | Strategy: SMOTE\n",
      "  accuracy: 0.9646\n",
      "  auc: 0.9001\n",
      "  f1-score: 0.6921\n",
      "  g-mean: 0.5584\n",
      "  precision: 0.7670\n",
      "  recall: 0.6539\n",
      "\n",
      "Type: bagging | Strategy: random\n",
      "  accuracy: 0.9665\n",
      "  auc: 0.8884\n",
      "  f1-score: 0.6114\n",
      "  g-mean: 0.3707\n",
      "  precision: 0.9026\n",
      "  recall: 0.5708\n",
      "\n",
      "Type: baseline | Strategy: -\n",
      "  accuracy: 0.9666\n",
      "  auc: 0.8830\n",
      "  f1-score: 0.6382\n",
      "  g-mean: 0.4252\n",
      "  precision: 0.8517\n",
      "  recall: 0.5920\n"
     ]
    }
   ],
   "source": [
    "import pandas as pd\n",
    "import glob\n",
    "\n",
    "csv_files = glob.glob(\"C:\\\\Users\\DELL\\Downloads\\Set_res\\*.csv\")\n",
    "\n",
    "for file in csv_files:\n",
    "    df = pd.read_csv(file)\n",
    "\n",
    "    # Process each dataframe individually\n",
    "    print(f\"\\nProcessing {file}:\")\n",
    "    avg_metrics = df.groupby(['type', 'strategy', 'metric'])['value'].mean().reset_index()\n",
    "\n",
    "    print(f\"\\nAverage metrics by (type, strategy) in {file}:\")\n",
    "    print(\"-\" * 60)\n",
    "    for (type_val, strategy_val), group in avg_metrics.groupby(['type', 'strategy']):\n",
    "        print(f\"\\nType: {type_val} | Strategy: {strategy_val}\")\n",
    "        for _, row in group.iterrows():\n",
    "            print(f\"  {row['metric']}: {row['value']:.4f}\")\n",
    "\n"
   ],
   "metadata": {
    "collapsed": false,
    "ExecuteTime": {
     "end_time": "2025-06-05T06:51:10.512994Z",
     "start_time": "2025-06-05T06:51:10.052375Z"
    }
   },
   "id": "46d280d2fc346447",
   "execution_count": 3
  },
  {
   "cell_type": "code",
   "outputs": [
    {
     "name": "stdout",
     "output_type": "stream",
     "text": [
      "metric              file          type         strategy  accuracy       auc  \\\n",
      "0         arrhythmia.csv  augmentation           ADASYN  0.950989  0.960616   \n",
      "1         arrhythmia.csv  augmentation  BorderlineSMOTE  0.950769  0.957977   \n",
      "2         arrhythmia.csv  augmentation            SMOTE  0.951648  0.965279   \n",
      "3         arrhythmia.csv  augmentation           random  0.947363  0.959372   \n",
      "4         arrhythmia.csv       bagging           ADASYN  0.946264  0.966884   \n",
      "..                   ...           ...              ...       ...       ...   \n",
      "76      wine_quality.csv       bagging           ADASYN  0.963531  0.892724   \n",
      "77      wine_quality.csv       bagging  BorderlineSMOTE  0.965347  0.893554   \n",
      "78      wine_quality.csv       bagging            SMOTE  0.964551  0.900057   \n",
      "79      wine_quality.csv       bagging           random  0.966500  0.888396   \n",
      "80      wine_quality.csv      baseline                -  0.966602  0.883014   \n",
      "\n",
      "metric  f1-score    g-mean  precision    recall  \n",
      "0       0.578513  0.231457   0.705629  0.558709  \n",
      "1       0.572787  0.217892   0.697868  0.553884  \n",
      "2       0.584438  0.246603   0.730739  0.560942  \n",
      "3       0.523121  0.098387   0.583679  0.521942  \n",
      "4       0.504513  0.049193   0.528105  0.511000  \n",
      "..           ...       ...        ...       ...  \n",
      "76      0.685834  0.551634   0.755102  0.650625  \n",
      "77      0.674885  0.513698   0.785815  0.631185  \n",
      "78      0.692053  0.558431   0.766955  0.653882  \n",
      "79      0.611437  0.370682   0.902631  0.570763  \n",
      "80      0.638188  0.425239   0.851719  0.591979  \n",
      "\n",
      "[81 rows x 9 columns]\n"
     ]
    }
   ],
   "source": [
    "import pandas as pd\n",
    "import glob\n",
    "import os\n",
    "\n",
    "# Get all CSV files\n",
    "csv_files = glob.glob(\"C:\\\\Users\\\\DELL\\\\Downloads\\\\Set_res\\\\*.csv\")\n",
    "\n",
    "# List to collect processed data\n",
    "result_rows = []\n",
    "\n",
    "for file in csv_files:\n",
    "    df = pd.read_csv(file)\n",
    "\n",
    "    # Group and compute mean for each (type, strategy, metric)\n",
    "    avg_metrics = df.groupby(['type', 'strategy', 'metric'])['value'].mean().reset_index()\n",
    "\n",
    "    # Pivot so metrics become columns\n",
    "    pivot_df = avg_metrics.pivot_table(\n",
    "        index=['type', 'strategy'],\n",
    "        columns='metric',\n",
    "        values='value'\n",
    "    ).reset_index()\n",
    "\n",
    "    # Add a column for file name (basename only, not full path)\n",
    "    pivot_df['file'] = os.path.basename(file)\n",
    "\n",
    "    # Append to results\n",
    "    result_rows.append(pivot_df)\n",
    "\n",
    "# Combine all into one DataFrame\n",
    "final_df = pd.concat(result_rows, ignore_index=True)\n",
    "\n",
    "# Optional: re-order columns so 'file', 'type', 'strategy' come first\n",
    "metric_columns = [col for col in final_df.columns if col not in ['file', 'type', 'strategy']]\n",
    "final_df = final_df[['file', 'type', 'strategy'] + metric_columns]\n",
    "\n",
    "# Show or export the final result\n",
    "print(final_df)\n",
    "\n",
    "output_path = \"C:\\\\Users\\\\DELL\\\\Downloads\\\\aggregated_results.xlsx\"\n",
    "final_df.to_excel(output_path, index=False)\n"
   ],
   "metadata": {
    "collapsed": false,
    "ExecuteTime": {
     "end_time": "2025-06-05T06:55:54.676478Z",
     "start_time": "2025-06-05T06:55:53.805280Z"
    }
   },
   "id": "a1a7d379a5c27e2c",
   "execution_count": 7
  },
  {
   "cell_type": "code",
   "outputs": [
    {
     "name": "stdout",
     "output_type": "stream",
     "text": [
      "Collecting openpyxl\n",
      "  Downloading openpyxl-3.1.5-py2.py3-none-any.whl.metadata (2.5 kB)\n",
      "Collecting et-xmlfile (from openpyxl)\n",
      "  Downloading et_xmlfile-2.0.0-py3-none-any.whl.metadata (2.7 kB)\n",
      "Downloading openpyxl-3.1.5-py2.py3-none-any.whl (250 kB)\n",
      "Downloading et_xmlfile-2.0.0-py3-none-any.whl (18 kB)\n",
      "Installing collected packages: et-xmlfile, openpyxl\n",
      "Successfully installed et-xmlfile-2.0.0 openpyxl-3.1.5\n"
     ]
    }
   ],
   "source": [
    "!pip install openpyxl\n"
   ],
   "metadata": {
    "collapsed": false,
    "ExecuteTime": {
     "end_time": "2025-06-05T06:55:49.797604Z",
     "start_time": "2025-06-05T06:55:45.059067Z"
    }
   },
   "id": "73ba121ce1cff4b7",
   "execution_count": 6
  },
  {
   "cell_type": "code",
   "outputs": [],
   "source": [
    "planes_active=pd.read_csv(\"C:\\\\Users\\DELL\\Downloads\\ReleasableAircraft\\MASTER.txt\")"
   ],
   "metadata": {
    "collapsed": false,
    "ExecuteTime": {
     "end_time": "2025-06-07T02:47:44.994271Z",
     "start_time": "2025-06-07T02:47:39.800038Z"
    }
   },
   "id": "145e486eb5a520dd",
   "execution_count": 2
  },
  {
   "cell_type": "code",
   "outputs": [
    {
     "data": {
      "text/plain": "  N-NUMBER                   SERIAL NUMBER MFR MDL CODE ENG MFR MDL YEAR MFR  \\\n0    100    5334                                7100510       17003     1940   \n1    10000  10000                               2130004                        \n2    10001  A28                                 9601202       67007     1928   \n3    10004  T18208245                           2072738                        \n4    10006  BG-72                               1152020       17026     1955   \n\n  TYPE REGISTRANT                                               NAME  \\\n0               1  BENE MARY D                                   ...   \n1               7  9AT LLC                                       ...   \n2               1  STOOS ROBERT A                                ...   \n3               7  ETOS AIR LLC                                  ...   \n4               1  COUTCHES ROBERT HERCULES DBA                  ...   \n\n                              STREET                            STREET2  \\\n0  PO BOX 329                                                             \n1  511 WEDGEWOOD AVE                                                      \n2  PO BOX 1056                                                            \n3  PO BOX 288                                                             \n4  550 AIRWAY BLVD                                                        \n\n                 CITY  ...                                     OTHER NAMES(2)  \\\n0  KETCHUM             ...                                                ...   \n1  NASHVILLE           ...                                                ...   \n2  LAKELAND            ...                                                ...   \n3  NEW LONDON          ...                                                ...   \n4  LIVERMORE           ...                                                ...   \n\n                                      OTHER NAMES(3)  \\\n0                                                ...   \n1                                                ...   \n2                                                ...   \n3                                                ...   \n4                                                ...   \n\n                                      OTHER NAMES(4)  \\\n0                                                ...   \n1                                                ...   \n2                                                ...   \n3                                                ...   \n4                                                ...   \n\n                                      OTHER NAMES(5) EXPIRATION DATE  \\\n0                                                ...        20270430   \n1                                                ...        20310831   \n2                                                ...        20290228   \n3                                                ...        20290331   \n4                                                ...        20280229   \n\n   UNIQUE ID                         KIT MFR             KIT MODEL  \\\n0     600060                                                         \n1    1443200                                                         \n2     432072                                                         \n3     102879                                                         \n4     480110                                                         \n\n  MODE S CODE HEX  Unnamed: 34  \n0      A004B3              NaN  \n1      A00725              NaN  \n2      A00726              NaN  \n3      A00729              NaN  \n4      A0072B              NaN  \n\n[5 rows x 35 columns]",
      "text/html": "<div>\n<style scoped>\n    .dataframe tbody tr th:only-of-type {\n        vertical-align: middle;\n    }\n\n    .dataframe tbody tr th {\n        vertical-align: top;\n    }\n\n    .dataframe thead th {\n        text-align: right;\n    }\n</style>\n<table border=\"1\" class=\"dataframe\">\n  <thead>\n    <tr style=\"text-align: right;\">\n      <th></th>\n      <th>N-NUMBER</th>\n      <th>SERIAL NUMBER</th>\n      <th>MFR MDL CODE</th>\n      <th>ENG MFR MDL</th>\n      <th>YEAR MFR</th>\n      <th>TYPE REGISTRANT</th>\n      <th>NAME</th>\n      <th>STREET</th>\n      <th>STREET2</th>\n      <th>CITY</th>\n      <th>...</th>\n      <th>OTHER NAMES(2)</th>\n      <th>OTHER NAMES(3)</th>\n      <th>OTHER NAMES(4)</th>\n      <th>OTHER NAMES(5)</th>\n      <th>EXPIRATION DATE</th>\n      <th>UNIQUE ID</th>\n      <th>KIT MFR</th>\n      <th>KIT MODEL</th>\n      <th>MODE S CODE HEX</th>\n      <th>Unnamed: 34</th>\n    </tr>\n  </thead>\n  <tbody>\n    <tr>\n      <th>0</th>\n      <td>100</td>\n      <td>5334</td>\n      <td>7100510</td>\n      <td>17003</td>\n      <td>1940</td>\n      <td>1</td>\n      <td>BENE MARY D                                   ...</td>\n      <td>PO BOX 329</td>\n      <td></td>\n      <td>KETCHUM</td>\n      <td>...</td>\n      <td>...</td>\n      <td>...</td>\n      <td>...</td>\n      <td>...</td>\n      <td>20270430</td>\n      <td>600060</td>\n      <td></td>\n      <td></td>\n      <td>A004B3</td>\n      <td>NaN</td>\n    </tr>\n    <tr>\n      <th>1</th>\n      <td>10000</td>\n      <td>10000</td>\n      <td>2130004</td>\n      <td></td>\n      <td></td>\n      <td>7</td>\n      <td>9AT LLC                                       ...</td>\n      <td>511 WEDGEWOOD AVE</td>\n      <td></td>\n      <td>NASHVILLE</td>\n      <td>...</td>\n      <td>...</td>\n      <td>...</td>\n      <td>...</td>\n      <td>...</td>\n      <td>20310831</td>\n      <td>1443200</td>\n      <td></td>\n      <td></td>\n      <td>A00725</td>\n      <td>NaN</td>\n    </tr>\n    <tr>\n      <th>2</th>\n      <td>10001</td>\n      <td>A28</td>\n      <td>9601202</td>\n      <td>67007</td>\n      <td>1928</td>\n      <td>1</td>\n      <td>STOOS ROBERT A                                ...</td>\n      <td>PO BOX 1056</td>\n      <td></td>\n      <td>LAKELAND</td>\n      <td>...</td>\n      <td>...</td>\n      <td>...</td>\n      <td>...</td>\n      <td>...</td>\n      <td>20290228</td>\n      <td>432072</td>\n      <td></td>\n      <td></td>\n      <td>A00726</td>\n      <td>NaN</td>\n    </tr>\n    <tr>\n      <th>3</th>\n      <td>10004</td>\n      <td>T18208245</td>\n      <td>2072738</td>\n      <td></td>\n      <td></td>\n      <td>7</td>\n      <td>ETOS AIR LLC                                  ...</td>\n      <td>PO BOX 288</td>\n      <td></td>\n      <td>NEW LONDON</td>\n      <td>...</td>\n      <td>...</td>\n      <td>...</td>\n      <td>...</td>\n      <td>...</td>\n      <td>20290331</td>\n      <td>102879</td>\n      <td></td>\n      <td></td>\n      <td>A00729</td>\n      <td>NaN</td>\n    </tr>\n    <tr>\n      <th>4</th>\n      <td>10006</td>\n      <td>BG-72</td>\n      <td>1152020</td>\n      <td>17026</td>\n      <td>1955</td>\n      <td>1</td>\n      <td>COUTCHES ROBERT HERCULES DBA                  ...</td>\n      <td>550 AIRWAY BLVD</td>\n      <td></td>\n      <td>LIVERMORE</td>\n      <td>...</td>\n      <td>...</td>\n      <td>...</td>\n      <td>...</td>\n      <td>...</td>\n      <td>20280229</td>\n      <td>480110</td>\n      <td></td>\n      <td></td>\n      <td>A0072B</td>\n      <td>NaN</td>\n    </tr>\n  </tbody>\n</table>\n<p>5 rows × 35 columns</p>\n</div>"
     },
     "execution_count": 4,
     "metadata": {},
     "output_type": "execute_result"
    }
   ],
   "source": [
    "planes_active.head()"
   ],
   "metadata": {
    "collapsed": false,
    "ExecuteTime": {
     "end_time": "2025-06-07T02:48:01.579386Z",
     "start_time": "2025-06-07T02:48:01.528496Z"
    }
   },
   "id": "bdbcbd747a673755",
   "execution_count": 4
  },
  {
   "cell_type": "code",
   "outputs": [],
   "source": [
    "actf=pd.read_csv(\"C:\\\\Users\\DELL\\Downloads\\ReleasableAircraft\\ACFTREF.txt\")"
   ],
   "metadata": {
    "collapsed": false,
    "ExecuteTime": {
     "end_time": "2025-06-07T02:56:59.940347Z",
     "start_time": "2025-06-07T02:56:59.062141Z"
    }
   },
   "id": "74ccba39df07cc94",
   "execution_count": 5
  },
  {
   "cell_type": "code",
   "outputs": [
    {
     "data": {
      "text/plain": "      CODE                             MFR                 MODEL TYPE-ACFT  \\\n0  0020901  AAR AIRLIFT GROUP INC           UH-60A                       6   \n1  0030109  EXLINE ACE-C                    ACE-C                        4   \n2  003010D  DELEBAUGH                       P                            4   \n3  003010H  DAL PORTO                       BABY ACE D                   4   \n4  003010P  DUNN                            BABY ACE                     4   \n\n   TYPE-ENG  AC-CAT  BUILD-CERT-IND  NO-ENG  NO-SEATS AC-WEIGHT  SPEED  \\\n0         3       1               0       2        15   CLASS 3      0   \n1         1       1               1       1         1   CLASS 1     82   \n2         1       1               1       1         1   CLASS 1     82   \n3         1       1               1       1         1   CLASS 1     82   \n4         1       1               1       1         1   CLASS 1     82   \n\n     TC-DATA-SHEET                                     TC-DATA-HOLDER  \\\n0                                                                 ...   \n1                                                                 ...   \n2                                                                 ...   \n3                                                                 ...   \n4                                                                 ...   \n\n   Unnamed: 13  \n0          NaN  \n1          NaN  \n2          NaN  \n3          NaN  \n4          NaN  ",
      "text/html": "<div>\n<style scoped>\n    .dataframe tbody tr th:only-of-type {\n        vertical-align: middle;\n    }\n\n    .dataframe tbody tr th {\n        vertical-align: top;\n    }\n\n    .dataframe thead th {\n        text-align: right;\n    }\n</style>\n<table border=\"1\" class=\"dataframe\">\n  <thead>\n    <tr style=\"text-align: right;\">\n      <th></th>\n      <th>CODE</th>\n      <th>MFR</th>\n      <th>MODEL</th>\n      <th>TYPE-ACFT</th>\n      <th>TYPE-ENG</th>\n      <th>AC-CAT</th>\n      <th>BUILD-CERT-IND</th>\n      <th>NO-ENG</th>\n      <th>NO-SEATS</th>\n      <th>AC-WEIGHT</th>\n      <th>SPEED</th>\n      <th>TC-DATA-SHEET</th>\n      <th>TC-DATA-HOLDER</th>\n      <th>Unnamed: 13</th>\n    </tr>\n  </thead>\n  <tbody>\n    <tr>\n      <th>0</th>\n      <td>0020901</td>\n      <td>AAR AIRLIFT GROUP INC</td>\n      <td>UH-60A</td>\n      <td>6</td>\n      <td>3</td>\n      <td>1</td>\n      <td>0</td>\n      <td>2</td>\n      <td>15</td>\n      <td>CLASS 3</td>\n      <td>0</td>\n      <td></td>\n      <td>...</td>\n      <td>NaN</td>\n    </tr>\n    <tr>\n      <th>1</th>\n      <td>0030109</td>\n      <td>EXLINE ACE-C</td>\n      <td>ACE-C</td>\n      <td>4</td>\n      <td>1</td>\n      <td>1</td>\n      <td>1</td>\n      <td>1</td>\n      <td>1</td>\n      <td>CLASS 1</td>\n      <td>82</td>\n      <td></td>\n      <td>...</td>\n      <td>NaN</td>\n    </tr>\n    <tr>\n      <th>2</th>\n      <td>003010D</td>\n      <td>DELEBAUGH</td>\n      <td>P</td>\n      <td>4</td>\n      <td>1</td>\n      <td>1</td>\n      <td>1</td>\n      <td>1</td>\n      <td>1</td>\n      <td>CLASS 1</td>\n      <td>82</td>\n      <td></td>\n      <td>...</td>\n      <td>NaN</td>\n    </tr>\n    <tr>\n      <th>3</th>\n      <td>003010H</td>\n      <td>DAL PORTO</td>\n      <td>BABY ACE D</td>\n      <td>4</td>\n      <td>1</td>\n      <td>1</td>\n      <td>1</td>\n      <td>1</td>\n      <td>1</td>\n      <td>CLASS 1</td>\n      <td>82</td>\n      <td></td>\n      <td>...</td>\n      <td>NaN</td>\n    </tr>\n    <tr>\n      <th>4</th>\n      <td>003010P</td>\n      <td>DUNN</td>\n      <td>BABY ACE</td>\n      <td>4</td>\n      <td>1</td>\n      <td>1</td>\n      <td>1</td>\n      <td>1</td>\n      <td>1</td>\n      <td>CLASS 1</td>\n      <td>82</td>\n      <td></td>\n      <td>...</td>\n      <td>NaN</td>\n    </tr>\n  </tbody>\n</table>\n</div>"
     },
     "execution_count": 7,
     "metadata": {},
     "output_type": "execute_result"
    }
   ],
   "source": [
    "actf.head()"
   ],
   "metadata": {
    "collapsed": false,
    "ExecuteTime": {
     "end_time": "2025-06-07T03:00:17.296004Z",
     "start_time": "2025-06-07T03:00:17.242754Z"
    }
   },
   "id": "8c65c6cbc80996b5",
   "execution_count": 7
  },
  {
   "cell_type": "code",
   "outputs": [
    {
     "name": "stdout",
     "output_type": "stream",
     "text": [
      "['CODE', 'MFR', 'MODEL', 'TYPE-ACFT', 'TYPE-ENG', 'AC-CAT', 'BUILD-CERT-IND', 'NO-ENG', 'NO-SEATS', 'AC-WEIGHT', 'SPEED', 'TC-DATA-SHEET', 'TC-DATA-HOLDER', 'Unnamed: 13']\n",
      "True\n"
     ]
    }
   ],
   "source": [
    "is_unique = actf['CODE'].is_unique\n",
    "\n",
    "columns_list = actf.columns.tolist()\n",
    "print(columns_list)\n",
    "print(is_unique)"
   ],
   "metadata": {
    "collapsed": false,
    "ExecuteTime": {
     "end_time": "2025-06-07T03:06:41.613294Z",
     "start_time": "2025-06-07T03:06:41.580468Z"
    }
   },
   "id": "2cc7b2d01f71dc9f",
   "execution_count": 13
  },
  {
   "cell_type": "code",
   "outputs": [
    {
     "name": "stdout",
     "output_type": "stream",
     "text": [
      "['CODE', 'MFR', 'MODEL', 'TYPE-ACFT', 'TYPE-ENG', 'AC-CAT', 'BUILD-CERT-IND', 'NO-ENG', 'NO-SEATS', 'AC-WEIGHT', 'SPEED', 'TC-DATA-SHEET', 'TC-DATA-HOLDER', 'Unnamed: 13']\n"
     ]
    }
   ],
   "source": [
    "columns_list = actf.columns.tolist()\n",
    "print(columns_list)\n"
   ],
   "metadata": {
    "collapsed": false,
    "ExecuteTime": {
     "end_time": "2025-06-07T03:03:39.676271Z",
     "start_time": "2025-06-07T03:03:39.669869Z"
    }
   },
   "id": "d3275e568e8b1c30",
   "execution_count": 10
  },
  {
   "cell_type": "code",
   "outputs": [],
   "source": [
    "merged_df = planes_active.merge(actf,left_on='MFR MDL CODE', right_on='CODE', how='left')\n"
   ],
   "metadata": {
    "collapsed": false,
    "ExecuteTime": {
     "end_time": "2025-06-07T03:06:51.445990Z",
     "start_time": "2025-06-07T03:06:50.732606Z"
    }
   },
   "id": "aeb53246ada8b764",
   "execution_count": 14
  },
  {
   "cell_type": "code",
   "outputs": [
    {
     "data": {
      "text/plain": "  N-NUMBER                   SERIAL NUMBER MFR MDL CODE ENG MFR MDL YEAR MFR  \\\n0    100    5334                                7100510       17003     1940   \n1    10000  10000                               2130004                        \n2    10001  A28                                 9601202       67007     1928   \n3    10004  T18208245                           2072738                        \n4    10006  BG-72                               1152020       17026     1955   \n\n  TYPE REGISTRANT                                               NAME  \\\n0               1  BENE MARY D                                   ...   \n1               7  9AT LLC                                       ...   \n2               1  STOOS ROBERT A                                ...   \n3               7  ETOS AIR LLC                                  ...   \n4               1  COUTCHES ROBERT HERCULES DBA                  ...   \n\n                              STREET                            STREET2  \\\n0  PO BOX 329                                                             \n1  511 WEDGEWOOD AVE                                                      \n2  PO BOX 1056                                                            \n3  PO BOX 288                                                             \n4  550 AIRWAY BLVD                                                        \n\n                 CITY  ... TYPE-ENG AC-CAT BUILD-CERT-IND NO-ENG NO-SEATS  \\\n0  KETCHUM             ...        1      1              0      1        2   \n1  NASHVILLE           ...        1      1              0      1        5   \n2  LAKELAND            ...        1      1              0      1        3   \n3  NEW LONDON          ...        2      1              0      1        4   \n4  LIVERMORE           ...        1      1              0      1        4   \n\n   AC-WEIGHT SPEED    TC-DATA-SHEET  \\\n0    CLASS 1    67                    \n1    CLASS 1     0                    \n2    CLASS 1    79                    \n3    CLASS 1     0  3A13              \n4    CLASS 1     0                    \n\n                                      TC-DATA-HOLDER  Unnamed: 13  \n0                                                ...          NaN  \n1                                                ...          NaN  \n2                                                ...          NaN  \n3  TEXTRON AVIATION INC                          ...          NaN  \n4                                                ...          NaN  \n\n[5 rows x 49 columns]",
      "text/html": "<div>\n<style scoped>\n    .dataframe tbody tr th:only-of-type {\n        vertical-align: middle;\n    }\n\n    .dataframe tbody tr th {\n        vertical-align: top;\n    }\n\n    .dataframe thead th {\n        text-align: right;\n    }\n</style>\n<table border=\"1\" class=\"dataframe\">\n  <thead>\n    <tr style=\"text-align: right;\">\n      <th></th>\n      <th>N-NUMBER</th>\n      <th>SERIAL NUMBER</th>\n      <th>MFR MDL CODE</th>\n      <th>ENG MFR MDL</th>\n      <th>YEAR MFR</th>\n      <th>TYPE REGISTRANT</th>\n      <th>NAME</th>\n      <th>STREET</th>\n      <th>STREET2</th>\n      <th>CITY</th>\n      <th>...</th>\n      <th>TYPE-ENG</th>\n      <th>AC-CAT</th>\n      <th>BUILD-CERT-IND</th>\n      <th>NO-ENG</th>\n      <th>NO-SEATS</th>\n      <th>AC-WEIGHT</th>\n      <th>SPEED</th>\n      <th>TC-DATA-SHEET</th>\n      <th>TC-DATA-HOLDER</th>\n      <th>Unnamed: 13</th>\n    </tr>\n  </thead>\n  <tbody>\n    <tr>\n      <th>0</th>\n      <td>100</td>\n      <td>5334</td>\n      <td>7100510</td>\n      <td>17003</td>\n      <td>1940</td>\n      <td>1</td>\n      <td>BENE MARY D                                   ...</td>\n      <td>PO BOX 329</td>\n      <td></td>\n      <td>KETCHUM</td>\n      <td>...</td>\n      <td>1</td>\n      <td>1</td>\n      <td>0</td>\n      <td>1</td>\n      <td>2</td>\n      <td>CLASS 1</td>\n      <td>67</td>\n      <td></td>\n      <td>...</td>\n      <td>NaN</td>\n    </tr>\n    <tr>\n      <th>1</th>\n      <td>10000</td>\n      <td>10000</td>\n      <td>2130004</td>\n      <td></td>\n      <td></td>\n      <td>7</td>\n      <td>9AT LLC                                       ...</td>\n      <td>511 WEDGEWOOD AVE</td>\n      <td></td>\n      <td>NASHVILLE</td>\n      <td>...</td>\n      <td>1</td>\n      <td>1</td>\n      <td>0</td>\n      <td>1</td>\n      <td>5</td>\n      <td>CLASS 1</td>\n      <td>0</td>\n      <td></td>\n      <td>...</td>\n      <td>NaN</td>\n    </tr>\n    <tr>\n      <th>2</th>\n      <td>10001</td>\n      <td>A28</td>\n      <td>9601202</td>\n      <td>67007</td>\n      <td>1928</td>\n      <td>1</td>\n      <td>STOOS ROBERT A                                ...</td>\n      <td>PO BOX 1056</td>\n      <td></td>\n      <td>LAKELAND</td>\n      <td>...</td>\n      <td>1</td>\n      <td>1</td>\n      <td>0</td>\n      <td>1</td>\n      <td>3</td>\n      <td>CLASS 1</td>\n      <td>79</td>\n      <td></td>\n      <td>...</td>\n      <td>NaN</td>\n    </tr>\n    <tr>\n      <th>3</th>\n      <td>10004</td>\n      <td>T18208245</td>\n      <td>2072738</td>\n      <td></td>\n      <td></td>\n      <td>7</td>\n      <td>ETOS AIR LLC                                  ...</td>\n      <td>PO BOX 288</td>\n      <td></td>\n      <td>NEW LONDON</td>\n      <td>...</td>\n      <td>2</td>\n      <td>1</td>\n      <td>0</td>\n      <td>1</td>\n      <td>4</td>\n      <td>CLASS 1</td>\n      <td>0</td>\n      <td>3A13</td>\n      <td>TEXTRON AVIATION INC                          ...</td>\n      <td>NaN</td>\n    </tr>\n    <tr>\n      <th>4</th>\n      <td>10006</td>\n      <td>BG-72</td>\n      <td>1152020</td>\n      <td>17026</td>\n      <td>1955</td>\n      <td>1</td>\n      <td>COUTCHES ROBERT HERCULES DBA                  ...</td>\n      <td>550 AIRWAY BLVD</td>\n      <td></td>\n      <td>LIVERMORE</td>\n      <td>...</td>\n      <td>1</td>\n      <td>1</td>\n      <td>0</td>\n      <td>1</td>\n      <td>4</td>\n      <td>CLASS 1</td>\n      <td>0</td>\n      <td></td>\n      <td>...</td>\n      <td>NaN</td>\n    </tr>\n  </tbody>\n</table>\n<p>5 rows × 49 columns</p>\n</div>"
     },
     "execution_count": 15,
     "metadata": {},
     "output_type": "execute_result"
    }
   ],
   "source": [
    "merged_df.head()"
   ],
   "metadata": {
    "collapsed": false,
    "ExecuteTime": {
     "end_time": "2025-06-07T03:06:59.965912Z",
     "start_time": "2025-06-07T03:06:59.924783Z"
    }
   },
   "id": "7b92ca37769f48d4",
   "execution_count": 15
  },
  {
   "cell_type": "code",
   "outputs": [],
   "source": [
    "# Aircraft type codes\n",
    "aircraft_type_map = {\n",
    "    '1': 'Glider',\n",
    "    '2': 'Balloon',\n",
    "    '3': 'Blimp/Dirigible',\n",
    "    '4': 'Fixed wing single engine',\n",
    "    '5': 'Fixed wing multi engine',\n",
    "    '6': 'Rotorcraft',\n",
    "    '7': 'Weight-shift-control',\n",
    "    '8': 'Powered Parachute',\n",
    "    '9': 'Gyroplane',\n",
    "    'H': 'Hybrid Lift',\n",
    "    'O': 'Other'\n",
    "}\n",
    "\n",
    "# Engine type codes\n",
    "engine_type_map = {\n",
    "    '0': 'None',\n",
    "    '1': 'Reciprocating',\n",
    "    '2': 'Turbo-prop',\n",
    "    '3': 'Turbo-shaft',\n",
    "    '4': 'Turbo-jet',\n",
    "    '5': 'Turbo-fan',\n",
    "    '6': 'Ramjet',\n",
    "    '7': '2 Cycle',\n",
    "    '8': '4 Cycle',\n",
    "    '9': 'Unknown',\n",
    "    '10': 'Electric',\n",
    "    '11': 'Rotary'\n",
    "}\n"
   ],
   "metadata": {
    "collapsed": false,
    "ExecuteTime": {
     "end_time": "2025-06-07T03:14:04.879607Z",
     "start_time": "2025-06-07T03:14:04.852025Z"
    }
   },
   "id": "493f24d444790abb",
   "execution_count": 16
  },
  {
   "cell_type": "code",
   "outputs": [
    {
     "data": {
      "text/plain": "  N-NUMBER                   SERIAL NUMBER MFR MDL CODE ENG MFR MDL YEAR MFR  \\\n0    100    5334                                7100510       17003     1940   \n1    10000  10000                               2130004                        \n2    10001  A28                                 9601202       67007     1928   \n3    10004  T18208245                           2072738                        \n4    10006  BG-72                               1152020       17026     1955   \n\n  TYPE REGISTRANT                                               NAME  \\\n0               1  BENE MARY D                                   ...   \n1               7  9AT LLC                                       ...   \n2               1  STOOS ROBERT A                                ...   \n3               7  ETOS AIR LLC                                  ...   \n4               1  COUTCHES ROBERT HERCULES DBA                  ...   \n\n                              STREET                            STREET2  \\\n0  PO BOX 329                                                             \n1  511 WEDGEWOOD AVE                                                      \n2  PO BOX 1056                                                            \n3  PO BOX 288                                                             \n4  550 AIRWAY BLVD                                                        \n\n                 CITY  ... BUILD-CERT-IND NO-ENG NO-SEATS AC-WEIGHT SPEED  \\\n0  KETCHUM             ...              0      1        2   CLASS 1    67   \n1  NASHVILLE           ...              0      1        5   CLASS 1     0   \n2  LAKELAND            ...              0      1        3   CLASS 1    79   \n3  NEW LONDON          ...              0      1        4   CLASS 1     0   \n4  LIVERMORE           ...              0      1        4   CLASS 1     0   \n\n     TC-DATA-SHEET                                     TC-DATA-HOLDER  \\\n0                                                                 ...   \n1                                                                 ...   \n2                                                                 ...   \n3  3A13             TEXTRON AVIATION INC                          ...   \n4                                                                 ...   \n\n  Unnamed: 13    aircraft_type_resolved  engine_type_resolved  \n0         NaN  Fixed wing single engine         Reciprocating  \n1         NaN  Fixed wing single engine         Reciprocating  \n2         NaN  Fixed wing single engine         Reciprocating  \n3         NaN  Fixed wing single engine            Turbo-prop  \n4         NaN  Fixed wing single engine         Reciprocating  \n\n[5 rows x 51 columns]",
      "text/html": "<div>\n<style scoped>\n    .dataframe tbody tr th:only-of-type {\n        vertical-align: middle;\n    }\n\n    .dataframe tbody tr th {\n        vertical-align: top;\n    }\n\n    .dataframe thead th {\n        text-align: right;\n    }\n</style>\n<table border=\"1\" class=\"dataframe\">\n  <thead>\n    <tr style=\"text-align: right;\">\n      <th></th>\n      <th>N-NUMBER</th>\n      <th>SERIAL NUMBER</th>\n      <th>MFR MDL CODE</th>\n      <th>ENG MFR MDL</th>\n      <th>YEAR MFR</th>\n      <th>TYPE REGISTRANT</th>\n      <th>NAME</th>\n      <th>STREET</th>\n      <th>STREET2</th>\n      <th>CITY</th>\n      <th>...</th>\n      <th>BUILD-CERT-IND</th>\n      <th>NO-ENG</th>\n      <th>NO-SEATS</th>\n      <th>AC-WEIGHT</th>\n      <th>SPEED</th>\n      <th>TC-DATA-SHEET</th>\n      <th>TC-DATA-HOLDER</th>\n      <th>Unnamed: 13</th>\n      <th>aircraft_type_resolved</th>\n      <th>engine_type_resolved</th>\n    </tr>\n  </thead>\n  <tbody>\n    <tr>\n      <th>0</th>\n      <td>100</td>\n      <td>5334</td>\n      <td>7100510</td>\n      <td>17003</td>\n      <td>1940</td>\n      <td>1</td>\n      <td>BENE MARY D                                   ...</td>\n      <td>PO BOX 329</td>\n      <td></td>\n      <td>KETCHUM</td>\n      <td>...</td>\n      <td>0</td>\n      <td>1</td>\n      <td>2</td>\n      <td>CLASS 1</td>\n      <td>67</td>\n      <td></td>\n      <td>...</td>\n      <td>NaN</td>\n      <td>Fixed wing single engine</td>\n      <td>Reciprocating</td>\n    </tr>\n    <tr>\n      <th>1</th>\n      <td>10000</td>\n      <td>10000</td>\n      <td>2130004</td>\n      <td></td>\n      <td></td>\n      <td>7</td>\n      <td>9AT LLC                                       ...</td>\n      <td>511 WEDGEWOOD AVE</td>\n      <td></td>\n      <td>NASHVILLE</td>\n      <td>...</td>\n      <td>0</td>\n      <td>1</td>\n      <td>5</td>\n      <td>CLASS 1</td>\n      <td>0</td>\n      <td></td>\n      <td>...</td>\n      <td>NaN</td>\n      <td>Fixed wing single engine</td>\n      <td>Reciprocating</td>\n    </tr>\n    <tr>\n      <th>2</th>\n      <td>10001</td>\n      <td>A28</td>\n      <td>9601202</td>\n      <td>67007</td>\n      <td>1928</td>\n      <td>1</td>\n      <td>STOOS ROBERT A                                ...</td>\n      <td>PO BOX 1056</td>\n      <td></td>\n      <td>LAKELAND</td>\n      <td>...</td>\n      <td>0</td>\n      <td>1</td>\n      <td>3</td>\n      <td>CLASS 1</td>\n      <td>79</td>\n      <td></td>\n      <td>...</td>\n      <td>NaN</td>\n      <td>Fixed wing single engine</td>\n      <td>Reciprocating</td>\n    </tr>\n    <tr>\n      <th>3</th>\n      <td>10004</td>\n      <td>T18208245</td>\n      <td>2072738</td>\n      <td></td>\n      <td></td>\n      <td>7</td>\n      <td>ETOS AIR LLC                                  ...</td>\n      <td>PO BOX 288</td>\n      <td></td>\n      <td>NEW LONDON</td>\n      <td>...</td>\n      <td>0</td>\n      <td>1</td>\n      <td>4</td>\n      <td>CLASS 1</td>\n      <td>0</td>\n      <td>3A13</td>\n      <td>TEXTRON AVIATION INC                          ...</td>\n      <td>NaN</td>\n      <td>Fixed wing single engine</td>\n      <td>Turbo-prop</td>\n    </tr>\n    <tr>\n      <th>4</th>\n      <td>10006</td>\n      <td>BG-72</td>\n      <td>1152020</td>\n      <td>17026</td>\n      <td>1955</td>\n      <td>1</td>\n      <td>COUTCHES ROBERT HERCULES DBA                  ...</td>\n      <td>550 AIRWAY BLVD</td>\n      <td></td>\n      <td>LIVERMORE</td>\n      <td>...</td>\n      <td>0</td>\n      <td>1</td>\n      <td>4</td>\n      <td>CLASS 1</td>\n      <td>0</td>\n      <td></td>\n      <td>...</td>\n      <td>NaN</td>\n      <td>Fixed wing single engine</td>\n      <td>Reciprocating</td>\n    </tr>\n  </tbody>\n</table>\n<p>5 rows × 51 columns</p>\n</div>"
     },
     "execution_count": 18,
     "metadata": {},
     "output_type": "execute_result"
    }
   ],
   "source": [
    "merged_df['aircraft_type_resolved'] = merged_df['TYPE AIRCRAFT'].astype(str).map(aircraft_type_map)\n",
    "merged_df['engine_type_resolved'] = merged_df['TYPE ENGINE'].astype(str).map(engine_type_map)\n",
    "\n",
    "merged_df.head()\n"
   ],
   "metadata": {
    "collapsed": false,
    "ExecuteTime": {
     "end_time": "2025-06-07T03:15:32.100441Z",
     "start_time": "2025-06-07T03:15:31.873795Z"
    }
   },
   "id": "3d324779ddb94414",
   "execution_count": 18
  },
  {
   "cell_type": "code",
   "outputs": [
    {
     "data": {
      "text/plain": "  N-NUMBER                   SERIAL NUMBER MFR MDL CODE ENG MFR MDL YEAR MFR  \\\n0   N100    5334                                7100510       17003     1940   \n1   N10000  10000                               2130004                        \n2   N10001  A28                                 9601202       67007     1928   \n3   N10004  T18208245                           2072738                        \n4   N10006  BG-72                               1152020       17026     1955   \n\n  TYPE REGISTRANT                                               NAME  \\\n0               1  BENE MARY D                                   ...   \n1               7  9AT LLC                                       ...   \n2               1  STOOS ROBERT A                                ...   \n3               7  ETOS AIR LLC                                  ...   \n4               1  COUTCHES ROBERT HERCULES DBA                  ...   \n\n                              STREET                            STREET2  \\\n0  PO BOX 329                                                             \n1  511 WEDGEWOOD AVE                                                      \n2  PO BOX 1056                                                            \n3  PO BOX 288                                                             \n4  550 AIRWAY BLVD                                                        \n\n                 CITY  ... BUILD-CERT-IND NO-ENG NO-SEATS AC-WEIGHT SPEED  \\\n0  KETCHUM             ...              0      1        2   CLASS 1    67   \n1  NASHVILLE           ...              0      1        5   CLASS 1     0   \n2  LAKELAND            ...              0      1        3   CLASS 1    79   \n3  NEW LONDON          ...              0      1        4   CLASS 1     0   \n4  LIVERMORE           ...              0      1        4   CLASS 1     0   \n\n     TC-DATA-SHEET                                     TC-DATA-HOLDER  \\\n0                                                                 ...   \n1                                                                 ...   \n2                                                                 ...   \n3  3A13             TEXTRON AVIATION INC                          ...   \n4                                                                 ...   \n\n  Unnamed: 13    aircraft_type_resolved  engine_type_resolved  \n0         NaN  Fixed wing single engine         Reciprocating  \n1         NaN  Fixed wing single engine         Reciprocating  \n2         NaN  Fixed wing single engine         Reciprocating  \n3         NaN  Fixed wing single engine            Turbo-prop  \n4         NaN  Fixed wing single engine         Reciprocating  \n\n[5 rows x 51 columns]",
      "text/html": "<div>\n<style scoped>\n    .dataframe tbody tr th:only-of-type {\n        vertical-align: middle;\n    }\n\n    .dataframe tbody tr th {\n        vertical-align: top;\n    }\n\n    .dataframe thead th {\n        text-align: right;\n    }\n</style>\n<table border=\"1\" class=\"dataframe\">\n  <thead>\n    <tr style=\"text-align: right;\">\n      <th></th>\n      <th>N-NUMBER</th>\n      <th>SERIAL NUMBER</th>\n      <th>MFR MDL CODE</th>\n      <th>ENG MFR MDL</th>\n      <th>YEAR MFR</th>\n      <th>TYPE REGISTRANT</th>\n      <th>NAME</th>\n      <th>STREET</th>\n      <th>STREET2</th>\n      <th>CITY</th>\n      <th>...</th>\n      <th>BUILD-CERT-IND</th>\n      <th>NO-ENG</th>\n      <th>NO-SEATS</th>\n      <th>AC-WEIGHT</th>\n      <th>SPEED</th>\n      <th>TC-DATA-SHEET</th>\n      <th>TC-DATA-HOLDER</th>\n      <th>Unnamed: 13</th>\n      <th>aircraft_type_resolved</th>\n      <th>engine_type_resolved</th>\n    </tr>\n  </thead>\n  <tbody>\n    <tr>\n      <th>0</th>\n      <td>N100</td>\n      <td>5334</td>\n      <td>7100510</td>\n      <td>17003</td>\n      <td>1940</td>\n      <td>1</td>\n      <td>BENE MARY D                                   ...</td>\n      <td>PO BOX 329</td>\n      <td></td>\n      <td>KETCHUM</td>\n      <td>...</td>\n      <td>0</td>\n      <td>1</td>\n      <td>2</td>\n      <td>CLASS 1</td>\n      <td>67</td>\n      <td></td>\n      <td>...</td>\n      <td>NaN</td>\n      <td>Fixed wing single engine</td>\n      <td>Reciprocating</td>\n    </tr>\n    <tr>\n      <th>1</th>\n      <td>N10000</td>\n      <td>10000</td>\n      <td>2130004</td>\n      <td></td>\n      <td></td>\n      <td>7</td>\n      <td>9AT LLC                                       ...</td>\n      <td>511 WEDGEWOOD AVE</td>\n      <td></td>\n      <td>NASHVILLE</td>\n      <td>...</td>\n      <td>0</td>\n      <td>1</td>\n      <td>5</td>\n      <td>CLASS 1</td>\n      <td>0</td>\n      <td></td>\n      <td>...</td>\n      <td>NaN</td>\n      <td>Fixed wing single engine</td>\n      <td>Reciprocating</td>\n    </tr>\n    <tr>\n      <th>2</th>\n      <td>N10001</td>\n      <td>A28</td>\n      <td>9601202</td>\n      <td>67007</td>\n      <td>1928</td>\n      <td>1</td>\n      <td>STOOS ROBERT A                                ...</td>\n      <td>PO BOX 1056</td>\n      <td></td>\n      <td>LAKELAND</td>\n      <td>...</td>\n      <td>0</td>\n      <td>1</td>\n      <td>3</td>\n      <td>CLASS 1</td>\n      <td>79</td>\n      <td></td>\n      <td>...</td>\n      <td>NaN</td>\n      <td>Fixed wing single engine</td>\n      <td>Reciprocating</td>\n    </tr>\n    <tr>\n      <th>3</th>\n      <td>N10004</td>\n      <td>T18208245</td>\n      <td>2072738</td>\n      <td></td>\n      <td></td>\n      <td>7</td>\n      <td>ETOS AIR LLC                                  ...</td>\n      <td>PO BOX 288</td>\n      <td></td>\n      <td>NEW LONDON</td>\n      <td>...</td>\n      <td>0</td>\n      <td>1</td>\n      <td>4</td>\n      <td>CLASS 1</td>\n      <td>0</td>\n      <td>3A13</td>\n      <td>TEXTRON AVIATION INC                          ...</td>\n      <td>NaN</td>\n      <td>Fixed wing single engine</td>\n      <td>Turbo-prop</td>\n    </tr>\n    <tr>\n      <th>4</th>\n      <td>N10006</td>\n      <td>BG-72</td>\n      <td>1152020</td>\n      <td>17026</td>\n      <td>1955</td>\n      <td>1</td>\n      <td>COUTCHES ROBERT HERCULES DBA                  ...</td>\n      <td>550 AIRWAY BLVD</td>\n      <td></td>\n      <td>LIVERMORE</td>\n      <td>...</td>\n      <td>0</td>\n      <td>1</td>\n      <td>4</td>\n      <td>CLASS 1</td>\n      <td>0</td>\n      <td></td>\n      <td>...</td>\n      <td>NaN</td>\n      <td>Fixed wing single engine</td>\n      <td>Reciprocating</td>\n    </tr>\n  </tbody>\n</table>\n<p>5 rows × 51 columns</p>\n</div>"
     },
     "execution_count": 19,
     "metadata": {},
     "output_type": "execute_result"
    }
   ],
   "source": [
    "# Ensure the column is treated as string\n",
    "merged_df['N-NUMBER'] = 'N' + merged_df['N-NUMBER'].astype(str)\n",
    "merged_df.head()\n"
   ],
   "metadata": {
    "collapsed": false,
    "ExecuteTime": {
     "end_time": "2025-06-07T03:16:40.291739Z",
     "start_time": "2025-06-07T03:16:40.198615Z"
    }
   },
   "id": "6f7083a98d2e9dd1",
   "execution_count": 19
  },
  {
   "cell_type": "code",
   "outputs": [],
   "source": [
    "allegiant_planes = merged_df[merged_df['NAME'].str.contains(\"Allegiant\", case=False, na=False)]\n"
   ],
   "metadata": {
    "collapsed": false,
    "ExecuteTime": {
     "end_time": "2025-06-07T03:18:11.782027Z",
     "start_time": "2025-06-07T03:18:11.423442Z"
    }
   },
   "id": "6c97363c0351c1e3",
   "execution_count": 21
  },
  {
   "cell_type": "code",
   "outputs": [
    {
     "data": {
      "text/plain": "34"
     },
     "execution_count": 22,
     "metadata": {},
     "output_type": "execute_result"
    }
   ],
   "source": [
    "len(allegiant_planes)"
   ],
   "metadata": {
    "collapsed": false,
    "ExecuteTime": {
     "end_time": "2025-06-07T03:18:17.882830Z",
     "start_time": "2025-06-07T03:18:17.862614Z"
    }
   },
   "id": "c8b5fb1acd80e57d",
   "execution_count": 22
  },
  {
   "cell_type": "code",
   "outputs": [],
   "source": [
    "alaskap = merged_df[merged_df['NAME'].str.contains(\"United Airlines\", case=False, na=False)]\n"
   ],
   "metadata": {
    "collapsed": false,
    "ExecuteTime": {
     "end_time": "2025-06-07T03:20:28.719856Z",
     "start_time": "2025-06-07T03:20:28.418176Z"
    }
   },
   "id": "51c81904298c2f92",
   "execution_count": 29
  },
  {
   "cell_type": "code",
   "outputs": [
    {
     "data": {
      "text/plain": "1145"
     },
     "execution_count": 30,
     "metadata": {},
     "output_type": "execute_result"
    }
   ],
   "source": [
    "len(alaskap)"
   ],
   "metadata": {
    "collapsed": false,
    "ExecuteTime": {
     "end_time": "2025-06-07T03:20:30.078039Z",
     "start_time": "2025-06-07T03:20:30.059340Z"
    }
   },
   "id": "2deb5430da02e0cc",
   "execution_count": 30
  },
  {
   "cell_type": "code",
   "outputs": [
    {
     "name": "stdout",
     "output_type": "stream",
     "text": [
      "       N-NUMBER                   SERIAL NUMBER MFR MDL CODE ENG MFR MDL  \\\n",
      "654      N10156  145786                              3260214       54582   \n",
      "5173     N11106  145650                              3260214       54582   \n",
      "5174     N11107  145654                              3260214       54582   \n",
      "5175     N11109  145657                              3260214       54582   \n",
      "5192     N11113  145662                              3260214       54571   \n",
      "...         ...                             ...          ...         ...   \n",
      "268291   N89349  17000662                            3260410       30061   \n",
      "268305   N89357  17000694                            3260415       30061   \n",
      "268319   N89362  17000856                            3260979       30061   \n",
      "273948   N91007  40929                               1386010       30238   \n",
      "282544   N93305  17000412                            326041A       30061   \n",
      "\n",
      "       YEAR MFR TYPE REGISTRANT  \\\n",
      "654        2004               3   \n",
      "5173       2002               3   \n",
      "5174       2002               3   \n",
      "5175       2002               3   \n",
      "5192       2002               3   \n",
      "...         ...             ...   \n",
      "268291     2017               3   \n",
      "268305     2017               3   \n",
      "268319     2020               3   \n",
      "273948     2017               3   \n",
      "282544     2014               3   \n",
      "\n",
      "                                                     NAME  \\\n",
      "654     UNITED AIRLINES INC                           ...   \n",
      "5173    UNITED AIRLINES INC                           ...   \n",
      "5174    UNITED AIRLINES INC                           ...   \n",
      "5175    UNITED AIRLINES INC                           ...   \n",
      "5192    UNITED AIRLINES INC                           ...   \n",
      "...                                                   ...   \n",
      "268291  UNITED AIRLINES INC                           ...   \n",
      "268305  UNITED AIRLINES INC                           ...   \n",
      "268319  UNITED AIRLINES INC                           ...   \n",
      "273948  UNITED AIRLINES INC                           ...   \n",
      "282544  UNITED AIRLINES INC                           ...   \n",
      "\n",
      "                                   STREET                            STREET2  \\\n",
      "654     233 S WACKER DR                                                        \n",
      "5173    233 S WACKER DR                                                        \n",
      "5174    233 S WACKER DR                                                        \n",
      "5175    233 S WACKER DR                                                        \n",
      "5192    233 S WACKER DR                                                        \n",
      "...                                   ...                                ...   \n",
      "268291  233 S WACKER DR                                                        \n",
      "268305  233 S WACKER DR                                                        \n",
      "268319  233 S WACKER DR                                                        \n",
      "273948  233 S WACKER DR                                                        \n",
      "282544  233 S WACKER DR                                                        \n",
      "\n",
      "                      CITY  ... BUILD-CERT-IND NO-ENG NO-SEATS AC-WEIGHT  \\\n",
      "654     CHICAGO             ...              0      2       55   CLASS 2   \n",
      "5173    CHICAGO             ...              0      2       55   CLASS 2   \n",
      "5174    CHICAGO             ...              0      2       55   CLASS 2   \n",
      "5175    CHICAGO             ...              0      2       55   CLASS 2   \n",
      "5192    CHICAGO             ...              0      2       55   CLASS 2   \n",
      "...                    ...  ...            ...    ...      ...       ...   \n",
      "268291  CHICAGO             ...              0      2       88   CLASS 3   \n",
      "268305  CHICAGO             ...              0      2       88   CLASS 3   \n",
      "268319  CHICAGO             ...              0      2       70   CLASS 3   \n",
      "273948  CHICAGO             ...              1      2      120   CLASS 3   \n",
      "282544  CHICAGO             ...              0      2       88   CLASS 3   \n",
      "\n",
      "       SPEED    TC-DATA-SHEET  \\\n",
      "654        0                    \n",
      "5173       0                    \n",
      "5174       0                    \n",
      "5175       0                    \n",
      "5192       0                    \n",
      "...      ...              ...   \n",
      "268291     0                    \n",
      "268305     0                    \n",
      "268319     0                    \n",
      "273948     0                    \n",
      "282544     0                    \n",
      "\n",
      "                                           TC-DATA-HOLDER Unnamed: 13  \\\n",
      "654                                                   ...         NaN   \n",
      "5173                                                  ...         NaN   \n",
      "5174                                                  ...         NaN   \n",
      "5175                                                  ...         NaN   \n",
      "5192                                                  ...         NaN   \n",
      "...                                                   ...         ...   \n",
      "268291                                                ...         NaN   \n",
      "268305                                                ...         NaN   \n",
      "268319                                                ...         NaN   \n",
      "273948                                                ...         NaN   \n",
      "282544                                                ...         NaN   \n",
      "\n",
      "         aircraft_type_resolved  engine_type_resolved  \n",
      "654     Fixed wing multi engine             Turbo-fan  \n",
      "5173    Fixed wing multi engine             Turbo-fan  \n",
      "5174    Fixed wing multi engine             Turbo-fan  \n",
      "5175    Fixed wing multi engine             Turbo-fan  \n",
      "5192    Fixed wing multi engine             Turbo-fan  \n",
      "...                         ...                   ...  \n",
      "268291  Fixed wing multi engine             Turbo-fan  \n",
      "268305  Fixed wing multi engine             Turbo-fan  \n",
      "268319  Fixed wing multi engine             Turbo-fan  \n",
      "273948  Fixed wing multi engine             Turbo-fan  \n",
      "282544  Fixed wing multi engine             Turbo-fan  \n",
      "\n",
      "[1145 rows x 51 columns]\n"
     ]
    }
   ],
   "source": [
    "print(alaskap)"
   ],
   "metadata": {
    "collapsed": false,
    "ExecuteTime": {
     "end_time": "2025-06-07T03:20:31.174078Z",
     "start_time": "2025-06-07T03:20:31.153856Z"
    }
   },
   "id": "f384442a6ddbd26a",
   "execution_count": 31
  },
  {
   "cell_type": "code",
   "outputs": [],
   "source": [
    "codes_to_drop = ['1', '2', '3', '8', 'H']\n",
    "df_filtered = merged_df[~merged_df['TYPE AIRCRAFT'].isin(codes_to_drop)].copy()\n",
    "\n",
    "# Optional: reset index after filtering\n",
    "df_filtered.reset_index(drop=True, inplace=True)\n"
   ],
   "metadata": {
    "collapsed": false,
    "ExecuteTime": {
     "end_time": "2025-06-07T03:56:49.395351Z",
     "start_time": "2025-06-07T03:56:46.737645Z"
    }
   },
   "id": "fdb49dfb79ad6cf4",
   "execution_count": 32
  },
  {
   "cell_type": "code",
   "outputs": [
    {
     "data": {
      "text/plain": "array(['4', '6', '5', '7', '9', 'O'], dtype=object)"
     },
     "execution_count": 34,
     "metadata": {},
     "output_type": "execute_result"
    }
   ],
   "source": [
    "pd.unique(df_filtered['TYPE AIRCRAFT'])"
   ],
   "metadata": {
    "collapsed": false,
    "ExecuteTime": {
     "end_time": "2025-06-07T03:57:37.770824Z",
     "start_time": "2025-06-07T03:57:37.733657Z"
    }
   },
   "id": "c0fd6b9b31f53f86",
   "execution_count": 34
  },
  {
   "cell_type": "code",
   "outputs": [
    {
     "data": {
      "text/plain": "289683"
     },
     "execution_count": 35,
     "metadata": {},
     "output_type": "execute_result"
    }
   ],
   "source": [
    "len(df_filtered)"
   ],
   "metadata": {
    "collapsed": false,
    "ExecuteTime": {
     "end_time": "2025-06-07T03:58:03.663839Z",
     "start_time": "2025-06-07T03:58:03.649425Z"
    }
   },
   "id": "3b062be43583c436",
   "execution_count": 35
  },
  {
   "cell_type": "code",
   "outputs": [],
   "source": [
    "airports=pd.read_csv(\"C:\\\\Users\\DELL\\Downloads\\T_MASTER_CORD_20250603_072303\\T_MASTER_CORD.csv\")"
   ],
   "metadata": {
    "collapsed": false,
    "ExecuteTime": {
     "end_time": "2025-06-07T04:44:56.832554Z",
     "start_time": "2025-06-07T04:44:56.226540Z"
    }
   },
   "id": "2cb9b6d40ea8e1d3",
   "execution_count": 36
  },
  {
   "cell_type": "code",
   "outputs": [
    {
     "data": {
      "text/plain": "       AIRPORT_SEQ_ID  AIRPORT_ID AIRPORT     DISPLAY_AIRPORT_NAME  \\\n0             1000101       10001     01A     Afognak Lake Airport   \n1             1000301       10003     03A  Bear Creek Mining Strip   \n2             1000401       10004     04A          Lik Mining Camp   \n3             1000501       10005     05A     Little Squaw Airport   \n4             1000601       10006     06A             Kizhuyak Bay   \n...               ...         ...     ...                      ...   \n19215         1706501       17065     7FL     Wellington Aero Club   \n19216         1706601       17066     BE3    Kleine Brogel Airport   \n19217         1706701       17067     GOX    Manohar International   \n19218         1706801       17068     HSR     Rajkot International   \n19219         9999901       99999     ZZZ  Unknown Point in Alaska   \n\n      DISPLAY_AIRPORT_CITY_NAME_FULL  AIRPORT_WAC AIRPORT_COUNTRY_NAME  \\\n0                   Afognak Lake, AK            1        United States   \n1               Granite Mountain, AK            1        United States   \n2                            Lik, AK            1        United States   \n3                   Little Squaw, AK            1        United States   \n4                       Kizhuyak, AK            1        United States   \n...                              ...          ...                  ...   \n19215            West Palm Beach, FL           33        United States   \n19216        Kleine Brogel , Belgium          409              Belgium   \n19217                     Goa, India          733                India   \n19218                  Rajkot, India          733                India   \n19219        Unknown Point in Alaska            1        United States   \n\n      AIRPORT_COUNTRY_CODE_ISO AIRPORT_STATE_NAME AIRPORT_STATE_CODE  ...  \\\n0                           US             Alaska                 AK  ...   \n1                           US             Alaska                 AK  ...   \n2                           US             Alaska                 AK  ...   \n3                           US             Alaska                 AK  ...   \n4                           US             Alaska                 AK  ...   \n...                        ...                ...                ...  ...   \n19215                       US            Florida                 FL  ...   \n19216                       BE                NaN                NaN  ...   \n19217                       IN                NaN                NaN  ...   \n19218                       IN                NaN                NaN  ...   \n19219                       US             Alaska                 AK  ...   \n\n        LATITUDE  LON_DEGREES LON_HEMISPHERE  LON_MINUTES  LON_SECONDS  \\\n0      58.109444        152.0              W         54.0         24.0   \n1      65.548056        161.0              W          4.0         18.0   \n2      68.083333        163.0              W         10.0          0.0   \n3      67.570000        148.0              W         11.0          2.0   \n4      57.745278        152.0              W         52.0         58.0   \n...          ...          ...            ...          ...          ...   \n19215  26.646667         80.0              W         17.0         42.0   \n19216  51.167778          5.0              E         28.0         16.0   \n19217  15.744444         73.0              E         51.0         40.0   \n19218  22.388056         71.0              E          1.0         42.0   \n19219        NaN          NaN            NaN          NaN          NaN   \n\n        LONGITUDE     AIRPORT_START_DATE  AIRPORT_THRU_DATE  \\\n0     -152.906667   7/1/2007 12:00:00 AM                NaN   \n1     -161.071667   7/1/2007 12:00:00 AM                NaN   \n2     -163.166667   7/1/2007 12:00:00 AM                NaN   \n3     -148.183889   8/1/2007 12:00:00 AM                NaN   \n4     -152.882778  10/1/2007 12:00:00 AM                NaN   \n...           ...                    ...                ...   \n19215  -80.295000   1/1/2025 12:00:00 AM                NaN   \n19216    5.471111   1/1/2025 12:00:00 AM                NaN   \n19217   73.861111   1/1/2025 12:00:00 AM                NaN   \n19218   71.028333  10/1/2024 12:00:00 AM                NaN   \n19219         NaN   1/1/1950 12:00:00 AM                NaN   \n\n       AIRPORT_IS_CLOSED  AIRPORT_IS_LATEST  \n0                      0                  1  \n1                      0                  1  \n2                      0                  1  \n3                      0                  1  \n4                      0                  1  \n...                  ...                ...  \n19215                  0                  1  \n19216                  0                  1  \n19217                  0                  1  \n19218                  0                  1  \n19219                  0                  1  \n\n[19220 rows x 28 columns]",
      "text/html": "<div>\n<style scoped>\n    .dataframe tbody tr th:only-of-type {\n        vertical-align: middle;\n    }\n\n    .dataframe tbody tr th {\n        vertical-align: top;\n    }\n\n    .dataframe thead th {\n        text-align: right;\n    }\n</style>\n<table border=\"1\" class=\"dataframe\">\n  <thead>\n    <tr style=\"text-align: right;\">\n      <th></th>\n      <th>AIRPORT_SEQ_ID</th>\n      <th>AIRPORT_ID</th>\n      <th>AIRPORT</th>\n      <th>DISPLAY_AIRPORT_NAME</th>\n      <th>DISPLAY_AIRPORT_CITY_NAME_FULL</th>\n      <th>AIRPORT_WAC</th>\n      <th>AIRPORT_COUNTRY_NAME</th>\n      <th>AIRPORT_COUNTRY_CODE_ISO</th>\n      <th>AIRPORT_STATE_NAME</th>\n      <th>AIRPORT_STATE_CODE</th>\n      <th>...</th>\n      <th>LATITUDE</th>\n      <th>LON_DEGREES</th>\n      <th>LON_HEMISPHERE</th>\n      <th>LON_MINUTES</th>\n      <th>LON_SECONDS</th>\n      <th>LONGITUDE</th>\n      <th>AIRPORT_START_DATE</th>\n      <th>AIRPORT_THRU_DATE</th>\n      <th>AIRPORT_IS_CLOSED</th>\n      <th>AIRPORT_IS_LATEST</th>\n    </tr>\n  </thead>\n  <tbody>\n    <tr>\n      <th>0</th>\n      <td>1000101</td>\n      <td>10001</td>\n      <td>01A</td>\n      <td>Afognak Lake Airport</td>\n      <td>Afognak Lake, AK</td>\n      <td>1</td>\n      <td>United States</td>\n      <td>US</td>\n      <td>Alaska</td>\n      <td>AK</td>\n      <td>...</td>\n      <td>58.109444</td>\n      <td>152.0</td>\n      <td>W</td>\n      <td>54.0</td>\n      <td>24.0</td>\n      <td>-152.906667</td>\n      <td>7/1/2007 12:00:00 AM</td>\n      <td>NaN</td>\n      <td>0</td>\n      <td>1</td>\n    </tr>\n    <tr>\n      <th>1</th>\n      <td>1000301</td>\n      <td>10003</td>\n      <td>03A</td>\n      <td>Bear Creek Mining Strip</td>\n      <td>Granite Mountain, AK</td>\n      <td>1</td>\n      <td>United States</td>\n      <td>US</td>\n      <td>Alaska</td>\n      <td>AK</td>\n      <td>...</td>\n      <td>65.548056</td>\n      <td>161.0</td>\n      <td>W</td>\n      <td>4.0</td>\n      <td>18.0</td>\n      <td>-161.071667</td>\n      <td>7/1/2007 12:00:00 AM</td>\n      <td>NaN</td>\n      <td>0</td>\n      <td>1</td>\n    </tr>\n    <tr>\n      <th>2</th>\n      <td>1000401</td>\n      <td>10004</td>\n      <td>04A</td>\n      <td>Lik Mining Camp</td>\n      <td>Lik, AK</td>\n      <td>1</td>\n      <td>United States</td>\n      <td>US</td>\n      <td>Alaska</td>\n      <td>AK</td>\n      <td>...</td>\n      <td>68.083333</td>\n      <td>163.0</td>\n      <td>W</td>\n      <td>10.0</td>\n      <td>0.0</td>\n      <td>-163.166667</td>\n      <td>7/1/2007 12:00:00 AM</td>\n      <td>NaN</td>\n      <td>0</td>\n      <td>1</td>\n    </tr>\n    <tr>\n      <th>3</th>\n      <td>1000501</td>\n      <td>10005</td>\n      <td>05A</td>\n      <td>Little Squaw Airport</td>\n      <td>Little Squaw, AK</td>\n      <td>1</td>\n      <td>United States</td>\n      <td>US</td>\n      <td>Alaska</td>\n      <td>AK</td>\n      <td>...</td>\n      <td>67.570000</td>\n      <td>148.0</td>\n      <td>W</td>\n      <td>11.0</td>\n      <td>2.0</td>\n      <td>-148.183889</td>\n      <td>8/1/2007 12:00:00 AM</td>\n      <td>NaN</td>\n      <td>0</td>\n      <td>1</td>\n    </tr>\n    <tr>\n      <th>4</th>\n      <td>1000601</td>\n      <td>10006</td>\n      <td>06A</td>\n      <td>Kizhuyak Bay</td>\n      <td>Kizhuyak, AK</td>\n      <td>1</td>\n      <td>United States</td>\n      <td>US</td>\n      <td>Alaska</td>\n      <td>AK</td>\n      <td>...</td>\n      <td>57.745278</td>\n      <td>152.0</td>\n      <td>W</td>\n      <td>52.0</td>\n      <td>58.0</td>\n      <td>-152.882778</td>\n      <td>10/1/2007 12:00:00 AM</td>\n      <td>NaN</td>\n      <td>0</td>\n      <td>1</td>\n    </tr>\n    <tr>\n      <th>...</th>\n      <td>...</td>\n      <td>...</td>\n      <td>...</td>\n      <td>...</td>\n      <td>...</td>\n      <td>...</td>\n      <td>...</td>\n      <td>...</td>\n      <td>...</td>\n      <td>...</td>\n      <td>...</td>\n      <td>...</td>\n      <td>...</td>\n      <td>...</td>\n      <td>...</td>\n      <td>...</td>\n      <td>...</td>\n      <td>...</td>\n      <td>...</td>\n      <td>...</td>\n      <td>...</td>\n    </tr>\n    <tr>\n      <th>19215</th>\n      <td>1706501</td>\n      <td>17065</td>\n      <td>7FL</td>\n      <td>Wellington Aero Club</td>\n      <td>West Palm Beach, FL</td>\n      <td>33</td>\n      <td>United States</td>\n      <td>US</td>\n      <td>Florida</td>\n      <td>FL</td>\n      <td>...</td>\n      <td>26.646667</td>\n      <td>80.0</td>\n      <td>W</td>\n      <td>17.0</td>\n      <td>42.0</td>\n      <td>-80.295000</td>\n      <td>1/1/2025 12:00:00 AM</td>\n      <td>NaN</td>\n      <td>0</td>\n      <td>1</td>\n    </tr>\n    <tr>\n      <th>19216</th>\n      <td>1706601</td>\n      <td>17066</td>\n      <td>BE3</td>\n      <td>Kleine Brogel Airport</td>\n      <td>Kleine Brogel , Belgium</td>\n      <td>409</td>\n      <td>Belgium</td>\n      <td>BE</td>\n      <td>NaN</td>\n      <td>NaN</td>\n      <td>...</td>\n      <td>51.167778</td>\n      <td>5.0</td>\n      <td>E</td>\n      <td>28.0</td>\n      <td>16.0</td>\n      <td>5.471111</td>\n      <td>1/1/2025 12:00:00 AM</td>\n      <td>NaN</td>\n      <td>0</td>\n      <td>1</td>\n    </tr>\n    <tr>\n      <th>19217</th>\n      <td>1706701</td>\n      <td>17067</td>\n      <td>GOX</td>\n      <td>Manohar International</td>\n      <td>Goa, India</td>\n      <td>733</td>\n      <td>India</td>\n      <td>IN</td>\n      <td>NaN</td>\n      <td>NaN</td>\n      <td>...</td>\n      <td>15.744444</td>\n      <td>73.0</td>\n      <td>E</td>\n      <td>51.0</td>\n      <td>40.0</td>\n      <td>73.861111</td>\n      <td>1/1/2025 12:00:00 AM</td>\n      <td>NaN</td>\n      <td>0</td>\n      <td>1</td>\n    </tr>\n    <tr>\n      <th>19218</th>\n      <td>1706801</td>\n      <td>17068</td>\n      <td>HSR</td>\n      <td>Rajkot International</td>\n      <td>Rajkot, India</td>\n      <td>733</td>\n      <td>India</td>\n      <td>IN</td>\n      <td>NaN</td>\n      <td>NaN</td>\n      <td>...</td>\n      <td>22.388056</td>\n      <td>71.0</td>\n      <td>E</td>\n      <td>1.0</td>\n      <td>42.0</td>\n      <td>71.028333</td>\n      <td>10/1/2024 12:00:00 AM</td>\n      <td>NaN</td>\n      <td>0</td>\n      <td>1</td>\n    </tr>\n    <tr>\n      <th>19219</th>\n      <td>9999901</td>\n      <td>99999</td>\n      <td>ZZZ</td>\n      <td>Unknown Point in Alaska</td>\n      <td>Unknown Point in Alaska</td>\n      <td>1</td>\n      <td>United States</td>\n      <td>US</td>\n      <td>Alaska</td>\n      <td>AK</td>\n      <td>...</td>\n      <td>NaN</td>\n      <td>NaN</td>\n      <td>NaN</td>\n      <td>NaN</td>\n      <td>NaN</td>\n      <td>NaN</td>\n      <td>1/1/1950 12:00:00 AM</td>\n      <td>NaN</td>\n      <td>0</td>\n      <td>1</td>\n    </tr>\n  </tbody>\n</table>\n<p>19220 rows × 28 columns</p>\n</div>"
     },
     "execution_count": 37,
     "metadata": {},
     "output_type": "execute_result"
    }
   ],
   "source": [
    "airports"
   ],
   "metadata": {
    "collapsed": false,
    "ExecuteTime": {
     "end_time": "2025-06-07T04:45:03.944781Z",
     "start_time": "2025-06-07T04:45:03.863818Z"
    }
   },
   "id": "fc33c5b31f0715b",
   "execution_count": 37
  },
  {
   "cell_type": "code",
   "outputs": [],
   "source": [
    "farp=airports[(airports['AIRPORT_COUNTRY_CODE_ISO'] == 'US') & (airports['AIRPORT_IS_LATEST'] == 1)]"
   ],
   "metadata": {
    "collapsed": false,
    "ExecuteTime": {
     "end_time": "2025-06-07T04:46:29.372830Z",
     "start_time": "2025-06-07T04:46:29.352369Z"
    }
   },
   "id": "e60dcd14b452c720",
   "execution_count": 39
  },
  {
   "cell_type": "code",
   "outputs": [
    {
     "data": {
      "text/plain": "       AIRPORT_SEQ_ID  AIRPORT_ID AIRPORT     DISPLAY_AIRPORT_NAME  \\\n0             1000101       10001     01A     Afognak Lake Airport   \n1             1000301       10003     03A  Bear Creek Mining Strip   \n2             1000401       10004     04A          Lik Mining Camp   \n3             1000501       10005     05A     Little Squaw Airport   \n4             1000601       10006     06A             Kizhuyak Bay   \n...               ...         ...     ...                      ...   \n19212         1706201       17062     6FL        Arcadia Municipal   \n19213         1706301       17063     2OH          Richard Downing   \n19214         1706401       17064     KY8          Stanton Airport   \n19215         1706501       17065     7FL     Wellington Aero Club   \n19219         9999901       99999     ZZZ  Unknown Point in Alaska   \n\n      DISPLAY_AIRPORT_CITY_NAME_FULL  AIRPORT_WAC AIRPORT_COUNTRY_NAME  \\\n0                   Afognak Lake, AK            1        United States   \n1               Granite Mountain, AK            1        United States   \n2                            Lik, AK            1        United States   \n3                   Little Squaw, AK            1        United States   \n4                       Kizhuyak, AK            1        United States   \n...                              ...          ...                  ...   \n19212                    Arcadia, FL           33        United States   \n19213                  Coshocton, OH           44        United States   \n19214                    Stanton, KY           52        United States   \n19215            West Palm Beach, FL           33        United States   \n19219        Unknown Point in Alaska            1        United States   \n\n      AIRPORT_COUNTRY_CODE_ISO AIRPORT_STATE_NAME AIRPORT_STATE_CODE  ...  \\\n0                           US             Alaska                 AK  ...   \n1                           US             Alaska                 AK  ...   \n2                           US             Alaska                 AK  ...   \n3                           US             Alaska                 AK  ...   \n4                           US             Alaska                 AK  ...   \n...                        ...                ...                ...  ...   \n19212                       US            Florida                 FL  ...   \n19213                       US               Ohio                 OH  ...   \n19214                       US           Kentucky                 KY  ...   \n19215                       US            Florida                 FL  ...   \n19219                       US             Alaska                 AK  ...   \n\n        LATITUDE  LON_DEGREES LON_HEMISPHERE  LON_MINUTES  LON_SECONDS  \\\n0      58.109444        152.0              W         54.0         24.0   \n1      65.548056        161.0              W          4.0         18.0   \n2      68.083333        163.0              W         10.0          0.0   \n3      67.570000        148.0              W         11.0          2.0   \n4      57.745278        152.0              W         52.0         58.0   \n...          ...          ...            ...          ...          ...   \n19212  27.195278         81.0              W         50.0         18.0   \n19213  40.310278         81.0              W         51.0          9.0   \n19214  37.849722         83.0              W         50.0         45.0   \n19215  26.646667         80.0              W         17.0         42.0   \n19219        NaN          NaN            NaN          NaN          NaN   \n\n        LONGITUDE     AIRPORT_START_DATE  AIRPORT_THRU_DATE  \\\n0     -152.906667   7/1/2007 12:00:00 AM                NaN   \n1     -161.071667   7/1/2007 12:00:00 AM                NaN   \n2     -163.166667   7/1/2007 12:00:00 AM                NaN   \n3     -148.183889   8/1/2007 12:00:00 AM                NaN   \n4     -152.882778  10/1/2007 12:00:00 AM                NaN   \n...           ...                    ...                ...   \n19212  -81.838333   1/1/2025 12:00:00 AM                NaN   \n19213  -81.852500   1/1/2025 12:00:00 AM                NaN   \n19214  -83.845833   1/1/2025 12:00:00 AM                NaN   \n19215  -80.295000   1/1/2025 12:00:00 AM                NaN   \n19219         NaN   1/1/1950 12:00:00 AM                NaN   \n\n       AIRPORT_IS_CLOSED  AIRPORT_IS_LATEST  \n0                      0                  1  \n1                      0                  1  \n2                      0                  1  \n3                      0                  1  \n4                      0                  1  \n...                  ...                ...  \n19212                  0                  1  \n19213                  0                  1  \n19214                  0                  1  \n19215                  0                  1  \n19219                  0                  1  \n\n[2947 rows x 28 columns]",
      "text/html": "<div>\n<style scoped>\n    .dataframe tbody tr th:only-of-type {\n        vertical-align: middle;\n    }\n\n    .dataframe tbody tr th {\n        vertical-align: top;\n    }\n\n    .dataframe thead th {\n        text-align: right;\n    }\n</style>\n<table border=\"1\" class=\"dataframe\">\n  <thead>\n    <tr style=\"text-align: right;\">\n      <th></th>\n      <th>AIRPORT_SEQ_ID</th>\n      <th>AIRPORT_ID</th>\n      <th>AIRPORT</th>\n      <th>DISPLAY_AIRPORT_NAME</th>\n      <th>DISPLAY_AIRPORT_CITY_NAME_FULL</th>\n      <th>AIRPORT_WAC</th>\n      <th>AIRPORT_COUNTRY_NAME</th>\n      <th>AIRPORT_COUNTRY_CODE_ISO</th>\n      <th>AIRPORT_STATE_NAME</th>\n      <th>AIRPORT_STATE_CODE</th>\n      <th>...</th>\n      <th>LATITUDE</th>\n      <th>LON_DEGREES</th>\n      <th>LON_HEMISPHERE</th>\n      <th>LON_MINUTES</th>\n      <th>LON_SECONDS</th>\n      <th>LONGITUDE</th>\n      <th>AIRPORT_START_DATE</th>\n      <th>AIRPORT_THRU_DATE</th>\n      <th>AIRPORT_IS_CLOSED</th>\n      <th>AIRPORT_IS_LATEST</th>\n    </tr>\n  </thead>\n  <tbody>\n    <tr>\n      <th>0</th>\n      <td>1000101</td>\n      <td>10001</td>\n      <td>01A</td>\n      <td>Afognak Lake Airport</td>\n      <td>Afognak Lake, AK</td>\n      <td>1</td>\n      <td>United States</td>\n      <td>US</td>\n      <td>Alaska</td>\n      <td>AK</td>\n      <td>...</td>\n      <td>58.109444</td>\n      <td>152.0</td>\n      <td>W</td>\n      <td>54.0</td>\n      <td>24.0</td>\n      <td>-152.906667</td>\n      <td>7/1/2007 12:00:00 AM</td>\n      <td>NaN</td>\n      <td>0</td>\n      <td>1</td>\n    </tr>\n    <tr>\n      <th>1</th>\n      <td>1000301</td>\n      <td>10003</td>\n      <td>03A</td>\n      <td>Bear Creek Mining Strip</td>\n      <td>Granite Mountain, AK</td>\n      <td>1</td>\n      <td>United States</td>\n      <td>US</td>\n      <td>Alaska</td>\n      <td>AK</td>\n      <td>...</td>\n      <td>65.548056</td>\n      <td>161.0</td>\n      <td>W</td>\n      <td>4.0</td>\n      <td>18.0</td>\n      <td>-161.071667</td>\n      <td>7/1/2007 12:00:00 AM</td>\n      <td>NaN</td>\n      <td>0</td>\n      <td>1</td>\n    </tr>\n    <tr>\n      <th>2</th>\n      <td>1000401</td>\n      <td>10004</td>\n      <td>04A</td>\n      <td>Lik Mining Camp</td>\n      <td>Lik, AK</td>\n      <td>1</td>\n      <td>United States</td>\n      <td>US</td>\n      <td>Alaska</td>\n      <td>AK</td>\n      <td>...</td>\n      <td>68.083333</td>\n      <td>163.0</td>\n      <td>W</td>\n      <td>10.0</td>\n      <td>0.0</td>\n      <td>-163.166667</td>\n      <td>7/1/2007 12:00:00 AM</td>\n      <td>NaN</td>\n      <td>0</td>\n      <td>1</td>\n    </tr>\n    <tr>\n      <th>3</th>\n      <td>1000501</td>\n      <td>10005</td>\n      <td>05A</td>\n      <td>Little Squaw Airport</td>\n      <td>Little Squaw, AK</td>\n      <td>1</td>\n      <td>United States</td>\n      <td>US</td>\n      <td>Alaska</td>\n      <td>AK</td>\n      <td>...</td>\n      <td>67.570000</td>\n      <td>148.0</td>\n      <td>W</td>\n      <td>11.0</td>\n      <td>2.0</td>\n      <td>-148.183889</td>\n      <td>8/1/2007 12:00:00 AM</td>\n      <td>NaN</td>\n      <td>0</td>\n      <td>1</td>\n    </tr>\n    <tr>\n      <th>4</th>\n      <td>1000601</td>\n      <td>10006</td>\n      <td>06A</td>\n      <td>Kizhuyak Bay</td>\n      <td>Kizhuyak, AK</td>\n      <td>1</td>\n      <td>United States</td>\n      <td>US</td>\n      <td>Alaska</td>\n      <td>AK</td>\n      <td>...</td>\n      <td>57.745278</td>\n      <td>152.0</td>\n      <td>W</td>\n      <td>52.0</td>\n      <td>58.0</td>\n      <td>-152.882778</td>\n      <td>10/1/2007 12:00:00 AM</td>\n      <td>NaN</td>\n      <td>0</td>\n      <td>1</td>\n    </tr>\n    <tr>\n      <th>...</th>\n      <td>...</td>\n      <td>...</td>\n      <td>...</td>\n      <td>...</td>\n      <td>...</td>\n      <td>...</td>\n      <td>...</td>\n      <td>...</td>\n      <td>...</td>\n      <td>...</td>\n      <td>...</td>\n      <td>...</td>\n      <td>...</td>\n      <td>...</td>\n      <td>...</td>\n      <td>...</td>\n      <td>...</td>\n      <td>...</td>\n      <td>...</td>\n      <td>...</td>\n      <td>...</td>\n    </tr>\n    <tr>\n      <th>19212</th>\n      <td>1706201</td>\n      <td>17062</td>\n      <td>6FL</td>\n      <td>Arcadia Municipal</td>\n      <td>Arcadia, FL</td>\n      <td>33</td>\n      <td>United States</td>\n      <td>US</td>\n      <td>Florida</td>\n      <td>FL</td>\n      <td>...</td>\n      <td>27.195278</td>\n      <td>81.0</td>\n      <td>W</td>\n      <td>50.0</td>\n      <td>18.0</td>\n      <td>-81.838333</td>\n      <td>1/1/2025 12:00:00 AM</td>\n      <td>NaN</td>\n      <td>0</td>\n      <td>1</td>\n    </tr>\n    <tr>\n      <th>19213</th>\n      <td>1706301</td>\n      <td>17063</td>\n      <td>2OH</td>\n      <td>Richard Downing</td>\n      <td>Coshocton, OH</td>\n      <td>44</td>\n      <td>United States</td>\n      <td>US</td>\n      <td>Ohio</td>\n      <td>OH</td>\n      <td>...</td>\n      <td>40.310278</td>\n      <td>81.0</td>\n      <td>W</td>\n      <td>51.0</td>\n      <td>9.0</td>\n      <td>-81.852500</td>\n      <td>1/1/2025 12:00:00 AM</td>\n      <td>NaN</td>\n      <td>0</td>\n      <td>1</td>\n    </tr>\n    <tr>\n      <th>19214</th>\n      <td>1706401</td>\n      <td>17064</td>\n      <td>KY8</td>\n      <td>Stanton Airport</td>\n      <td>Stanton, KY</td>\n      <td>52</td>\n      <td>United States</td>\n      <td>US</td>\n      <td>Kentucky</td>\n      <td>KY</td>\n      <td>...</td>\n      <td>37.849722</td>\n      <td>83.0</td>\n      <td>W</td>\n      <td>50.0</td>\n      <td>45.0</td>\n      <td>-83.845833</td>\n      <td>1/1/2025 12:00:00 AM</td>\n      <td>NaN</td>\n      <td>0</td>\n      <td>1</td>\n    </tr>\n    <tr>\n      <th>19215</th>\n      <td>1706501</td>\n      <td>17065</td>\n      <td>7FL</td>\n      <td>Wellington Aero Club</td>\n      <td>West Palm Beach, FL</td>\n      <td>33</td>\n      <td>United States</td>\n      <td>US</td>\n      <td>Florida</td>\n      <td>FL</td>\n      <td>...</td>\n      <td>26.646667</td>\n      <td>80.0</td>\n      <td>W</td>\n      <td>17.0</td>\n      <td>42.0</td>\n      <td>-80.295000</td>\n      <td>1/1/2025 12:00:00 AM</td>\n      <td>NaN</td>\n      <td>0</td>\n      <td>1</td>\n    </tr>\n    <tr>\n      <th>19219</th>\n      <td>9999901</td>\n      <td>99999</td>\n      <td>ZZZ</td>\n      <td>Unknown Point in Alaska</td>\n      <td>Unknown Point in Alaska</td>\n      <td>1</td>\n      <td>United States</td>\n      <td>US</td>\n      <td>Alaska</td>\n      <td>AK</td>\n      <td>...</td>\n      <td>NaN</td>\n      <td>NaN</td>\n      <td>NaN</td>\n      <td>NaN</td>\n      <td>NaN</td>\n      <td>NaN</td>\n      <td>1/1/1950 12:00:00 AM</td>\n      <td>NaN</td>\n      <td>0</td>\n      <td>1</td>\n    </tr>\n  </tbody>\n</table>\n<p>2947 rows × 28 columns</p>\n</div>"
     },
     "execution_count": 40,
     "metadata": {},
     "output_type": "execute_result"
    }
   ],
   "source": [
    "farp"
   ],
   "metadata": {
    "collapsed": false,
    "ExecuteTime": {
     "end_time": "2025-06-07T04:46:33.590699Z",
     "start_time": "2025-06-07T04:46:33.540866Z"
    }
   },
   "id": "a8e9e8560f812161",
   "execution_count": 40
  },
  {
   "cell_type": "code",
   "outputs": [
    {
     "data": {
      "text/plain": "array(['United States'], dtype=object)"
     },
     "execution_count": 43,
     "metadata": {},
     "output_type": "execute_result"
    }
   ],
   "source": [
    "pd.unique(farp['AIRPORT_COUNTRY_NAME'])"
   ],
   "metadata": {
    "collapsed": false,
    "ExecuteTime": {
     "end_time": "2025-06-07T04:55:38.989483Z",
     "start_time": "2025-06-07T04:55:38.975179Z"
    }
   },
   "id": "febab595bbd071fd",
   "execution_count": 43
  },
  {
   "cell_type": "code",
   "outputs": [],
   "source": [
    "farp_n=farp[farp['LATITUDE'].isna()==False]"
   ],
   "metadata": {
    "collapsed": false,
    "ExecuteTime": {
     "end_time": "2025-06-07T05:07:51.626354Z",
     "start_time": "2025-06-07T05:07:51.526340Z"
    }
   },
   "id": "920b3732bf64a2f7",
   "execution_count": 44
  },
  {
   "cell_type": "code",
   "outputs": [
    {
     "data": {
      "text/plain": "       AIRPORT_SEQ_ID  AIRPORT_ID AIRPORT                DISPLAY_AIRPORT_NAME  \\\n0             1000101       10001     01A                Afognak Lake Airport   \n1             1000301       10003     03A             Bear Creek Mining Strip   \n2             1000401       10004     04A                     Lik Mining Camp   \n3             1000501       10005     05A                Little Squaw Airport   \n4             1000601       10006     06A                        Kizhuyak Bay   \n...               ...         ...     ...                                 ...   \n19210         1706001       17060     7CA  Lincoln Regional Karl Harder Field   \n19212         1706201       17062     6FL                   Arcadia Municipal   \n19213         1706301       17063     2OH                     Richard Downing   \n19214         1706401       17064     KY8                     Stanton Airport   \n19215         1706501       17065     7FL                Wellington Aero Club   \n\n      DISPLAY_AIRPORT_CITY_NAME_FULL  AIRPORT_WAC AIRPORT_COUNTRY_NAME  \\\n0                   Afognak Lake, AK            1        United States   \n1               Granite Mountain, AK            1        United States   \n2                            Lik, AK            1        United States   \n3                   Little Squaw, AK            1        United States   \n4                       Kizhuyak, AK            1        United States   \n...                              ...          ...                  ...   \n19210                    Lincoln, CA           91        United States   \n19212                    Arcadia, FL           33        United States   \n19213                  Coshocton, OH           44        United States   \n19214                    Stanton, KY           52        United States   \n19215            West Palm Beach, FL           33        United States   \n\n      AIRPORT_COUNTRY_CODE_ISO AIRPORT_STATE_NAME AIRPORT_STATE_CODE  ...  \\\n0                           US             Alaska                 AK  ...   \n1                           US             Alaska                 AK  ...   \n2                           US             Alaska                 AK  ...   \n3                           US             Alaska                 AK  ...   \n4                           US             Alaska                 AK  ...   \n...                        ...                ...                ...  ...   \n19210                       US         California                 CA  ...   \n19212                       US            Florida                 FL  ...   \n19213                       US               Ohio                 OH  ...   \n19214                       US           Kentucky                 KY  ...   \n19215                       US            Florida                 FL  ...   \n\n        LATITUDE  LON_DEGREES LON_HEMISPHERE  LON_MINUTES  LON_SECONDS  \\\n0      58.109444        152.0              W         54.0         24.0   \n1      65.548056        161.0              W          4.0         18.0   \n2      68.083333        163.0              W         10.0          0.0   \n3      67.570000        148.0              W         11.0          2.0   \n4      57.745278        152.0              W         52.0         58.0   \n...          ...          ...            ...          ...          ...   \n19210  38.909167        121.0              W         21.0          5.0   \n19212  27.195278         81.0              W         50.0         18.0   \n19213  40.310278         81.0              W         51.0          9.0   \n19214  37.849722         83.0              W         50.0         45.0   \n19215  26.646667         80.0              W         17.0         42.0   \n\n        LONGITUDE     AIRPORT_START_DATE  AIRPORT_THRU_DATE  \\\n0     -152.906667   7/1/2007 12:00:00 AM                NaN   \n1     -161.071667   7/1/2007 12:00:00 AM                NaN   \n2     -163.166667   7/1/2007 12:00:00 AM                NaN   \n3     -148.183889   8/1/2007 12:00:00 AM                NaN   \n4     -152.882778  10/1/2007 12:00:00 AM                NaN   \n...           ...                    ...                ...   \n19210 -121.351389   9/1/2024 12:00:00 AM                NaN   \n19212  -81.838333   1/1/2025 12:00:00 AM                NaN   \n19213  -81.852500   1/1/2025 12:00:00 AM                NaN   \n19214  -83.845833   1/1/2025 12:00:00 AM                NaN   \n19215  -80.295000   1/1/2025 12:00:00 AM                NaN   \n\n       AIRPORT_IS_CLOSED  AIRPORT_IS_LATEST  \n0                      0                  1  \n1                      0                  1  \n2                      0                  1  \n3                      0                  1  \n4                      0                  1  \n...                  ...                ...  \n19210                  0                  1  \n19212                  0                  1  \n19213                  0                  1  \n19214                  0                  1  \n19215                  0                  1  \n\n[2946 rows x 28 columns]",
      "text/html": "<div>\n<style scoped>\n    .dataframe tbody tr th:only-of-type {\n        vertical-align: middle;\n    }\n\n    .dataframe tbody tr th {\n        vertical-align: top;\n    }\n\n    .dataframe thead th {\n        text-align: right;\n    }\n</style>\n<table border=\"1\" class=\"dataframe\">\n  <thead>\n    <tr style=\"text-align: right;\">\n      <th></th>\n      <th>AIRPORT_SEQ_ID</th>\n      <th>AIRPORT_ID</th>\n      <th>AIRPORT</th>\n      <th>DISPLAY_AIRPORT_NAME</th>\n      <th>DISPLAY_AIRPORT_CITY_NAME_FULL</th>\n      <th>AIRPORT_WAC</th>\n      <th>AIRPORT_COUNTRY_NAME</th>\n      <th>AIRPORT_COUNTRY_CODE_ISO</th>\n      <th>AIRPORT_STATE_NAME</th>\n      <th>AIRPORT_STATE_CODE</th>\n      <th>...</th>\n      <th>LATITUDE</th>\n      <th>LON_DEGREES</th>\n      <th>LON_HEMISPHERE</th>\n      <th>LON_MINUTES</th>\n      <th>LON_SECONDS</th>\n      <th>LONGITUDE</th>\n      <th>AIRPORT_START_DATE</th>\n      <th>AIRPORT_THRU_DATE</th>\n      <th>AIRPORT_IS_CLOSED</th>\n      <th>AIRPORT_IS_LATEST</th>\n    </tr>\n  </thead>\n  <tbody>\n    <tr>\n      <th>0</th>\n      <td>1000101</td>\n      <td>10001</td>\n      <td>01A</td>\n      <td>Afognak Lake Airport</td>\n      <td>Afognak Lake, AK</td>\n      <td>1</td>\n      <td>United States</td>\n      <td>US</td>\n      <td>Alaska</td>\n      <td>AK</td>\n      <td>...</td>\n      <td>58.109444</td>\n      <td>152.0</td>\n      <td>W</td>\n      <td>54.0</td>\n      <td>24.0</td>\n      <td>-152.906667</td>\n      <td>7/1/2007 12:00:00 AM</td>\n      <td>NaN</td>\n      <td>0</td>\n      <td>1</td>\n    </tr>\n    <tr>\n      <th>1</th>\n      <td>1000301</td>\n      <td>10003</td>\n      <td>03A</td>\n      <td>Bear Creek Mining Strip</td>\n      <td>Granite Mountain, AK</td>\n      <td>1</td>\n      <td>United States</td>\n      <td>US</td>\n      <td>Alaska</td>\n      <td>AK</td>\n      <td>...</td>\n      <td>65.548056</td>\n      <td>161.0</td>\n      <td>W</td>\n      <td>4.0</td>\n      <td>18.0</td>\n      <td>-161.071667</td>\n      <td>7/1/2007 12:00:00 AM</td>\n      <td>NaN</td>\n      <td>0</td>\n      <td>1</td>\n    </tr>\n    <tr>\n      <th>2</th>\n      <td>1000401</td>\n      <td>10004</td>\n      <td>04A</td>\n      <td>Lik Mining Camp</td>\n      <td>Lik, AK</td>\n      <td>1</td>\n      <td>United States</td>\n      <td>US</td>\n      <td>Alaska</td>\n      <td>AK</td>\n      <td>...</td>\n      <td>68.083333</td>\n      <td>163.0</td>\n      <td>W</td>\n      <td>10.0</td>\n      <td>0.0</td>\n      <td>-163.166667</td>\n      <td>7/1/2007 12:00:00 AM</td>\n      <td>NaN</td>\n      <td>0</td>\n      <td>1</td>\n    </tr>\n    <tr>\n      <th>3</th>\n      <td>1000501</td>\n      <td>10005</td>\n      <td>05A</td>\n      <td>Little Squaw Airport</td>\n      <td>Little Squaw, AK</td>\n      <td>1</td>\n      <td>United States</td>\n      <td>US</td>\n      <td>Alaska</td>\n      <td>AK</td>\n      <td>...</td>\n      <td>67.570000</td>\n      <td>148.0</td>\n      <td>W</td>\n      <td>11.0</td>\n      <td>2.0</td>\n      <td>-148.183889</td>\n      <td>8/1/2007 12:00:00 AM</td>\n      <td>NaN</td>\n      <td>0</td>\n      <td>1</td>\n    </tr>\n    <tr>\n      <th>4</th>\n      <td>1000601</td>\n      <td>10006</td>\n      <td>06A</td>\n      <td>Kizhuyak Bay</td>\n      <td>Kizhuyak, AK</td>\n      <td>1</td>\n      <td>United States</td>\n      <td>US</td>\n      <td>Alaska</td>\n      <td>AK</td>\n      <td>...</td>\n      <td>57.745278</td>\n      <td>152.0</td>\n      <td>W</td>\n      <td>52.0</td>\n      <td>58.0</td>\n      <td>-152.882778</td>\n      <td>10/1/2007 12:00:00 AM</td>\n      <td>NaN</td>\n      <td>0</td>\n      <td>1</td>\n    </tr>\n    <tr>\n      <th>...</th>\n      <td>...</td>\n      <td>...</td>\n      <td>...</td>\n      <td>...</td>\n      <td>...</td>\n      <td>...</td>\n      <td>...</td>\n      <td>...</td>\n      <td>...</td>\n      <td>...</td>\n      <td>...</td>\n      <td>...</td>\n      <td>...</td>\n      <td>...</td>\n      <td>...</td>\n      <td>...</td>\n      <td>...</td>\n      <td>...</td>\n      <td>...</td>\n      <td>...</td>\n      <td>...</td>\n    </tr>\n    <tr>\n      <th>19210</th>\n      <td>1706001</td>\n      <td>17060</td>\n      <td>7CA</td>\n      <td>Lincoln Regional Karl Harder Field</td>\n      <td>Lincoln, CA</td>\n      <td>91</td>\n      <td>United States</td>\n      <td>US</td>\n      <td>California</td>\n      <td>CA</td>\n      <td>...</td>\n      <td>38.909167</td>\n      <td>121.0</td>\n      <td>W</td>\n      <td>21.0</td>\n      <td>5.0</td>\n      <td>-121.351389</td>\n      <td>9/1/2024 12:00:00 AM</td>\n      <td>NaN</td>\n      <td>0</td>\n      <td>1</td>\n    </tr>\n    <tr>\n      <th>19212</th>\n      <td>1706201</td>\n      <td>17062</td>\n      <td>6FL</td>\n      <td>Arcadia Municipal</td>\n      <td>Arcadia, FL</td>\n      <td>33</td>\n      <td>United States</td>\n      <td>US</td>\n      <td>Florida</td>\n      <td>FL</td>\n      <td>...</td>\n      <td>27.195278</td>\n      <td>81.0</td>\n      <td>W</td>\n      <td>50.0</td>\n      <td>18.0</td>\n      <td>-81.838333</td>\n      <td>1/1/2025 12:00:00 AM</td>\n      <td>NaN</td>\n      <td>0</td>\n      <td>1</td>\n    </tr>\n    <tr>\n      <th>19213</th>\n      <td>1706301</td>\n      <td>17063</td>\n      <td>2OH</td>\n      <td>Richard Downing</td>\n      <td>Coshocton, OH</td>\n      <td>44</td>\n      <td>United States</td>\n      <td>US</td>\n      <td>Ohio</td>\n      <td>OH</td>\n      <td>...</td>\n      <td>40.310278</td>\n      <td>81.0</td>\n      <td>W</td>\n      <td>51.0</td>\n      <td>9.0</td>\n      <td>-81.852500</td>\n      <td>1/1/2025 12:00:00 AM</td>\n      <td>NaN</td>\n      <td>0</td>\n      <td>1</td>\n    </tr>\n    <tr>\n      <th>19214</th>\n      <td>1706401</td>\n      <td>17064</td>\n      <td>KY8</td>\n      <td>Stanton Airport</td>\n      <td>Stanton, KY</td>\n      <td>52</td>\n      <td>United States</td>\n      <td>US</td>\n      <td>Kentucky</td>\n      <td>KY</td>\n      <td>...</td>\n      <td>37.849722</td>\n      <td>83.0</td>\n      <td>W</td>\n      <td>50.0</td>\n      <td>45.0</td>\n      <td>-83.845833</td>\n      <td>1/1/2025 12:00:00 AM</td>\n      <td>NaN</td>\n      <td>0</td>\n      <td>1</td>\n    </tr>\n    <tr>\n      <th>19215</th>\n      <td>1706501</td>\n      <td>17065</td>\n      <td>7FL</td>\n      <td>Wellington Aero Club</td>\n      <td>West Palm Beach, FL</td>\n      <td>33</td>\n      <td>United States</td>\n      <td>US</td>\n      <td>Florida</td>\n      <td>FL</td>\n      <td>...</td>\n      <td>26.646667</td>\n      <td>80.0</td>\n      <td>W</td>\n      <td>17.0</td>\n      <td>42.0</td>\n      <td>-80.295000</td>\n      <td>1/1/2025 12:00:00 AM</td>\n      <td>NaN</td>\n      <td>0</td>\n      <td>1</td>\n    </tr>\n  </tbody>\n</table>\n<p>2946 rows × 28 columns</p>\n</div>"
     },
     "execution_count": 45,
     "metadata": {},
     "output_type": "execute_result"
    }
   ],
   "source": [
    "farp_n"
   ],
   "metadata": {
    "collapsed": false,
    "ExecuteTime": {
     "end_time": "2025-06-07T05:07:58.218007Z",
     "start_time": "2025-06-07T05:07:58.176214Z"
    }
   },
   "id": "246bbc8ecda80e8b",
   "execution_count": 45
  },
  {
   "cell_type": "code",
   "outputs": [],
   "source": [
    "farp_n.to_csv('C:\\\\Users\\DELL\\Downloads\\\\farp.csv', index=False)\n"
   ],
   "metadata": {
    "collapsed": false,
    "ExecuteTime": {
     "end_time": "2025-06-07T05:18:43.074039Z",
     "start_time": "2025-06-07T05:18:42.919009Z"
    }
   },
   "id": "3e80c38a847e9a63",
   "execution_count": 47
  },
  {
   "cell_type": "code",
   "outputs": [],
   "source": [],
   "metadata": {
    "collapsed": false
   },
   "id": "37af13b5a3397838"
  }
 ],
 "metadata": {
  "kernelspec": {
   "display_name": "Python 3",
   "language": "python",
   "name": "python3"
  },
  "language_info": {
   "codemirror_mode": {
    "name": "ipython",
    "version": 2
   },
   "file_extension": ".py",
   "mimetype": "text/x-python",
   "name": "python",
   "nbconvert_exporter": "python",
   "pygments_lexer": "ipython2",
   "version": "2.7.6"
  }
 },
 "nbformat": 4,
 "nbformat_minor": 5
}
